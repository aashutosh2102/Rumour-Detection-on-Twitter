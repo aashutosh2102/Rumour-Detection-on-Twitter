{
 "cells": [
  {
   "cell_type": "code",
   "execution_count": 14,
   "metadata": {},
   "outputs": [
    {
     "name": "stdout",
     "output_type": "stream",
     "text": "C:\\Users\\Rohan Mishra\\Desktop\\semeval2017-task8-dataset\\rumoureval-data\n"
    }
   ],
   "source": [
    "import os\n",
    "import json\n",
    "from csv import writer\n",
    "path=r\"C:\\Users\\Rohan Mishra\\Desktop\\semeval2017-task8-dataset\\rumoureval-data\"\n",
    "directory=path\n",
    "os.chdir(directory)\n",
    "print(os.getcwd())"
   ]
  },
  {
   "cell_type": "code",
   "execution_count": 15,
   "metadata": {},
   "outputs": [
    {
     "name": "stdout",
     "output_type": "stream",
     "text": "['.\\\\charliehebdo', '.\\\\ebola-essien', '.\\\\ferguson', '.\\\\germanwings-crash', '.\\\\ottawashooting', '.\\\\prince-toronto', '.\\\\putinmissing', '.\\\\sydneysiege']\n"
    }
   ],
   "source": [
    "DataDir=dict()\n",
    "d='.'\n",
    "#tweetDir=[x[0] for x in os.walk(d)] #gets all directories, sub directories and files\n",
    "eventDir=[os.path.join(d,o) for o in os.listdir(d) if os.path.isdir(os.path.join(d,o))]\n",
    "print(eventDir)"
   ]
  },
  {
   "cell_type": "code",
   "execution_count": 16,
   "metadata": {},
   "outputs": [],
   "source": [
    "for x in range(len(eventDir)):\n",
    "    eventDir[x]=eventDir[x][2:]"
   ]
  },
  {
   "cell_type": "code",
   "execution_count": 17,
   "metadata": {},
   "outputs": [
    {
     "name": "stdout",
     "output_type": "stream",
     "text": "C:\\Users\\Rohan Mishra\\Desktop\\semeval2017-task8-dataset\\rumoureval-data\\charliehebdo\nC:\\Users\\Rohan Mishra\\Desktop\\semeval2017-task8-dataset\\rumoureval-data\\ebola-essien\nC:\\Users\\Rohan Mishra\\Desktop\\semeval2017-task8-dataset\\rumoureval-data\\ferguson\nC:\\Users\\Rohan Mishra\\Desktop\\semeval2017-task8-dataset\\rumoureval-data\\germanwings-crash\nC:\\Users\\Rohan Mishra\\Desktop\\semeval2017-task8-dataset\\rumoureval-data\\ottawashooting\nC:\\Users\\Rohan Mishra\\Desktop\\semeval2017-task8-dataset\\rumoureval-data\\prince-toronto\nC:\\Users\\Rohan Mishra\\Desktop\\semeval2017-task8-dataset\\rumoureval-data\\putinmissing\nC:\\Users\\Rohan Mishra\\Desktop\\semeval2017-task8-dataset\\rumoureval-data\\sydneysiege\n"
    }
   ],
   "source": [
    "for event in eventDir:\n",
    "    newDir=directory+\"/\"+event\n",
    "    #print(newDir)\n",
    "    os.chdir(newDir)\n",
    "    print(os.getcwd())\n",
    "    tweetDir=[os.path.join(d,o) for o in os.listdir(d) if os.path.isdir(os.path.join(d,o))]\n",
    "    for x in range(len(tweetDir)):\n",
    "        tweetDir[x]=tweetDir[x][2:]\n",
    "    DataDir[event]=tweetDir"
   ]
  },
  {
   "cell_type": "code",
   "execution_count": 18,
   "metadata": {},
   "outputs": [
    {
     "name": "stdout",
     "output_type": "stream",
     "text": "297\n"
    }
   ],
   "source": [
    "tweets=list()  \n",
    "for key in DataDir:\n",
    "    for x in range(len(DataDir[key])):\n",
    "        newDir=directory+\"/\"+key+\"/\"+DataDir[key][x]+\"/\"+\"source-tweet\"\n",
    "        os.chdir(newDir)\n",
    "        fileName=DataDir[key][x]+\".json\"\n",
    "        with open(fileName) as data_file:    \n",
    "            line = data_file.readline() # read only the first tweet/line\n",
    "            tweet = json.loads(line) # load it as Python dict\n",
    "            #print(json.dumps(tweet, indent=4)) # pretty-print\n",
    "        tweets.append(tweet)\n",
    "        #print(data)\n",
    "        #print(os.getcwd())\n",
    "print(len(tweets))"
   ]
  },
  {
   "cell_type": "code",
   "execution_count": 0,
   "metadata": {},
   "outputs": [],
   "source": [
    "\n",
    "tweets[4]"
   ]
  },
  {
   "cell_type": "code",
   "execution_count": 19,
   "metadata": {},
   "outputs": [
    {
     "name": "stdout",
     "output_type": "stream",
     "text": "272\n"
    },
    {
     "data": {
      "text/plain": "25"
     },
     "execution_count": 19,
     "metadata": {},
     "output_type": "execute_result"
    }
   ],
   "source": [
    "path=r\"C:\\Users\\Rohan Mishra\\Desktop\\semeval2017-task8-dataset\\traindev\"\n",
    "labelDir=path\n",
    "os.chdir(labelDir)\n",
    "with open(\"rumoureval-subtaskB-train.json\") as data_file:    \n",
    "    line = data_file.readline() # read only the first tweet/line\n",
    "    label = json.loads(line)\n",
    "\n",
    "with open(\"rumoureval-subtaskB-dev.json\") as data_file:    \n",
    "    line = data_file.readline() # read only the first tweet/line\n",
    "    testlabel = json.loads(line)\n",
    "\n",
    "print(len(label))\n",
    "len(testlabel)"
   ]
  },
  {
   "cell_type": "code",
   "execution_count": 20,
   "metadata": {},
   "outputs": [],
   "source": [
    "for key in label.keys():\n",
    "    if label[key]==\"unverified\":\n",
    "        label[key]=\"true\"\n",
    "\n",
    "for key in testlabel.keys():\n",
    "    if testlabel[key]==\"unverified\":\n",
    "        testlabel[key]=\"true\""
   ]
  },
  {
   "cell_type": "code",
   "execution_count": 21,
   "metadata": {},
   "outputs": [],
   "source": [
    "dataFrame = {'tweet_id':[], 'tweet_time':[], 'text': [], 'retweet_count':[], 'favorite_count':[],\n",
    "             'hashtags':[], 'hashtag_indices':[], 'user_mentions':[], 'user_mention_indices':[], 'screen_name': [], 'url':[], \n",
    "             'created_at': [], 'user_favorite_count': [], 'friends_count': [], 'followers_count': [],'statuses_count':[], 'label':[]}\n",
    "\n",
    "testdataFrame = {'tweet_id':[], 'tweet_time':[], 'text': [], 'retweet_count':[], 'favorite_count':[],\n",
    "             'hashtags':[], 'hashtag_indices':[], 'user_mentions':[], 'user_mention_indices':[], 'screen_name': [], 'url':[],\n",
    "             'created_at': [], 'user_favorite_count': [], 'friends_count': [], 'followers_count': [],'statuses_count':[], 'label':[]}"
   ]
  },
  {
   "cell_type": "code",
   "execution_count": 22,
   "metadata": {},
   "outputs": [],
   "source": [
    "for t in tweets:\n",
    "    if t['id_str'] in label.keys():\n",
    "        dataFrame['label'].append(label[t['id_str']])\n",
    "        hashtags=[]\n",
    "        hashtagIndices=[]\n",
    "        userMention=[]\n",
    "        userMentionIndices=[]\n",
    "        url=[]\n",
    "        dataFrame['tweet_id'].append(t['id'])\n",
    "        dataFrame['tweet_time'].append(t['created_at'])\n",
    "        dataFrame['text'].append(t['text'])\n",
    "        dataFrame['retweet_count'].append(t['retweet_count'])\n",
    "        dataFrame['favorite_count'].append(t['favorite_count'])\n",
    "        for item in t['entities']['hashtags']:\n",
    "            hashtags.append(item['text'])\n",
    "            hashtagIndices.append(item['indices'][0])\n",
    "        dataFrame['hashtags'].append(hashtags)\n",
    "        dataFrame['hashtag_indices'].append(hashtagIndices)\n",
    "        for item in t['entities']['user_mentions']:\n",
    "            userMention.append(item['name'])\n",
    "            userMentionIndices.append(item['indices'][0])\n",
    "        dataFrame['user_mentions'].append(userMention)\n",
    "        for item in t['entities']['urls']:\n",
    "            url.append(item['url'])\n",
    "        dataFrame['url'].append(url)\n",
    "        dataFrame['user_mention_indices'].append(userMentionIndices)\n",
    "        dataFrame['screen_name'].append(t['user']['screen_name'])\n",
    "        dataFrame['created_at'].append(t['user']['created_at'])\n",
    "        dataFrame['user_favorite_count'].append(t['user']['favourites_count'])\n",
    "        dataFrame['friends_count'].append(t['user']['friends_count'])\n",
    "        dataFrame['followers_count'].append(t['user']['followers_count'])\n",
    "        dataFrame['statuses_count'].append(t['user']['statuses_count'])\n",
    "    else:\n",
    "        testdataFrame['label'].append(testlabel[t['id_str']])\n",
    "        hashtags=[]\n",
    "        hashtagIndices=[]\n",
    "        userMention=[]\n",
    "        userMentionIndices=[]\n",
    "        url=[]\n",
    "        testdataFrame['tweet_id'].append(t['id'])\n",
    "        testdataFrame['tweet_time'].append(t['created_at'])\n",
    "        testdataFrame['text'].append(t['text'])\n",
    "        testdataFrame['retweet_count'].append(t['retweet_count'])\n",
    "        testdataFrame['favorite_count'].append(t['favorite_count'])\n",
    "        for item in t['entities']['hashtags']:\n",
    "            hashtags.append(item['text'])\n",
    "            hashtagIndices.append(item['indices'][0])\n",
    "        testdataFrame['hashtags'].append(hashtags)\n",
    "        testdataFrame['hashtag_indices'].append(hashtagIndices)\n",
    "        for item in t['entities']['user_mentions']:\n",
    "            userMention.append(item['name'])\n",
    "            userMentionIndices.append(item['indices'][0])\n",
    "        testdataFrame['user_mentions'].append(userMention)\n",
    "        for item in t['entities']['urls']:\n",
    "            url.append(item['url'])\n",
    "        testdataFrame['url'].append(url)\n",
    "        testdataFrame['user_mention_indices'].append(userMentionIndices)\n",
    "        testdataFrame['screen_name'].append(t['user']['screen_name'])\n",
    "        testdataFrame['created_at'].append(t['user']['created_at'])\n",
    "        testdataFrame['user_favorite_count'].append(t['user']['favourites_count'])\n",
    "        testdataFrame['friends_count'].append(t['user']['friends_count'])\n",
    "        testdataFrame['followers_count'].append(t['user']['followers_count'])\n",
    "        testdataFrame['statuses_count'].append(t['user']['statuses_count'])"
   ]
  },
  {
   "cell_type": "code",
   "execution_count": 23,
   "metadata": {},
   "outputs": [],
   "source": [
    "import pandas as pd\n",
    "df = pd.DataFrame(dataFrame)\n",
    "dfTest=pd.DataFrame(testdataFrame)"
   ]
  },
  {
   "cell_type": "code",
   "execution_count": 24,
   "metadata": {},
   "outputs": [],
   "source": [
    "df['tweet_time'] = pd.to_datetime(df['tweet_time'])\n",
    "df['created_at'] = pd.to_datetime(df['created_at'])\n",
    "dfTest['tweet_time'] = pd.to_datetime(dfTest['tweet_time'])\n",
    "dfTest['created_at'] = pd.to_datetime(dfTest['created_at'])"
   ]
  },
  {
   "cell_type": "code",
   "execution_count": 25,
   "metadata": {},
   "outputs": [
    {
     "data": {
      "text/html": "<div>\n<style scoped>\n    .dataframe tbody tr th:only-of-type {\n        vertical-align: middle;\n    }\n\n    .dataframe tbody tr th {\n        vertical-align: top;\n    }\n\n    .dataframe thead th {\n        text-align: right;\n    }\n</style>\n<table border=\"1\" class=\"dataframe\">\n  <thead>\n    <tr style=\"text-align: right;\">\n      <th></th>\n      <th>tweet_id</th>\n      <th>tweet_time</th>\n      <th>text</th>\n      <th>retweet_count</th>\n      <th>favorite_count</th>\n      <th>hashtags</th>\n      <th>hashtag_indices</th>\n      <th>user_mentions</th>\n      <th>user_mention_indices</th>\n      <th>screen_name</th>\n      <th>url</th>\n      <th>created_at</th>\n      <th>user_favorite_count</th>\n      <th>friends_count</th>\n      <th>followers_count</th>\n      <th>statuses_count</th>\n      <th>label</th>\n    </tr>\n  </thead>\n  <tbody>\n    <tr>\n      <td>0</td>\n      <td>552783667052167168</td>\n      <td>2015-01-07 11:07:51+00:00</td>\n      <td>France: 10 people dead after shooting at HQ of...</td>\n      <td>486</td>\n      <td>38</td>\n      <td>[CharlieHebdo]</td>\n      <td>[74]</td>\n      <td>[]</td>\n      <td>[]</td>\n      <td>euronews</td>\n      <td>[]</td>\n      <td>2009-03-18 12:57:11+00:00</td>\n      <td>615</td>\n      <td>337</td>\n      <td>129573</td>\n      <td>48440</td>\n      <td>true</td>\n    </tr>\n    <tr>\n      <td>1</td>\n      <td>552785375161499649</td>\n      <td>2015-01-07 11:14:38+00:00</td>\n      <td>BREAKING: 10 reportedly shot dead at Paris HQ ...</td>\n      <td>128</td>\n      <td>5</td>\n      <td>[]</td>\n      <td>[]</td>\n      <td>[]</td>\n      <td>[]</td>\n      <td>Independent</td>\n      <td>[http://t.co/5F1DOwzoCQ]</td>\n      <td>2008-10-26 00:00:29+00:00</td>\n      <td>39</td>\n      <td>1763</td>\n      <td>972167</td>\n      <td>123899</td>\n      <td>true</td>\n    </tr>\n    <tr>\n      <td>2</td>\n      <td>552791196247269378</td>\n      <td>2015-01-07 11:37:46+00:00</td>\n      <td>BREAKING: At least 10 killed in shooting at Fr...</td>\n      <td>295</td>\n      <td>78</td>\n      <td>[]</td>\n      <td>[]</td>\n      <td>[]</td>\n      <td>[]</td>\n      <td>cnni</td>\n      <td>[http://t.co/mnAeA7j7fY]</td>\n      <td>2007-03-24 10:48:14+00:00</td>\n      <td>208</td>\n      <td>389</td>\n      <td>3029912</td>\n      <td>74982</td>\n      <td>true</td>\n    </tr>\n    <tr>\n      <td>3</td>\n      <td>552791578893619200</td>\n      <td>2015-01-07 11:39:17+00:00</td>\n      <td>Eleven dead in shooting at Paris offices of sa...</td>\n      <td>338</td>\n      <td>28</td>\n      <td>[]</td>\n      <td>[]</td>\n      <td>[]</td>\n      <td>[]</td>\n      <td>guardian</td>\n      <td>[http://t.co/gOtSqbwROc]</td>\n      <td>2009-11-05 23:49:19+00:00</td>\n      <td>130</td>\n      <td>1083</td>\n      <td>3091451</td>\n      <td>107007</td>\n      <td>true</td>\n    </tr>\n    <tr>\n      <td>4</td>\n      <td>552792544132997121</td>\n      <td>2015-01-07 11:43:07+00:00</td>\n      <td>BREAKING Charlie Hebdo latest: 11 dead 10 woun...</td>\n      <td>203</td>\n      <td>32</td>\n      <td>[]</td>\n      <td>[]</td>\n      <td>[]</td>\n      <td>[]</td>\n      <td>Independent</td>\n      <td>[http://t.co/kjW3uwCV0f]</td>\n      <td>2008-10-26 00:00:29+00:00</td>\n      <td>39</td>\n      <td>1763</td>\n      <td>973212</td>\n      <td>124096</td>\n      <td>true</td>\n    </tr>\n    <tr>\n      <td>...</td>\n      <td>...</td>\n      <td>...</td>\n      <td>...</td>\n      <td>...</td>\n      <td>...</td>\n      <td>...</td>\n      <td>...</td>\n      <td>...</td>\n      <td>...</td>\n      <td>...</td>\n      <td>...</td>\n      <td>...</td>\n      <td>...</td>\n      <td>...</td>\n      <td>...</td>\n      <td>...</td>\n      <td>...</td>\n    </tr>\n    <tr>\n      <td>267</td>\n      <td>544515538383564801</td>\n      <td>2014-12-15 15:33:15+00:00</td>\n      <td>Haron Monis,Hostage-taker in #Sydney: Fled #Ir...</td>\n      <td>191</td>\n      <td>33</td>\n      <td>[Sydney, Iran]</td>\n      <td>[29, 43]</td>\n      <td>[]</td>\n      <td>[]</td>\n      <td>Joyce_Karam</td>\n      <td>[http://t.co/3caiB9OnFg]</td>\n      <td>2009-05-25 13:50:07+00:00</td>\n      <td>2718</td>\n      <td>980</td>\n      <td>8159</td>\n      <td>13965</td>\n      <td>true</td>\n    </tr>\n    <tr>\n      <td>268</td>\n      <td>544517264054423552</td>\n      <td>2014-12-15 15:40:07+00:00</td>\n      <td>#BREAKING: Police have confirmed that the #Syd...</td>\n      <td>677</td>\n      <td>275</td>\n      <td>[BREAKING, SydneySiege, 9News]</td>\n      <td>[0, 42, 64]</td>\n      <td>[]</td>\n      <td>[]</td>\n      <td>9NewsSyd</td>\n      <td>[]</td>\n      <td>2010-07-28 05:48:13+00:00</td>\n      <td>337</td>\n      <td>1644</td>\n      <td>26261</td>\n      <td>64126</td>\n      <td>true</td>\n    </tr>\n    <tr>\n      <td>269</td>\n      <td>544518335019229184</td>\n      <td>2014-12-15 15:44:22+00:00</td>\n      <td>#BREAKING: At least two people have died follo...</td>\n      <td>251</td>\n      <td>45</td>\n      <td>[BREAKING, SydneySiege]</td>\n      <td>[0, 55]</td>\n      <td>[]</td>\n      <td>[]</td>\n      <td>AusNewsNetwork</td>\n      <td>[]</td>\n      <td>2012-02-14 06:18:22+00:00</td>\n      <td>3837</td>\n      <td>1733</td>\n      <td>4301</td>\n      <td>31867</td>\n      <td>true</td>\n    </tr>\n    <tr>\n      <td>270</td>\n      <td>544520042810200064</td>\n      <td>2014-12-15 15:51:09+00:00</td>\n      <td>#sydneysiege is over. 2 confirmed dead, #PrayF...</td>\n      <td>101</td>\n      <td>22</td>\n      <td>[sydneysiege, PrayForSydney, PrayForSydneyHost...</td>\n      <td>[0, 40, 55, 78, 86]</td>\n      <td>[]</td>\n      <td>[]</td>\n      <td>timsullivan23</td>\n      <td>[]</td>\n      <td>2011-12-21 09:56:49+00:00</td>\n      <td>8743</td>\n      <td>389</td>\n      <td>74034</td>\n      <td>24891</td>\n      <td>true</td>\n    </tr>\n    <tr>\n      <td>271</td>\n      <td>544520273718812672</td>\n      <td>2014-12-15 15:52:04+00:00</td>\n      <td>Police confirm that #sydneysiege is finally ov...</td>\n      <td>110</td>\n      <td>133</td>\n      <td>[sydneysiege]</td>\n      <td>[20]</td>\n      <td>[]</td>\n      <td>[]</td>\n      <td>Angus_OL</td>\n      <td>[]</td>\n      <td>2009-12-30 23:59:26+00:00</td>\n      <td>16996</td>\n      <td>623</td>\n      <td>90208</td>\n      <td>34310</td>\n      <td>true</td>\n    </tr>\n  </tbody>\n</table>\n<p>272 rows × 17 columns</p>\n</div>",
      "text/plain": "               tweet_id                tweet_time  \\\n0    552783667052167168 2015-01-07 11:07:51+00:00   \n1    552785375161499649 2015-01-07 11:14:38+00:00   \n2    552791196247269378 2015-01-07 11:37:46+00:00   \n3    552791578893619200 2015-01-07 11:39:17+00:00   \n4    552792544132997121 2015-01-07 11:43:07+00:00   \n..                  ...                       ...   \n267  544515538383564801 2014-12-15 15:33:15+00:00   \n268  544517264054423552 2014-12-15 15:40:07+00:00   \n269  544518335019229184 2014-12-15 15:44:22+00:00   \n270  544520042810200064 2014-12-15 15:51:09+00:00   \n271  544520273718812672 2014-12-15 15:52:04+00:00   \n\n                                                  text  retweet_count  \\\n0    France: 10 people dead after shooting at HQ of...            486   \n1    BREAKING: 10 reportedly shot dead at Paris HQ ...            128   \n2    BREAKING: At least 10 killed in shooting at Fr...            295   \n3    Eleven dead in shooting at Paris offices of sa...            338   \n4    BREAKING Charlie Hebdo latest: 11 dead 10 woun...            203   \n..                                                 ...            ...   \n267  Haron Monis,Hostage-taker in #Sydney: Fled #Ir...            191   \n268  #BREAKING: Police have confirmed that the #Syd...            677   \n269  #BREAKING: At least two people have died follo...            251   \n270  #sydneysiege is over. 2 confirmed dead, #PrayF...            101   \n271  Police confirm that #sydneysiege is finally ov...            110   \n\n     favorite_count                                           hashtags  \\\n0                38                                     [CharlieHebdo]   \n1                 5                                                 []   \n2                78                                                 []   \n3                28                                                 []   \n4                32                                                 []   \n..              ...                                                ...   \n267              33                                     [Sydney, Iran]   \n268             275                     [BREAKING, SydneySiege, 9News]   \n269              45                            [BREAKING, SydneySiege]   \n270              22  [sydneysiege, PrayForSydney, PrayForSydneyHost...   \n271             133                                      [sydneysiege]   \n\n         hashtag_indices user_mentions user_mention_indices     screen_name  \\\n0                   [74]            []                   []        euronews   \n1                     []            []                   []     Independent   \n2                     []            []                   []            cnni   \n3                     []            []                   []        guardian   \n4                     []            []                   []     Independent   \n..                   ...           ...                  ...             ...   \n267             [29, 43]            []                   []     Joyce_Karam   \n268          [0, 42, 64]            []                   []        9NewsSyd   \n269              [0, 55]            []                   []  AusNewsNetwork   \n270  [0, 40, 55, 78, 86]            []                   []   timsullivan23   \n271                 [20]            []                   []        Angus_OL   \n\n                          url                created_at  user_favorite_count  \\\n0                          [] 2009-03-18 12:57:11+00:00                  615   \n1    [http://t.co/5F1DOwzoCQ] 2008-10-26 00:00:29+00:00                   39   \n2    [http://t.co/mnAeA7j7fY] 2007-03-24 10:48:14+00:00                  208   \n3    [http://t.co/gOtSqbwROc] 2009-11-05 23:49:19+00:00                  130   \n4    [http://t.co/kjW3uwCV0f] 2008-10-26 00:00:29+00:00                   39   \n..                        ...                       ...                  ...   \n267  [http://t.co/3caiB9OnFg] 2009-05-25 13:50:07+00:00                 2718   \n268                        [] 2010-07-28 05:48:13+00:00                  337   \n269                        [] 2012-02-14 06:18:22+00:00                 3837   \n270                        [] 2011-12-21 09:56:49+00:00                 8743   \n271                        [] 2009-12-30 23:59:26+00:00                16996   \n\n     friends_count  followers_count  statuses_count label  \n0              337           129573           48440  true  \n1             1763           972167          123899  true  \n2              389          3029912           74982  true  \n3             1083          3091451          107007  true  \n4             1763           973212          124096  true  \n..             ...              ...             ...   ...  \n267            980             8159           13965  true  \n268           1644            26261           64126  true  \n269           1733             4301           31867  true  \n270            389            74034           24891  true  \n271            623            90208           34310  true  \n\n[272 rows x 17 columns]"
     },
     "execution_count": 25,
     "metadata": {},
     "output_type": "execute_result"
    }
   ],
   "source": [
    "df"
   ]
  },
  {
   "cell_type": "code",
   "execution_count": 26,
   "metadata": {},
   "outputs": [],
   "source": [
    "import re\n",
    "uncleanData=list()\n",
    "uncleanDataTest=list()\n",
    "for index, row in df.iterrows():\n",
    "    text=re.sub(' http[s]?://(?:[a-zA-Z]|[0-9]|[$-_@.&+]|[!*\\(\\),]|(?:%[0-9a-fA-F][0-9a-fA-F]))+', \"\", row[\"text\"])\n",
    "    uncleanData.append((text,row[\"label\"]))\n",
    "    \n",
    "for index, row in dfTest.iterrows():\n",
    "    text=re.sub(' http[s]?://(?:[a-zA-Z]|[0-9]|[$-_@.&+]|[!*\\(\\),]|(?:%[0-9a-fA-F][0-9a-fA-F]))+', \"\", row[\"text\"])\n",
    "    uncleanDataTest.append((text,row[\"label\"]))"
   ]
  },
  {
   "cell_type": "code",
   "execution_count": 27,
   "metadata": {},
   "outputs": [
    {
     "data": {
      "text/plain": " are trying to assassinate Mike Brown's character after literally assassinating Mike Brown.\",\n  'true'),\n ('Possible \"robbery\" took place and BAM! Like magic it\\'s as if another UNARMED black youth being murdered has been forgotten #smh #Ferguson',\n  'true'),\n ('If we shot everyone in the street for stealing, imagine the carnage on Wall St. #mikebrown #ferguson',\n  'true'),\n ('The day #Ferguson cops told a dirty, bloody lie (via @thedailybeast):',\n  'true'),\n ('All weekend ppl will be talking about the \"robbery\" instead of the shooting bc #Ferguson PD didn\\'t release any info about the shooting.',\n  'true'),\n (\"How many white celebrities have been CAUGHT shoplifting and end up dead in streets? I'll wait. #Ferguson\",\n  'true'),\n ('If you can justify shooting an unarmed teenager by saying \"he might have been committing a misdemeanor\" you are a fucking asshole. #Ferguson',\n  'true'),\n ('Hobby Lobby asks #Ferguson PD for clarification: \"We thought chopping off someone\\'s hand was the maximum penalty for shoplifting\"',\n  'true'),\n ('New link: #Ferguson police release video they say shows a robbery involving #MichaelBrown:',\n  'true'),\n ('In 2009, #Ferguson police beat a man and charged him for bleeding on them:',\n  'true'),\n ('The #Ferguson police chief just basically confirmed #MikeBrown was gunned to death for the crime of walking in the street?\\n\\nHorrific.',\n  'true'),\n (\"What's so frustrating is that now we are talking about a robbery and not the killing of an unarmed kid. #ferguson\",\n  'true'),\n ('In what world do you let a cop who killed someone leave town? #Ferguson',\n  'true'),\n ('to be clear: an unarmed teenager POSSIBLY stealing a box of cigars does not warrant being shot to death by the police. #Ferguson',\n  'true'),\n ('#Ferguson PD charged #HenryDavis w/ \"destruction of property\" for bleeding on their uniforms:',\n  'true'),\n ('Oh. So NOW the #Ferguson police chief says the cop didn\\'t know about the robbery when he stopped #MikeBrown. The kid was \"jaywalking\"? BS!',\n  'true'),\n (\"#Ferguson police: Officer involved in fatal shooting of Michael Brown didn't know he was suspect in alleged robbery.\",\n  'true'),\n ('Report: #Ferguson police beat up wrong suspect then charged him for getting blood on uniforms in 2009',\n  'true'),\n ('#Ferguson chief let most of day go by b4 disclosing (after repeated Qs) that cop who killed #MikeBrown knew nothing about robbery. DANGER',\n  'true'),\n ('Store owner told @FOX2now Monday that there was a theft, but said it was not MichaelBrown; said it was someone else #Ferguson',\n  'true'),\n (\"The press conf makes #Ferguson PD look like they've gone from stonewalling to counter punching. We give up a name, we drag his thru the mud.\",\n  'true'),\n ('Remarkably, despite the military-style police presence in #Ferguson, a known killer was able to skip town',\n  'true'),\n ('Only photo I will tweet. CPR being performed on the soldier now. I heard four shots. #ottawa',\n  'true'),\n (\"Shots fired on parliament hill after a man walked up with a gun. I'm locked in a security office on parliament hill\",\n  'true'),\n ('BREAKING - Shooting on Parliament Hill. RCMP have weapons drawn #cdnpoli',\n  'true'),\n (\"Witness tells #CBCNews suspected shooter of uniformed soldier at #Ottawa's War Memorial was carrying rifle.\",\n  'true'),\n ('BREAKING NEWS: Soldier shot at National War Memorial in Ottawa', 'true'),\n ('#BREAKING news: Shots fired at Parliament Hill. Follow developing story:',\n  'true'),\n (\"Shooter still on loose after uniformed soldier shot at #Ottawa's War Memorial, across road from Parliament. MP's being taken out of offices.\",\n  'true'),\n ('Soldier shot at National War Memorial in Ottawa #cdnpoli #hw', 'true'),\n ('BREAKING NEWS: At least 3 shots fired at Ottawa War Memorial. One soldier confirmed shot -',\n  'true'),\n ('One person shot outside Centre Block, a second wounded inside the building in Parliament Hill shooting',\n  'true'),\n ('Snipers set up on National Art Gallery as we remain barricaded in Centre Block on Parliament Hill #cdnpoli.',\n  'true'),\n (\"Canada's Parliament Hill is on lockdown as police hunt shooting suspect; at least 1 injured - @CBCNews, @TorontoStar\",\n  'true'),\n ('Very reliable source on Parliament Hill tells me the assailant has been killed. #cdnpoli #ottnews',\n  'true'),\n ('BREAKING: At least 20 shots have been fired in the Canadian parliament in Ottawa, according to witnesses.',\n  'true'),\n (\"The gunman in Ottawa has been shot and killed. I'm at a loss for words this morning. That isn't my Canada.\",\n  'true'),\n ('Shooting in Canadian parliament comes day after ISIS-inspired radical drove in2 Canadian soldier. Also reports of shooting at War memorial/1',\n  'true'),\n ('More shots fired just off Parliament Hill. Police telling everyone to take cover.',\n  'true'),\n ('We are in full lock down until further notice from Ottawa Police.', 'true'),\n ('Attack on Parliament: Soldier shot; gunman on the loose. Follow our developing story:',\n  'true'),\n (\"Here's that dramatic video via @josh_wingrove of shots fired inside parliament building: #Ottawa #shooting\",\n  'true'),\n ('The University of Ottawa, just a five minute walk from the Hill, is now on lockdown.',\n  'true'),\n ('CONFIRMED | 1 shooter shot dead at Parliament Hill, but there is more than 1 suspect. #cbcOTT #OTTnews',\n  'true'),\n ('Recap: Gunman shot dead inside Parliament buildings; police believe there may be others on loose. Cdn soldier shot earlier at War Memorial.',\n  'true'),\n ('Reports now that 2nd shooter has been shot in downtown Ottawa #ottnews',\n  'false'),\n ('BREAKING NEWS: New York Times is reporting the Canadian soldier who was shot has died from their injuries. Heartbreaking. #cdnpoli #ableg',\n  'true'),\n ('Ottawa Police Service: There were \"numerous gunmen\" at the Canada War Memorial shooting. One person was shot.',\n  'false'),\n ('Ottawa police issued a statement. Three separate shooting incidents. Once inside parliament. One at the war memorial. One at Rideau Centre',\n  'false'),\n ('Ottawa Police report a third shooting at Rideau Centre, no reports of injuries.',\n  'false'),\n (\"Watch video showing gunfire inside Canada's parliament in Ottawa\", 'true'),\n ('Police say shots fired at 3 #Ottawa sites -  National War Memorial, Parliament Hill, and now Rideau shopping centre',\n  'false'),\n ('Senior U.S. official: Canadian government has informed U.S. that one shooter is dead in Ottawa. Live blog:',\n  'true'),\n ('#BREAKING Rick Hughes at CBC Hamilton: \\n\\nThe soldier who was shot in Ottawa Wednesday morning is a reservist serving in Hamilton',\n  'true'),\n ('#Ottawa police confirm to #CBCNews they are still seeking 1 or more suspects after shootings on Parliament Hill, War Memorial, nearby mall.',\n  'false'),\n ('Hero. @affanchowdhry: Kevin Vickers, head of security in parliament, being credited for taking down shooter #Ottawa\"',\n  'true'),\n ('BREAKING UPDATE: Canadian soldier injured at Parliament Hill shooting dies  #Ottawa',\n  'true'),\n ('MPs credit sergeant-at-arms for saving lives in Parliament Hill shootings\\nhttp://t.co/3NfiSwTwPt',\n  'true'),\n (\"Canada's parliament building locked down after shooting; at least one guard injured: Photo: AP\",\n  'true'),\n ('Statement from Ottawa Hospital: received 3 patients. 2 in stable condition.',\n  'true'),\n (\"#NHL cancels tonight's game between #Ottawa and #Toronto due to today's shootings. Senators were to host Maple Leafs.\",\n  'true'),\n ('#RCMP to hold news conference on #Ottawa shootings at 2 pm ET, 11 am PT. Watch live coverage @',\n  'true'),\n ('Canadian authorities have given name of suspect in Ottawa attacks to U.S. feds; ask for FBI assistance: Sr U.S. law enforcement official',\n  'true'),\n ('Police now say there were two shooting incidents in Ottawa: one at the war memorial, the other on Parliament Hill.',\n  'false'),\n ('Police have clarified that there were two shootings in Ottawa today, not three: at the War Memorial and Parliament Hill.',\n  'false'),\n ('MORE: Police believe three gunmen were involved in shootings in Ottawa this morning and are looking for two shooters.',\n  'false'),\n ('FBI assisting in the case of the Ottawa shooting, sources have confirmed to CTV News',\n  'true'),\n (\"This afternoon we've lowered our flags to half mast in honour of the Canadian Reservist who lost his life in Ottawa.\",\n  'true'),\n (\"These are not timid colours; soldiers back guarding Tomb of Unknown Soldier after today's shooting #StandforCanada\",\n  'false'),\n ('#ISIS Media account posts picture claiming to be Michael Zehaf-Bibeau, dead #OttawaShooting suspect. #Canada',\n  'true'),\n ('#RIPNathanCirillo\\n\\nRT @globeandmail: Soldier killed at war memorial identified as Cpl. Nathan Cirillo #OttawaShooting',\n  'true'),\n (\"The soldier shot dead in Wednesday's Ottawa attacks has been named as Cpl. Nathan Cirillo of #HamOnt #ottawashooting\",\n  'true'),\n ('BREAKING: A source confirms to CP24 that the deceased soldier in Ottawa is Cpl. Nathan Cirillo. Cirillo was a member of the Hamilton Argylls',\n  'true'),\n ('CTV News confirms that Canadian authorities have provided US authorities with the name Michael Zehaf-Bibeau in connection to Ottawa shooting',\n  'true'),\n ('BREAKING: Michael Zehaf-Bebeau had been designated \"high-risk traveller\" by CDN govt, which confiscated his passport',\n  'true'),\n ('This is the soldier who died today at the #Ottawa War Memorial. His name is Cpl. Nathan Cirillo. #RIP #OttawaStrong',\n  'true'),\n ('Soldier killed in Canada shooting was a young reservist with a six-year-old son',\n  'true'),\n ('Our thoughts and prayers go out to Nathan Cirillo who died today in Ottawa while protecting his country at age 24',\n  'true'),\n (\"The Canadian soldier killed in today's Ottawa shooting is Cpl. Nathan Cirillo, a family source told CNN. Live blog:\",\n  'true'),\n ('***EXCLUSIVE*** Michael Zahaf-Bibeau caught on a #DASHCAM model sold at #OttawaShooting',\n  'true'),\n (\"PRINCE IN TORONTO TONIGHT:\\n@3RDEYEGIRL tweeted this morning to say OTNOROT CALLING, which is Toronto backwards, obviously.... Seems it's on!\",\n  'false'),\n ('Prince fans lining up at Massey Hall. Wristbands for surprise show reportedly on sale at 6pm. #Toronto',\n  'false'),\n ('Prince rumoured to be performing in surprise show in Toronto', 'false'),\n ('Prince is playing a secret show in Toronto tonight.  I will also be playing a secret show tonight involving pizza &amp; netflix bingeing.',\n  'false'),\n ('Is it true? Prince rumoured to be performing surprise show in Toronto',\n  'false'),\n ('People talking about stupid shit like government corruption and harassment when Prince is in Toronto smh',\n  'false'),\n ('OMG. #Prince rumoured to be performing in Toronto today. Exciting!',\n  'false'),\n ('Clearly prince is having a show in #toronto @TorontoComms #tdot #gta #prince #concert',\n  'false'),\n ('Secret Prince show rumored for Toronto tonight', 'false'),\n ('Is #Prince in #Toronto? Rumours fly of surprise show... @masseyhall',\n  'false'),\n ('In response to inquiries, we can confirm that Prince will not be performing at @masseyhall tonight.',\n  'false'),\n ('Prince not playing Massey Hall tonight, promoter says', 'false'),\n ('Coup in #Russia? Good article by @Forbes. #RamzanKadyrov #Putin #putindead',\n  'true'),\n ('Hoppla! @L0gg0l: Swiss Rumors: Putin absence due to girlfriend Alina giving birth in Ticino',\n  'true'),\n ('This appears to be the original source of the Putin/Kabayeva/Swiss clinic rumour',\n  'true'),\n ('Putin reappears on TV amid claims he is unwell and under threat of coup',\n  'true'),\n ('Coup? RT @jimgeraghty: Rumors all Russian military attaches at embassy in London have returned to Moscow:',\n  'true'),\n ('Unformed Russian Embassy staff in London have left for Russia  Rumours Putin HAS DIED! via @ShaunyNews #PutinDead?',\n  'false'),\n (\"Putin reappears on television amid rumours his 'girlfriend' is about 2 give birth @Scofield_Fx\",\n  'true'),\n ('Very good on #Putin coup by @CoalsonR: Three Scenarios For A Succession In Russia via @RFERL',\n  'true'),\n (\"Was Vladimir Putin netralized by an internal coup? Or maybe he's vacationing in Harper's closet:  #LookingForNarnia\",\n  'true'),\n (\"#BREAKING: Hostages are being held and a siege is taking place at Sydney's Lindt Chocolat Cafe in Martin Place.\",\n  'true'),\n (\"BREAKING: Live coverage of hostage situation unfolding in Sydney's Martin Place\",\n  'true'),\n ('We understand there are two gunmen and up to a dozen hostages inside the cafe under siege at Sydney.. ISIS flags remain on display #7News',\n  'false'),\n (\"DEVELOPING: Gunman Takes Hostages In Sydney Cafe, 'ISIS' Flags Being Held Against Window -\",\n  'true'),\n ('Black Islamic flag being held up in window of #lindt chocolate store in Martin Place, Sydney - hostages inside.',\n  'true'),\n ('SYDNEY SIEGE: Gunman forces hostages to hold up ISIS flag in window',\n  'false'),\n ('Several people being held hostage at a Sydney cafe. Australian tv showing people with  hands up against a window:',\n  'true'),\n ('Flag in window of Sydney Lindt cafe not an ISIS flag. Reads: ‘There is no God but Allah and Muhammad is the messenger of God’ (@liztilley84)',\n  'true'),\n ('ISIS -holding a Cafe hostage in Sydney- forcing Hostages to press ISIS flags against the Windows #DramaAlert HOT!',\n  'false'),\n ('#BREAKING Hostages held inside Sydney cafe, Islamic flag held up', 'true'),\n ('Geoblock lifted on #ABCNews24. Streaming coverage of the Martin Place siege in Sydney here ',\n  'true'),\n ('Hostages in Sydney cafe made to hold up Islamic flags', 'true'),\n ('BREAKING NEWS: Gunmen take hostages at Sydney cafe, wave Islamic flag',\n  'true'),\n ('Live Updates: Siege in Sydney Cafe', 'true'),\n ('Sydney Opera House evacuated, concourse deserted #SydneySiege (via @cberkman)',\n  'true'),\n ('Up to 20 held hostage in Sydney Lindt Cafe siege', 'false'),\n ('Statement from Prime Minister Tony Abbott on Sydney hostage situation.',\n  'true'),\n ('Full statement from PM Abbott on #Sydneysiege #MartinPlace #Lindt.',\n  'true'),\n (\"Prime Minister Tony Abbott's statement on the #SydneySiege. Updates:\",\n  'true'),\n ('Central Sydney shut down by police amid ongoing hostage situation:',\n  'true'),\n ('FIRST PHOTOS: Hostage pressed against a window. #SydneySiege', 'true'),\n ('According to Seven, this is a picture of the gunman', 'true'),\n ('BREAKING ALERT: Preliminary reports indicate perpetrators appear to be members of #ISIS. #SydneySiege',\n  'false'),\n ('UPDATE: 13 hostages inside Sydney coffee shop near Sydney Opera House; Abbott will deliver a statement shortly. #ISISAttacks #sydneyseige',\n  'false'),\n ('DETAILS: The hostage site is Lindt Chocolat Cafe near #Sydney Harbor',\n  'false'),\n ('UPDATE: 13 people being held hostage in #Sydney shop, Opera House evacuated after suspicious package found: reports',\n  'false'),\n ('BREAKING UPDATE: Gunman says four devices are located around Sydney. Security response underway. Police calling for calm. 9News',\n  'true'),\n ('A man believed to be the gunman filmed wearing a black headband inside the cafe',\n  'true'),\n (\"Police stand guard as hostages are held in a cafe in Sydney. Follow AFP's LIVE REPORT:\",\n  'false'),\n (\"#pmharper tweets 'Canada's thoughts and prayers are with our Australian friends.' 13-40 hostages held in cafe in #Sydney. #SydneySiege\",\n  'false'),\n ('US evacuated Consulate in Sydney after #sydneysiege. Emergency warning to U.S. citizens urging them to \"maintain high level of vigilance\".',\n  'true'),\n ('Approximately 50 hostages may be held captive at #Lindt café – local reports #sydneysiege',\n  'false'),\n ('The Sydney cafe siege may be part of a larger plot. @Y7News #MartinPlaceSiege',\n  'false'),\n ('Uber intros surge pricing in downtown Sydney during hostage siege', 'true'),\n ('Ray Hadley says he spoke with hostage, and could hear the gunman in the background barking orders and demanding to go live on air',\n  'true'),\n ('Hostage situation erupts in Sydney cafe, Australian prime minister says it may be \"politically motivated\"',\n  'true'),\n ('Uber says it has hiked prices in Sydney to \"encourage more drivers to come online &amp; pick up passengers.\" #SydneySiege',\n  'true'),\n ('#SYDNEYSIEGE: Hostage-takers ‘have suicide belts, demand radio convo with #Abbott’ – report',\n  'true'),\n ('Uber Sydney trips from CBD will be free for riders. Higher rates are still in place to encourage drivers to get into the CBD.',\n  'true'),\n ('Gunman\\'s headband reads, \"We are your soldiers O Muhammad\".\\n#MartinPlace #SydneySiege',\n  'true'),\n ('We can see people coming out a firedoor near the Lindt cafe to waiting police. 2-3 people. Hard to see. #sydneysiege',\n  'true'),\n ('#BREAKING Reports two customers and an employee have escaped the #SydneySiege',\n  'true'),\n ('Local media: 3 people appear to escape from Martin Place, Sydney, café, amid hostage situation - @ABCNews',\n  'true'),\n ('BREAKING: Three hostages appear to have escaped the Sydney cafe where a siege remains ongoing. #sydneyseige',\n  'true'),\n ('Police: Negotiators are now in contact with armed hostage-taker in Sydney situation; motive remains unknown -',\n  'true'),\n ('MORE: Police confirm 3 hostages escape Sydney cafe, unknown number remain inside #Sydneysiege',\n  'true'),\n ('UPDATE: Total of 5 people have been able to get out of Sydney cafe during hostage situation:',\n  'true'),\n ('This is shot that captures the #sydneysiege: sheer terror/relief of escaped hostages, incredible work of @nswpolice',\n  'true'),\n ('Reports on @channeltennews #sydneysiege gunman wants #ISIL flag delivered to cafe and he also wants to speak to PM or people will be killed.',\n  'true'),\n ('Five Hostages Escape Sydney Cafe Siege — Live Updates From @BuzzFeedOz',\n  'true'),\n ('Hostage taker in Sydney cafe demands ISIS flag and call with Australian PM, Sky News reports. #sydneysiege',\n  'true'),\n ('Five hostages have escaped the besieged Lindt Cafe in #Sydney | Our latest update:',\n  'true'),\n ('NSW Police confirm 5 hostages have emerged from #sydneysiege and they are negotiating: \"It might take a bit of time\"',\n  'true'),\n (\"Sydney airspace wasn't closed. A second terror suspect wasn't arrested. Myths around #sydneysiege debunked.\",\n  'false'),\n (\"TV channels have chosen not to show videos of hostages relaying #sydneysiege gunman's demands.\",\n  'true'),\n ('SYDNEY HOSTAGE-TAKER\\n- Man Monis, 49\\n- Originally from Iran\\n- Self-styled sheikh\\n- Accused of sexually assaulting 7 women\\nDEVELOPING..',\n  'true'),\n ('Escaped #SydneySiege hostage, Elly Chen, a top student and skilled sportswoman',\n  'true'),\n ('Several more hostages flee from cafe under siege in Sydney, local media say',\n  'true'),\n ('POLICE MOVE IN: Police confirm live ammunition used in Martin Place #sydneysiege',\n  'true'),\n ('Paramedics are currently carrying out a number of hostages in #MartinPl. #SydneySiege #9News',\n  'true'),\n ('BREAKING: Police enter #Lindt cafe, hostages flee  #sydneysiege', 'true'),\n ('BREAKING  @SkyBusiness: freed hostage borne high from #sydneysiege w/c.4 paramedic teams on the scene ( carsonscottLI',\n  'true'),\n ('UPDATE: Hostages fleeing #Sydney cafe held by Iranian gunman as explosions, gunshots are heard:',\n  'true'),\n ('Sydney siege: police enter cafe as hostages flee the scene, gunfire heard, reports of an injured person – live',\n  'true'),\n ('Police seem relaxed, suggesting all hostages are out and gunman no longer a threat #sydneysiege',\n  'true'),\n ('#SydneySiege: Latest video of hostages escaping.\\nhttps://t.co/eFfgSbt2hO',\n  'true'),\n ('Haron Monis,Hostage-taker in #Sydney: Fled #Iran 96,suspect in ex-wife killing,46 sex assaults',\n  'true'),\n ('#BREAKING: Police have confirmed that the #SydneySiege is over. #9News',\n  'true'),\n ('#BREAKING: At least two people have died following the #SydneySiege. 5 people are being treated by paramedics.',\n  'true'),\n ('#sydneysiege is over. 2 confirmed dead, #PrayForSydney #PrayForSydneyHostages #Sydney #hostages',\n  'true'),\n ('Police confirm that #sydneysiege is finally over. Two people reportedly injured after suffering gunshot wounds',\n  'true')]"
     },
     "execution_count": 27,
     "metadata": {},
     "output_type": "execute_result"
    }
   ],
   "source": [
    "uncleanData"
   ]
  },
  {
   "cell_type": "code",
   "execution_count": 28,
   "metadata": {},
   "outputs": [
    {
     "data": {
      "text/plain": "100"
     },
     "execution_count": 28,
     "metadata": {},
     "output_type": "execute_result"
    }
   ],
   "source": [
    "#Sampling to check if dataset is skewed or not\n",
    "import numpy as np\n",
    "trueData = list()\n",
    "for data in uncleanData:\n",
    "    if data[1]=='true':\n",
    "        trueData.append(data[0])\n",
    "\n",
    "unsampledTrainData = np.asarray(trueData)\n",
    "sampledTrainData = np.random.choice(unsampledTrainData,50)\n",
    "\n",
    "\n",
    "realData=list()\n",
    "for data in sampledTrainData.tolist():\n",
    "    realData.append((data,'true'))\n",
    "    \n",
    "fakeData=list()\n",
    "for data in uncleanData:\n",
    "    if data[1]=='false':\n",
    "        fakeData.append(data[0])\n",
    "\n",
    "        \n",
    "uncleanData=realData+fakeData\n",
    "len(uncleanData)"
   ]
  },
  {
   "cell_type": "code",
   "execution_count": 29,
   "metadata": {},
   "outputs": [
    {
     "data": {
      "text/plain": "[('Germanwings Airbus A320 crashes in French Alps near Digne', 'true'),\n ('BREAKING: 148 passengers were on board #GermanWings Airbus A320 which has crashed in the southern French Alps',\n  'false'),\n ('Accident aircraft looks to be Germanwings (Airline code 4U or GWI) flight 9525, Barcelona to Dusseldorf. #4U9525',\n  'true'),\n ('Now hearing 148 passengers + crew on board the #A320 that has crashed in southern French Alps. #GermanWings flight. @BBCWorld',\n  'false'),\n ('German Wings airline tweeting now about reports of plane crashing in French Alps with 148 on board: @germanwings',\n  'false'),\n ('Germanwings passenger plane crashes in France:', 'true'),\n ('JUST IN: Germanwings plane crashes in southern France, up to 150 feared dead',\n  'true'),\n ('Flight #4U9525 initially climbed to 38,000 feet before before it started to descend and lost signal at 6,800 feet.',\n  'true'),\n ('Heart goes out to 148 passengers and crew of Germanwings Airbus A320 that has crashed in French Alps, Southern France',\n  'false'),\n ('1047 call: DGAC source says pilots called «urgence, urgence» (“emergency, emergency”), as opposed to a mayday call or 7700 squawk. #4U9525',\n  'false'),\n (\"#4U9525 From FL380 to FL110 in 8 min? That's average rate of descent 3375 fpm! Than levelled off at FL068? What the hell was going on there?\",\n  'true'),\n ('#Germanwings latest:\\n- #Airbus A320 crashes in French Alps\\n- Barcelona-to-Dusseldorf flight\\n- 142 passengers &amp; 6 crew',\n  'false'),\n ('French junior minister for Transport Alain Vidalies confirms they are no survivors in the #Germanwings #A320 crash.',\n  'true'),\n ('Latest on #Germanwings crash: Pilots signaled 911 before dropping out of midair; airline CEO calls this a \"dark day.\"',\n  'false'),\n ('#Germanwings passenger plane crashes in French Alps with 148 onboard',\n  'false'),\n ('BREAKING: 148 feared dead in crashed #Germanwings flight', 'false'),\n ('#Germanwings \"sorry to confirm\" 144 passengers &amp; 6 crew on board flight #4U9525 when it crashed in French Alps',\n  'true'),\n ('@FRANCE24 reporter James André at French Civil Aviation Authority HQ: \"#Germanwings plane did NOT report distress signal\", no mayday.',\n  'false'),\n ('#4U9525 took eight minutes to descend from 38,000 feet to impact, says Germanwings CEO Winkelmann.',\n  'true'),\n ('Report: Co-Pilot Locked Out Of Cockpit Before Fatal Plane Crash #Germanwings',\n  'true'),\n ('Names of pilots rumored to be Patrick Sonderheimer with co-pilot Andreas Lubitz - No formal confirmation yet. #germanwings',\n  'true'),\n ('#4U9525: Robin names Andreas Lubitz as the copilot in the flight deck who crashed the aircraft.',\n  'true'),\n ('GERMAN NEWS: Co-Pilot of Germanwings Airbus Was MUSLIM CONVERT. Can any muslim be trusted near an airplane now?',\n  'false'),\n (\"RT @khjelmgaard: German media reporting #AndreasLubitz had a 'serious depressive episode' six years ago #Germanwings\",\n  'true'),\n ('GERMAN NEWS REPORT: Co-Pilot of Germanwings Airbus Was MUSLIM CONVERT …’Hero of Islamic State’? via @gatewaypundit',\n  'false')]"
     },
     "execution_count": 29,
     "metadata": {},
     "output_type": "execute_result"
    }
   ],
   "source": [
    "uncleanDataTest"
   ]
  },
  {
   "cell_type": "code",
   "execution_count": 30,
   "metadata": {},
   "outputs": [],
   "source": [
    "import nltk\n",
    "from nltk.corpus import stopwords\n",
    "from nltk.tokenize import TweetTokenizer"
   ]
  },
  {
   "cell_type": "code",
   "execution_count": 31,
   "metadata": {},
   "outputs": [
    {
     "data": {
      "text/plain": "['Breaking',\n ':',\n 'Gunman',\n 'at',\n 'Paris',\n 'store',\n 'threatens',\n 'to',\n 'kill',\n 'hostages',\n 'if',\n '#CharlieHebdo',\n 'suspects',\n 'are',\n 'harmed',\n '.']"
     },
     "execution_count": 31,
     "metadata": {},
     "output_type": "execute_result"
    }
   ],
   "source": [
    "tknzr = TweetTokenizer(strip_handles=True, reduce_len=True)\n",
    "tokenizedData=[tknzr.tokenize(item[0]) for item in uncleanData]\n",
    "tokenizedDataTest=[tknzr.tokenize(item[0]) for item in uncleanDataTest]\n",
    "\n",
    "tokenizedData[0]"
   ]
  },
  {
   "cell_type": "code",
   "execution_count": 32,
   "metadata": {},
   "outputs": [
    {
     "data": {
      "text/plain": "365"
     },
     "execution_count": 32,
     "metadata": {},
     "output_type": "execute_result"
    }
   ],
   "source": [
    "unigramsUnclean=list()\n",
    "for data in tokenizedData:\n",
    "    for token in data:\n",
    "        unigramsUnclean.append(token.lower())\n",
    "\n",
    "uniqueUnigrams = list(set(unigramsUnclean))\n",
    "len(uniqueUnigrams)"
   ]
  },
  {
   "cell_type": "code",
   "execution_count": 33,
   "metadata": {},
   "outputs": [
    {
     "data": {
      "text/plain": "{'breaking': 8,\n ':': 21,\n 'gunman': 9,\n 'at': 15,\n 'paris': 6,\n 'store': 3,\n 'threatens': 3,\n 'to': 20,\n 'kill': 3,\n 'hostages': 7,\n 'if': 4,\n '#charliehebdo': 10,\n 'suspects': 10,\n 'are': 6,\n 'harmed': 3,\n '.': 27,\n 'map': 2,\n 'shows': 2,\n 'industrial': 2,\n 'estate': 2,\n 'where': 2,\n '2': 5,\n 'holed': 2,\n 'up': 6,\n ',': 25,\n 'surrounded': 2,\n 'by': 2,\n 'police': 12,\n 'least': 3,\n '20': 2,\n 'shots': 5,\n 'have': 6,\n 'been': 4,\n 'fired': 5,\n 'in': 25,\n 'the': 18,\n 'canadian': 3,\n 'parliament': 12,\n 'ottawa': 7,\n 'according': 2,\n 'witnesses': 2,\n '#breaking': 1,\n 'both': 1,\n 'charlie': 2,\n 'hebdo': 2,\n 'killed': 3,\n 'as': 4,\n 'storm': 1,\n 'building': 1,\n '(': 1,\n 'sources': 1,\n ')': 1,\n 'attack': 4,\n 'reportedly': 3,\n 'while': 3,\n 'robbing': 3,\n 'a': 9,\n 'petrol': 3,\n 'station': 3,\n 'man': 1,\n 'believed': 1,\n 'be': 3,\n 'filmed': 1,\n 'wearing': 1,\n 'black': 1,\n 'headband': 1,\n 'inside': 4,\n 'cafe': 5,\n 'recap': 1,\n 'shot': 9,\n 'dead': 8,\n 'buildings': 1,\n ';': 2,\n 'believe': 1,\n 'there': 4,\n 'may': 1,\n 'others': 1,\n 'on': 10,\n 'loose': 1,\n 'cdn': 1,\n 'soldier': 5,\n 'earlier': 1,\n 'war': 3,\n 'memorial': 3,\n 'snipers': 1,\n 'set': 1,\n 'national': 2,\n 'art': 1,\n 'gallery': 1,\n 'we': 2,\n 'remain': 1,\n 'barricaded': 1,\n 'centre': 1,\n 'block': 1,\n 'hill': 5,\n '#cdnpoli': 2,\n '#nhl': 1,\n 'cancels': 1,\n \"tonight's\": 1,\n 'game': 1,\n 'between': 1,\n '#ottawa': 4,\n 'and': 10,\n '#toronto': 1,\n 'due': 2,\n \"today's\": 1,\n 'shootings': 2,\n 'senators': 1,\n 'were': 1,\n 'host': 1,\n 'maple': 1,\n 'leafs': 1,\n \"canada's\": 3,\n 'is': 7,\n 'lockdown': 1,\n 'hunt': 1,\n 'shooting': 5,\n 'suspect': 6,\n '1': 7,\n 'injured': 1,\n '-': 5,\n 'local': 1,\n 'media': 2,\n '3': 1,\n 'people': 2,\n 'appear': 1,\n 'escape': 1,\n 'from': 3,\n 'martin': 1,\n 'place': 1,\n 'sydney': 4,\n 'café': 1,\n 'amid': 2,\n 'hostage': 4,\n 'situation': 1,\n \"wednesday's\": 1,\n 'attacks': 1,\n 'has': 3,\n 'named': 1,\n 'cpl': 1,\n 'nathan': 1,\n 'cirillo': 1,\n 'of': 11,\n '#hamont': 1,\n '#ottawashooting': 1,\n 'reports': 3,\n 'dammartin': 1,\n 'en': 1,\n 'goele': 1,\n 'route': 1,\n 'n2': 1,\n 'north': 1,\n 'east': 1,\n 'french': 3,\n 'says': 4,\n 'car': 1,\n 'chase': 1,\n 'under': 1,\n 'way': 1,\n 'developing': 1,\n 'takes': 1,\n \"'\": 4,\n 'isis': 1,\n 'flags': 2,\n 'being': 3,\n 'held': 1,\n 'against': 1,\n 'window': 1,\n 'latest': 1,\n '12': 1,\n 'gunmen': 1,\n 'still': 1,\n 'large': 1,\n 'enter': 1,\n '#lindt': 1,\n 'flee': 1,\n '#sydneysiege': 5,\n 'mike': 1,\n 'brown': 1,\n 'was': 4,\n 'staying': 1,\n 'with': 3,\n 'his': 2,\n 'grandmother': 1,\n 'for': 4,\n 'summer': 1,\n 'who': 2,\n 'lived': 1,\n 'community': 1,\n '#ferguson': 3,\n 'uber': 1,\n 'it': 1,\n 'hiked': 1,\n 'prices': 1,\n '\"': 4,\n 'encourage': 1,\n 'more': 4,\n 'drivers': 1,\n 'come': 1,\n 'online': 1,\n '&': 1,\n 'pick': 1,\n 'passengers': 1,\n 'hero': 2,\n 'kevin': 2,\n 'vickers': 2,\n 'head': 2,\n 'security': 2,\n 'credited': 2,\n 'taking': 2,\n 'down': 3,\n 'shooter': 6,\n '11': 2,\n 'including': 1,\n 'photo': 1,\n '#afp': 1,\n 'escaped': 2,\n 'elly': 1,\n 'chen': 1,\n 'top': 1,\n 'student': 1,\n 'skilled': 1,\n 'sportswoman': 1,\n 'publishes': 1,\n 'photos': 1,\n \"yesterday's\": 1,\n 'montrouge': 1,\n 'maybe': 1,\n 'same': 1,\n 'persons': 1,\n 'kosher': 1,\n 'market': 1,\n 'witness': 1,\n 'tells': 1,\n '#cbcnews': 1,\n 'suspected': 1,\n 'uniformed': 1,\n \"#ottawa's\": 1,\n 'carrying': 1,\n 'rifle': 1,\n 'confirmed': 3,\n '|': 3,\n 'but': 3,\n 'than': 3,\n '#cbcott': 3,\n '#ottnews': 3,\n 'watch': 3,\n 'video': 2,\n 'showing': 2,\n 'gunfire': 2,\n 'full': 1,\n 'lock': 1,\n 'until': 1,\n 'further': 1,\n 'notice': 1,\n 'news': 3,\n 'new': 1,\n 'york': 1,\n 'times': 1,\n 'reporting': 1,\n 'died': 1,\n 'their': 1,\n 'injuries': 1,\n 'heartbreaking': 1,\n '#ableg': 1,\n 'said': 1,\n 'kouachi': 2,\n 'cherif': 1,\n 'wanted': 1,\n 'terror': 2,\n 'hoppla': 1,\n '!': 1,\n 'swiss': 1,\n 'rumors': 1,\n 'putin': 2,\n 'absence': 1,\n 'girlfriend': 2,\n 'alina': 1,\n 'giving': 1,\n 'birth': 2,\n 'ticino': 1,\n 'made': 1,\n 'hold': 2,\n 'islamic': 1,\n '#rcmp': 1,\n 'conference': 1,\n 'pm': 2,\n 'et': 1,\n 'am': 1,\n 'pt': 1,\n 'live': 3,\n 'coverage': 1,\n '@': 1,\n 'ray': 2,\n 'hadley': 2,\n 'he': 3,\n 'spoke': 2,\n 'could': 2,\n 'hear': 2,\n 'background': 2,\n 'barking': 2,\n 'orders': 2,\n 'demanding': 2,\n 'go': 2,\n 'air': 2,\n 'question': 1,\n 'chief': 1,\n '?': 3,\n 'officer': 1,\n 'darren': 1,\n 'wilson': 1,\n 'pursuit': 1,\n 'robbery': 1,\n 'why': 1,\n 'tell': 1,\n 'kids': 1,\n 'get': 1,\n 'out': 1,\n 'road': 1,\n 'lie': 1,\n 'how': 1,\n 'many': 1,\n 'white': 1,\n 'celebrities': 1,\n 'caught': 1,\n 'shoplifting': 1,\n 'end': 1,\n 'streets': 1,\n \"i'll\": 1,\n 'wait': 1,\n 'reappears': 1,\n 'television': 1,\n 'rumours': 1,\n 'about': 1,\n 'give': 1,\n 'wants': 2,\n '#isil': 1,\n 'flag': 1,\n 'delivered': 1,\n 'also': 1,\n 'speak': 1,\n 'or': 1,\n 'will': 1,\n 'this': 1,\n 'that': 1,\n 'captures': 1,\n 'sheer': 1,\n '/': 1,\n 'relief': 1,\n 'incredible': 1,\n 'work': 1,\n '“': 1,\n 'u': 7,\n 'm': 2,\n '#': 4,\n 'b': 3,\n 'r': 2,\n 't': 4,\n 'p': 11,\n 'o': 4,\n 'i': 4,\n 'c': 1,\n 's': 3,\n 'w': 1,\n 'd': 1}"
     },
     "execution_count": 33,
     "metadata": {},
     "output_type": "execute_result"
    }
   ],
   "source": [
    "unigramCount = dict()\n",
    "lowFreqWords = list()\n",
    "for item in unigramsUnclean:\n",
    "    if item not in unigramCount.keys():\n",
    "        unigramCount[item] = 1\n",
    "    else:\n",
    "        unigramCount[item] +=1\n",
    "unigramCount"
   ]
  },
  {
   "cell_type": "code",
   "execution_count": 34,
   "metadata": {},
   "outputs": [
    {
     "name": "stderr",
     "output_type": "stream",
     "text": "[nltk_data] Downloading package stopwords to C:\\Users\\Rohan\n[nltk_data]     Mishra\\AppData\\Roaming\\nltk_data...\n[nltk_data]   Package stopwords is already up-to-date!\n"
    },
    {
     "data": {
      "text/plain": "True"
     },
     "execution_count": 34,
     "metadata": {},
     "output_type": "execute_result"
    }
   ],
   "source": [
    "for key in unigramCount.keys():\n",
    "    if unigramCount[key]<2:\n",
    "        lowFreqWords.append(key)\n",
    "lowFreqWords\n",
    "import nltk\n",
    "nltk.download('stopwords')"
   ]
  },
  {
   "cell_type": "code",
   "execution_count": 35,
   "metadata": {},
   "outputs": [
    {
     "data": {
      "text/plain": "115"
     },
     "execution_count": 35,
     "metadata": {},
     "output_type": "execute_result"
    }
   ],
   "source": [
    "stop = list(set(stopwords.words('english')))\n",
    "uselessWords = stop + lowFreqWords\n",
    "noStopUnigrams = [item for item in uniqueUnigrams if item not in uselessWords]\n",
    "len(noStopUnigrams)"
   ]
  },
  {
   "cell_type": "code",
   "execution_count": 36,
   "metadata": {},
   "outputs": [
    {
     "name": "stdout",
     "output_type": "stream",
     "text": "an': 0, 'petrol': 0, 'robbing': 0, '20': 0, 'according': 0, 'p': 0, 'threatens': 0, 'holed': 0, 'video': 0, 'shot': 0, 'wants': 0, 'hold': 0, 'air': 0, 'confirmed': 0, 'birth': 0, 'breaking': 0, 'showing': 0, 'head': 0, 'kouachi': 0, 'due': 0, 'war': 0, 'shots': 0, 'taking': 0, 'hebdo': 0, 'kill': 0, 'live': 0, 'media': 0, 'hear': 0, 'shooting': 0, ':': 0, '#cdnpoli': 0, 'parliament': 0, 'fired': 0, \"canada's\": 0, '?': 0, 'barking': 0, 'dead': 0, 'shootings': 0, 'station': 0, 'watch': 0, '1': 0, ';': 0, 'girlfriend': 0, 'security': 0, 'orders': 0, 'people': 0, 'gunfire': 0, 'background': 0, '#ferguson': 0, '#charliehebdo': 0, 'witnesses': 0, 'least': 0, 'hero': 0, 'says': 0, 'soldier': 0, 'store': 0, 'paris': 0, 'estate': 0, 'surrounded': 0, 'map': 0, 'cafe': 0, 'charlie': 0, 'suspect': 0, 'hadley': 0, 'national': 0, 'sydney': 0, '#': 0, '.': 0, 'french': 0, 'reports': 0, 'news': 0, 'shooter': 0, 'vickers': 0, '#sydneysiege': 0, 'go': 0, 'flags': 0, 'hill': 0, '\"': 0, '11': 0, 'r': 0, '#ottawa': 0, 'demanding': 0, 'suspects': 0, '|': 0, 'terror': 0, 'memorial': 0, 'u': 0, 'could': 0, 'amid': 0, 'industrial': 0, 'escaped': 0, ',': 0, 'hostages': 0, \"'\": 0, '2': 0}, 'n'), ({'hostage': 0, 'spoke': 0, 'shows': 0, 'harmed': 0, 'pm': 0, 'credited': 0, '-': 0, '#ottnews': 0, 'attack': 0, 'reportedly': 0, '#cbcott': 0, 'ottawa': 0, 'inside': 0, 'killed': 0, 'kevin': 0, 'police': 0, 'putin': 0, 'ray': 0, 'canadian': 0, 'b': 0, 'gunman': 0, 'petrol': 0, 'robbing': 0, '20': 0, 'according': 0, 'p': 0, 'threatens': 0, 'holed': 0, 'video': 0, 'shot': 0, 'wants': 0, 'hold': 0, 'air': 0, 'confirmed': 0, 'birth': 0, 'breaking': 0, 'showing': 0, 'head': 0, 'kouachi': 0, 'due': 0, 'war': 0, 'shots': 0, 'taking': 0, 'hebdo': 0, 'kill': 0, 'live': 0, 'media': 0, 'hear': 0, 'shooting': 0, ':': 0, '#cdnpoli': 0, 'parliament': 0, 'fired': 0, \"canada's\": 0, '?': 0, 'barking': 0, 'dead': 0, 'shootings': 0, 'station': 0, 'watch': 0, '1': 0, ';': 0, 'girlfriend': 0, 'security': 0, 'orders': 0, 'people': 0, 'gunfire': 0, 'background': 0, '#ferguson': 0, '#charliehebdo': 0, 'witnesses': 0, 'least': 0, 'hero': 0, 'says': 0, 'soldier': 0, 'store': 0, 'paris': 0, 'estate': 0, 'surrounded': 0, 'map': 0, 'cafe': 0, 'charlie': 0, 'suspect': 0, 'hadley': 0, 'national': 0, 'sydney': 0, '#': 0, '.': 0, 'french': 0, 'reports': 0, 'news': 0, 'shooter': 0, 'vickers': 0, '#sydneysiege': 0, 'go': 0, 'flags': 0, 'hill': 0, '\"': 0, '11': 0, 'r': 0, '#ottawa': 0, 'demanding': 0, 'suspects': 0, '|': 0, 'terror': 0, 'memorial': 0, 'u': 0, 'could': 0, 'amid': 0, 'industrial': 0, 'escaped': 0, ',': 0, 'hostages': 0, \"'\": 0, '2': 0}, 'e'), ({'hostage': 0, 'spoke': 0, 'shows': 0, 'harmed': 0, 'pm': 0, 'credited': 0, '-': 0, '#ottnews': 0, 'attack': 0, 'reportedly': 0, '#cbcott': 0, 'ottawa': 0, 'inside': 0, 'killed': 0, 'kevin': 0, 'police': 0, 'putin': 0, 'ray': 0, 'canadian': 0, 'b': 0, 'gunman': 0, 'petrol': 0, 'robbing': 0, '20': 0, 'according': 0, 'p': 0, 'threatens': 0, 'holed': 0, 'video': 0, 'shot': 0, 'wants': 0, 'hold': 0, 'air': 0, 'confirmed': 0, 'birth': 0, 'breaking': 0, 'showing': 0, 'head': 0, 'kouachi': 0, 'due': 0, 'war': 0, 'shots': 0, 'taking': 0, 'hebdo': 0, 'kill': 0, 'live': 0, 'media': 0, 'hear': 0, 'shooting': 0, ':': 0, '#cdnpoli': 0, 'parliament': 0, 'fired': 0, \"canada's\": 0, '?': 0, 'barking': 0, 'dead': 0, 'shootings': 0, 'station': 0, 'watch': 0, '1': 0, ';': 0, 'girlfriend': 0, 'security': 0, 'orders': 0, 'people': 0, 'gunfire': 0, 'background': 0, '#ferguson': 0, '#charliehebdo': 0, 'witnesses': 0, 'least': 0, 'hero': 0, 'says': 0, 'soldier': 0, 'store': 0, 'paris': 0, 'estate': 0, 'surrounded': 0, 'map': 0, 'cafe': 0, 'charlie': 0, 'suspect': 0, 'hadley': 0, 'national': 0, 'sydney': 0, '#': 0, '.': 0, 'french': 0, 'reports': 0, 'news': 0, 'shooter': 0, 'vickers': 0, '#sydneysiege': 0, 'go': 0, 'flags': 0, 'hill': 0, '\"': 0, '11': 0, 'r': 0, '#ottawa': 0, 'demanding': 0, 'suspects': 0, '|': 0, 'terror': 0, 'memorial': 0, 'u': 0, 'could': 0, 'amid': 0, 'industrial': 0, 'escaped': 0, ',': 0, 'hostages': 0, \"'\": 0, '2': 0}, 'Y'), ({'hostage': 0, 'spoke': 0, 'shows': 0, 'harmed': 0, 'pm': 0, 'credited': 0, '-': 0, '#ottnews': 0, 'attack': 0, 'reportedly': 0, '#cbcott': 0, 'ottawa': 0, 'inside': 0, 'killed': 0, 'kevin': 0, 'police': 0, 'putin': 0, 'ray': 0, 'canadian': 0, 'b': 0, 'gunman': 0, 'petrol': 0, 'robbing': 0, '20': 0, 'according': 0, 'p': 0, 'threatens': 0, 'holed': 0, 'video': 0, 'shot': 0, 'wants': 0, 'hold': 0, 'air': 0, 'confirmed': 0, 'birth': 0, 'breaking': 0, 'showing': 0, 'head': 0, 'kouachi': 0, 'due': 0, 'war': 0, 'shots': 0, 'taking': 0, 'hebdo': 0, 'kill': 0, 'live': 0, 'media': 0, 'hear': 0, 'shooting': 0, ':': 0, '#cdnpoli': 0, 'parliament': 0, 'fired': 0, \"canada's\": 0, '?': 0, 'barking': 0, 'dead': 0, 'shootings': 0, 'station': 0, 'watch': 0, '1': 0, ';': 0, 'girlfriend': 0, 'security': 0, 'orders': 0, 'people': 0, 'gunfire': 0, 'background': 0, '#ferguson': 0, '#charliehebdo': 0, 'witnesses': 0, 'least': 0, 'hero': 0, 'says': 0, 'soldier': 0, 'store': 0, 'paris': 0, 'estate': 0, 'surrounded': 0, 'map': 0, 'cafe': 0, 'charlie': 0, 'suspect': 0, 'hadley': 0, 'national': 0, 'sydney': 0, '#': 0, '.': 0, 'french': 0, 'reports': 0, 'news': 0, 'shooter': 0, 'vickers': 0, '#sydneysiege': 0, 'go': 0, 'flags': 0, 'hill': 0, '\"': 0, '11': 0, 'r': 0, '#ottawa': 0, 'demanding': 0, 'suspects': 0, '|': 0, 'terror': 0, 'memorial': 0, 'u': 0, 'could': 0, 'amid': 0, 'industrial': 0, 'escaped': 0, ',': 0, 'hostages': 0, \"'\": 0, '2': 0}, 'S'), ({'hostage': 0, 'spoke': 0, 'shows': 0, 'harmed': 0, 'pm': 0, 'credited': 0, '-': 0, '#ottnews': 0, 'attack': 0, 'reportedly': 0, '#cbcott': 0, 'ottawa': 0, 'inside': 0, 'killed': 0, 'kevin': 0, 'police': 0, 'putin': 0, 'ray': 0, 'canadian': 0, 'b': 0, 'gunman': 0, 'petrol': 0, 'robbing': 0, '20': 0, 'according': 0, 'p': 0, 'threatens': 0, 'holed': 0, 'video': 0, 'shot': 0, 'wants': 0, 'hold': 0, 'air': 0, 'confirmed': 0, 'birth': 0, 'breaking': 0, 'showing': 0, 'head': 0, 'kouachi': 0, 'due': 0, 'war': 0, 'shots': 0, 'taking': 0, 'hebdo': 0, 'kill': 0, 'live': 0, 'media': 0, 'hear': 0, 'shooting': 0, ':': 0, '#cdnpoli': 0, 'parliament': 0, 'fired': 0, \"canada's\": 0, '?': 0, 'barking': 0, 'dead': 0, 'shootings': 0, 'station': 0, 'watch': 0, '1': 0, ';': 0, 'girlfriend': 0, 'security': 0, 'orders': 0, 'people': 0, 'gunfire': 0, 'background': 0, '#ferguson': 0, '#charliehebdo': 0, 'witnesses': 0, 'least': 0, 'hero': 0, 'says': 0, 'soldier': 0, 'store': 0, 'paris': 0, 'estate': 0, 'surrounded': 0, 'map': 0, 'cafe': 0, 'charlie': 0, 'suspect': 0, 'hadley': 0, 'national': 0, 'sydney': 0, '#': 0, '.': 0, 'french': 0, 'reports': 0, 'news': 0, 'shooter': 0, 'vickers': 0, '#sydneysiege': 0, 'go': 0, 'flags': 0, 'hill': 0, '\"': 0, '11': 0, 'r': 0, '#ottawa': 0, 'demanding': 0, 'suspects': 0, '|': 0, 'terror': 0, 'memorial': 0, 'u': 0, 'could': 0, 'amid': 0, 'industrial': 0, 'escaped': 0, ',': 0, 'hostages': 0, \"'\": 0, '2': 0}, 'p'), ({'hostage': 0, 'spoke': 0, 'shows': 0, 'harmed': 0, 'pm': 0, 'credited': 0, '-': 0, '#ottnews': 0, 'attack': 0, 'reportedly': 0, '#cbcott': 0, 'ottawa': 0, 'inside': 0, 'killed': 0, 'kevin': 0, 'police': 0, 'putin': 0, 'ray': 0, 'canadian': 0, 'b': 0, 'gunman': 0, 'petrol': 0, 'robbing': 0, '20': 0, 'according': 0, 'p': 0, 'threatens': 0, 'holed': 0, 'video': 0, 'shot': 0, 'wants': 0, 'hold': 0, 'air': 0, 'confirmed': 0, 'birth': 0, 'breaking': 0, 'showing': 0, 'head': 0, 'kouachi': 0, 'due': 0, 'war': 0, 'shots': 0, 'taking': 0, 'hebdo': 0, 'kill': 0, 'live': 0, 'media': 0, 'hear': 0, 'shooting': 0, ':': 0, '#cdnpoli': 0, 'parliament': 0, 'fired': 0, \"canada's\": 0, '?': 0, 'barking': 0, 'dead': 0, 'shootings': 0, 'station': 0, 'watch': 0, '1': 0, ';': 0, 'girlfriend': 0, 'security': 0, 'orders': 0, 'people': 0, 'gunfire': 0, 'background': 0, '#ferguson': 0, '#charliehebdo': 0, 'witnesses': 0, 'least': 0, 'hero': 0, 'says': 0, 'soldier': 0, 'store': 0, 'paris': 0, 'estate': 0, 'surrounded': 0, 'map': 0, 'cafe': 0, 'charlie': 0, 'suspect': 0, 'hadley': 0, 'national': 0, 'sydney': 0, '#': 0, '.': 0, 'french': 0, 'reports': 0, 'news': 0, 'shooter': 0, 'vickers': 0, '#sydneysiege': 0, 'go': 0, 'flags': 0, 'hill': 0, '\"': 0, '11': 0, 'r': 0, '#ottawa': 0, 'demanding': 0, 'suspects': 0, '|': 0, 'terror': 0, 'memorial': 0, 'u': 0, 'could': 0, 'amid': 0, 'industrial': 0, 'escaped': 0, ',': 0, 'hostages': 0, \"'\": 0, '2': 0}, 'R'), ({'hostage': 0, 'spoke': 0, 'shows': 0, 'harmed': 0, 'pm': 0, 'credited': 0, '-': 0, '#ottnews': 0, 'attack': 0, 'reportedly': 0, '#cbcott': 0, 'ottawa': 0, 'inside': 0, 'killed': 0, 'kevin': 0, 'police': 0, 'putin': 0, 'ray': 0, 'canadian': 0, 'b': 0, 'gunman': 0, 'petrol': 0, 'robbing': 0, '20': 0, 'according': 0, 'p': 0, 'threatens': 0, 'holed': 0, 'video': 0, 'shot': 0, 'wants': 0, 'hold': 0, 'air': 0, 'confirmed': 0, 'birth': 0, 'breaking': 0, 'showing': 0, 'head': 0, 'kouachi': 0, 'due': 0, 'war': 0, 'shots': 0, 'taking': 0, 'hebdo': 0, 'kill': 0, 'live': 0, 'media': 0, 'hear': 0, 'shooting': 0, ':': 0, '#cdnpoli': 0, 'parliament': 0, 'fired': 0, \"canada's\": 0, '?': 0, 'barking': 0, 'dead': 0, 'shootings': 0, 'station': 0, 'watch': 0, '1': 0, ';': 0, 'girlfriend': 0, 'security': 0, 'orders': 0, 'people': 0, 'gunfire': 0, 'background': 0, '#ferguson': 0, '#charliehebdo': 0, 'witnesses': 0, 'least': 0, 'hero': 0, 'says': 0, 'soldier': 0, 'store': 0, 'paris': 0, 'estate': 0, 'surrounded': 0, 'map': 0, 'cafe': 0, 'charlie': 0, 'suspect': 0, 'hadley': 0, 'national': 0, 'sydney': 0, '#': 0, '.': 0, 'french': 0, 'reports': 0, 'news': 0, 'shooter': 0, 'vickers': 0, '#sydneysiege': 0, 'go': 0, 'flags': 0, 'hill': 0, '\"': 0, '11': 0, 'r': 0, '#ottawa': 0, 'demanding': 0, 'suspects': 0, '|': 0, 'terror': 0, 'memorial': 0, 'u': 0, 'could': 0, 'amid': 0, 'industrial': 0, 'escaped': 0, ',': 0, 'hostages': 0, \"'\": 0, '2': 0}, 'P'), ({'hostage': 0, 'spoke': 0, 'shows': 0, 'harmed': 0, 'pm': 0, 'credited': 0, '-': 0, '#ottnews': 0, 'attack': 0, 'reportedly': 0, '#cbcott': 0, 'ottawa': 0, 'inside': 0, 'killed': 0, 'kevin': 0, 'police': 0, 'putin': 0, 'ray': 0, 'canadian': 0, 'b': 0, 'gunman': 0, 'petrol': 0, 'robbing': 0, '20': 0, 'according': 0, 'p': 0, 'threatens': 0, 'holed': 0, 'video': 0, 'shot': 0, 'wants': 0, 'hold': 0, 'air': 0, 'confirmed': 0, 'birth': 0, 'breaking': 0, 'showing': 0, 'head': 0, 'kouachi': 0, 'due': 0, 'war': 0, 'shots': 0, 'taking': 0, 'hebdo': 0, 'kill': 0, 'live': 0, 'media': 0, 'hear': 0, 'shooting': 0, ':': 0, '#cdnpoli': 0, 'parliament': 0, 'fired': 0, \"canada's\": 0, '?': 0, 'barking': 0, 'dead': 0, 'shootings': 0, 'station': 0, 'watch': 0, '1': 0, ';': 0, 'girlfriend': 0, 'security': 0, 'orders': 0, 'people': 0, 'gunfire': 0, 'background': 0, '#ferguson': 0, '#charliehebdo': 0, 'witnesses': 0, 'least': 0, 'hero': 0, 'says': 0, 'soldier': 0, 'store': 0, 'paris': 0, 'estate': 0, 'surrounded': 0, 'map': 0, 'cafe': 0, 'charlie': 0, 'suspect': 0, 'hadley': 0, 'national': 0, 'sydney': 0, '#': 0, '.': 0, 'french': 0, 'reports': 0, 'news': 0, 'shooter': 0, 'vickers': 0, '#sydneysiege': 0, 'go': 0, 'flags': 0, 'hill': 0, '\"': 0, '11': 0, 'r': 0, '#ottawa': 0, 'demanding': 0, 'suspects': 0, '|': 0, 'terror': 0, 'memorial': 0, 'u': 0, 'could': 0, 'amid': 0, 'industrial': 0, 'escaped': 0, ',': 0, 'hostages': 0, \"'\": 0, '2': 0}, 'E'), ({'hostage': 0, 'spoke': 0, 'shows': 0, 'harmed': 0, 'pm': 0, 'credited': 0, '-': 0, '#ottnews': 0, 'attack': 0, 'reportedly': 0, '#cbcott': 0, 'ottawa': 0, 'inside': 0, 'killed': 0, 'kevin': 0, 'police': 0, 'putin': 0, 'ray': 0, 'canadian': 0, 'b': 0, 'gunman': 0, 'petrol': 0, 'robbing': 0, '20': 0, 'according': 0, 'p': 0, 'threatens': 0, 'holed': 0, 'video': 0, 'shot': 0, 'wants': 0, 'hold': 0, 'air': 0, 'confirmed': 0, 'birth': 0, 'breaking': 0, 'showing': 0, 'head': 0, 'kouachi': 0, 'due': 0, 'war': 0, 'shots': 0, 'taking': 0, 'hebdo': 0, 'kill': 0, 'live': 0, 'media': 0, 'hear': 0, 'shooting': 0, ':': 0, '#cdnpoli': 0, 'parliament': 0, 'fired': 0, \"canada's\": 0, '?': 0, 'barking': 0, 'dead': 0, 'shootings': 0, 'station': 0, 'watch': 0, '1': 0, ';': 0, 'girlfriend': 0, 'security': 0, 'orders': 0, 'people': 0, 'gunfire': 0, 'background': 0, '#ferguson': 0, '#charliehebdo': 0, 'witnesses': 0, 'least': 0, 'hero': 0, 'says': 0, 'soldier': 0, 'store': 0, 'paris': 0, 'estate': 0, 'surrounded': 0, 'map': 0, 'cafe': 0, 'charlie': 0, 'suspect': 0, 'hadley': 0, 'national': 0, 'sydney': 0, '#': 0, '.': 0, 'french': 0, 'reports': 0, 'news': 0, 'shooter': 0, 'vickers': 0, '#sydneysiege': 0, 'go': 0, 'flags': 0, 'hill': 0, '\"': 0, '11': 0, 'r': 0, '#ottawa': 0, 'demanding': 0, 'suspects': 0, '|': 0, 'terror': 0, 'memorial': 0, 'u': 0, 'could': 0, 'amid': 0, 'industrial': 0, 'escaped': 0, ',': 0, 'hostages': 0, \"'\": 0, '2': 0}, 'P'), ({'hostage': 0, 'spoke': 0, 'shows': 0, 'harmed': 0, 'pm': 0, 'credited': 0, '-': 0, '#ottnews': 0, 'attack': 0, 'reportedly': 0, '#cbcott': 0, 'ottawa': 0, 'inside': 0, 'killed': 0, 'kevin': 0, 'police': 0, 'putin': 0, 'ray': 0, 'canadian': 0, 'b': 0, 'gunman': 0, 'petrol': 0, 'robbing': 0, '20': 0, 'according': 0, 'p': 0, 'threatens': 0, 'holed': 0, 'video': 0, 'shot': 0, 'wants': 0, 'hold': 0, 'air': 0, 'confirmed': 0, 'birth': 0, 'breaking': 0, 'showing': 0, 'head': 0, 'kouachi': 0, 'due': 0, 'war': 0, 'shots': 0, 'taking': 0, 'hebdo': 0, 'kill': 0, 'live': 0, 'media': 0, 'hear': 0, 'shooting': 0, ':': 0, '#cdnpoli': 0, 'parliament': 0, 'fired': 0, \"canada's\": 0, '?': 0, 'barking': 0, 'dead': 0, 'shootings': 0, 'station': 0, 'watch': 0, '1': 0, ';': 0, 'girlfriend': 0, 'security': 0, 'orders': 0, 'people': 0, 'gunfire': 0, 'background': 0, '#ferguson': 0, '#charliehebdo': 0, 'witnesses': 0, 'least': 0, 'hero': 0, 'says': 0, 'soldier': 0, 'store': 0, 'paris': 0, 'estate': 0, 'surrounded': 0, 'map': 0, 'cafe': 0, 'charlie': 0, 'suspect': 0, 'hadley': 0, 'national': 0, 'sydney': 0, '#': 0, '.': 0, 'french': 0, 'reports': 0, 'news': 0, 'shooter': 0, 'vickers': 0, '#sydneysiege': 0, 'go': 0, 'flags': 0, 'hill': 0, '\"': 0, '11': 0, 'r': 0, '#ottawa': 0, 'demanding': 0, 'suspects': 0, '|': 0, 'terror': 0, 'memorial': 0, 'u': 0, 'could': 0, 'amid': 0, 'industrial': 0, 'escaped': 0, ',': 0, 'hostages': 0, \"'\": 0, '2': 0}, 'o'), ({'hostage': 0, 'spoke': 0, 'shows': 0, 'harmed': 0, 'pm': 0, 'credited': 0, '-': 0, '#ottnews': 0, 'attack': 0, 'reportedly': 0, '#cbcott': 0, 'ottawa': 0, 'inside': 0, 'killed': 0, 'kevin': 0, 'police': 0, 'putin': 0, 'ray': 0, 'canadian': 0, 'b': 0, 'gunman': 0, 'petrol': 0, 'robbing': 0, '20': 0, 'according': 0, 'p': 0, 'threatens': 0, 'holed': 0, 'video': 0, 'shot': 0, 'wants': 0, 'hold': 0, 'air': 0, 'confirmed': 0, 'birth': 0, 'breaking': 0, 'showing': 0, 'head': 0, 'kouachi': 0, 'due': 0, 'war': 0, 'shots': 0, 'taking': 0, 'hebdo': 0, 'kill': 0, 'live': 0, 'media': 0, 'hear': 0, 'shooting': 0, ':': 0, '#cdnpoli': 0, 'parliament': 0, 'fired': 0, \"canada's\": 0, '?': 0, 'barking': 0, 'dead': 0, 'shootings': 0, 'station': 0, 'watch': 0, '1': 0, ';': 0, 'girlfriend': 0, 'security': 0, 'orders': 0, 'people': 0, 'gunfire': 0, 'background': 0, '#ferguson': 0, '#charliehebdo': 0, 'witnesses': 0, 'least': 0, 'hero': 0, 'says': 0, 'soldier': 0, 'store': 0, 'paris': 0, 'estate': 0, 'surrounded': 0, 'map': 0, 'cafe': 0, 'charlie': 0, 'suspect': 0, 'hadley': 0, 'national': 0, 'sydney': 0, '#': 1, '.': 0, 'french': 0, 'reports': 0, 'news': 0, 'shooter': 0, 'vickers': 0, '#sydneysiege': 0, 'go': 0, 'flags': 0, 'hill': 0, '\"': 0, '11': 0, 'r': 0, '#ottawa': 0, 'demanding': 0, 'suspects': 0, '|': 0, 'terror': 0, 'memorial': 0, 'u': 0, 'could': 0, 'amid': 0, 'industrial': 0, 'escaped': 0, ',': 0, 'hostages': 0, \"'\": 0, '2': 0}, 'p'), ({'hostage': 0, 'spoke': 0, 'shows': 0, 'harmed': 0, 'pm': 0, 'credited': 0, '-': 0, '#ottnews': 0, 'attack': 0, 'reportedly': 0, '#cbcott': 0, 'ottawa': 0, 'inside': 0, 'killed': 0, 'kevin': 0, 'police': 0, 'putin': 0, 'ray': 0, 'canadian': 0, 'b': 0, 'gunman': 0, 'petrol': 0, 'robbing': 0, '20': 0, 'according': 0, 'p': 0, 'threatens': 0, 'holed': 0, 'video': 0, 'shot': 0, 'wants': 0, 'hold': 0, 'air': 0, 'confirmed': 0, 'birth': 0, 'breaking': 0, 'showing': 0, 'head': 0, 'kouachi': 0, 'due': 0, 'war': 0, 'shots': 0, 'taking': 0, 'hebdo': 0, 'kill': 0, 'live': 0, 'media': 0, 'hear': 0, 'shooting': 0, ':': 0, '#cdnpoli': 0, 'parliament': 0, 'fired': 0, \"canada's\": 0, '?': 0, 'barking': 0, 'dead': 0, 'shootings': 0, 'station': 0, 'watch': 0, '1': 0, ';': 0, 'girlfriend': 0, 'security': 0, 'orders': 0, 'people': 0, 'gunfire': 0, 'background': 0, '#ferguson': 0, '#charliehebdo': 0, 'witnesses': 0, 'least': 0, 'hero': 0, 'says': 0, 'soldier': 0, 'store': 0, 'paris': 0, 'estate': 0, 'surrounded': 0, 'map': 0, 'cafe': 0, 'charlie': 0, 'suspect': 0, 'hadley': 0, 'national': 0, 'sydney': 0, '#': 0, '.': 0, 'french': 0, 'reports': 0, 'news': 0, 'shooter': 0, 'vickers': 0, '#sydneysiege': 0, 'go': 0, 'flags': 0, 'hill': 0, '\"': 0, '11': 0, 'r': 0, '#ottawa': 0, 'demanding': 0, 'suspects': 0, '|': 0, 'terror': 0, 'memorial': 0, 'u': 0, 'could': 0, 'amid': 0, 'industrial': 0, 'escaped': 0, ',': 0, 'hostages': 0, \"'\": 0, '2': 0}, 'p'), ({'hostage': 0, 'spoke': 0, 'shows': 0, 'harmed': 0, 'pm': 0, 'credited': 0, '-': 0, '#ottnews': 0, 'attack': 0, 'reportedly': 0, '#cbcott': 0, 'ottawa': 0, 'inside': 0, 'killed': 0, 'kevin': 0, 'police': 0, 'putin': 0, 'ray': 0, 'canadian': 0, 'b': 0, 'gunman': 0, 'petrol': 0, 'robbing': 0, '20': 0, 'according': 0, 'p': 0, 'threatens': 0, 'holed': 0, 'video': 0, 'shot': 0, 'wants': 0, 'hold': 0, 'air': 0, 'confirmed': 0, 'birth': 0, 'breaking': 0, 'showing': 0, 'head': 0, 'kouachi': 0, 'due': 0, 'war': 0, 'shots': 0, 'taking': 0, 'hebdo': 0, 'kill': 0, 'live': 0, 'media': 0, 'hear': 0, 'shooting': 0, ':': 0, '#cdnpoli': 0, 'parliament': 0, 'fired': 0, \"canada's\": 0, '?': 0, 'barking': 0, 'dead': 0, 'shootings': 0, 'station': 0, 'watch': 0, '1': 0, ';': 0, 'girlfriend': 0, 'security': 0, 'orders': 0, 'people': 0, 'gunfire': 0, 'background': 0, '#ferguson': 0, '#charliehebdo': 0, 'witnesses': 0, 'least': 0, 'hero': 0, 'says': 0, 'soldier': 0, 'store': 0, 'paris': 0, 'estate': 0, 'surrounded': 0, 'map': 0, 'cafe': 0, 'charlie': 0, 'suspect': 0, 'hadley': 0, 'national': 0, 'sydney': 0, '#': 0, '.': 0, 'french': 0, 'reports': 0, 'news': 0, 'shooter': 0, 'vickers': 0, '#sydneysiege': 0, 'go': 0, 'flags': 0, 'hill': 0, '\"': 0, '11': 0, 'r': 0, '#ottawa': 0, 'demanding': 0, 'suspects': 0, '|': 0, 'terror': 0, 'memorial': 0, 'u': 0, 'could': 0, 'amid': 0, 'industrial': 0, 'escaped': 0, ',': 0, 'hostages': 0, \"'\": 0, '2': 0}, 'h'), ({'hostage': 0, 'spoke': 0, 'shows': 0, 'harmed': 0, 'pm': 0, 'credited': 0, '-': 0, '#ottnews': 0, 'attack': 0, 'reportedly': 0, '#cbcott': 0, 'ottawa': 0, 'inside': 0, 'killed': 0, 'kevin': 0, 'police': 0, 'putin': 0, 'ray': 0, 'canadian': 0, 'b': 0, 'gunman': 0, 'petrol': 0, 'robbing': 0, '20': 0, 'according': 0, 'p': 0, 'threatens': 0, 'holed': 0, 'video': 0, 'shot': 0, 'wants': 0, 'hold': 0, 'air': 0, 'confirmed': 0, 'birth': 0, 'breaking': 0, 'showing': 0, 'head': 0, 'kouachi': 0, 'due': 0, 'war': 0, 'shots': 0, 'taking': 0, 'hebdo': 0, 'kill': 0, 'live': 0, 'media': 0, 'hear': 0, 'shooting': 0, ':': 0, '#cdnpoli': 0, 'parliament': 0, 'fired': 0, \"canada's\": 0, '?': 0, 'barking': 0, 'dead': 0, 'shootings': 0, 'station': 0, 'watch': 0, '1': 0, ';': 0, 'girlfriend': 0, 'security': 0, 'orders': 0, 'people': 0, 'gunfire': 0, 'background': 0, '#ferguson': 0, '#charliehebdo': 0, 'witnesses': 0, 'least': 0, 'hero': 0, 'says': 0, 'soldier': 0, 'store': 0, 'paris': 0, 'estate': 0, 'surrounded': 0, 'map': 0, 'cafe': 0, 'charlie': 0, 'suspect': 0, 'hadley': 0, 'national': 0, 'sydney': 0, '#': 0, '.': 0, 'french': 0, 'reports': 0, 'news': 0, 'shooter': 0, 'vickers': 0, '#sydneysiege': 0, 'go': 0, 'flags': 0, 'hill': 0, '\"': 0, '11': 0, 'r': 0, '#ottawa': 0, 'demanding': 0, 'suspects': 0, '|': 0, 'terror': 0, 'memorial': 0, 'u': 0, 'could': 0, 'amid': 0, 'industrial': 0, 'escaped': 0, ',': 0, 'hostages': 0, \"'\": 0, '2': 0}, 'y')]\n"
    }
   ],
   "source": [
    "vectorSet=list()\n",
    "for tweet in uncleanData:\n",
    "    temp=dict()\n",
    "    for item in noStopUnigrams:\n",
    "        if item in tknzr.tokenize(tweet[0]):\n",
    "            temp[item]=1\n",
    "        else:\n",
    "            temp[item]=0\n",
    "    vectorSet.append((temp,tweet[1]))\n",
    "print(vectorSet)"
   ]
  },
  {
   "cell_type": "code",
   "execution_count": 37,
   "metadata": {},
   "outputs": [
    {
     "name": "stdout",
     "output_type": "stream",
     "text": "rding': 0, 'p': 0, 'threatens': 0, 'holed': 0, 'video': 0, 'shot': 0, 'wants': 0, 'hold': 0, 'air': 0, 'confirmed': 0, 'birth': 0, 'breaking': 0, 'showing': 0, 'head': 0, 'kouachi': 0, 'due': 0, 'war': 0, 'shots': 0, 'taking': 0, 'hebdo': 0, 'kill': 0, 'live': 0, 'media': 0, 'hear': 0, 'shooting': 0, ':': 1, '#cdnpoli': 0, 'parliament': 0, 'fired': 0, \"canada's\": 0, '?': 0, 'barking': 0, 'dead': 0, 'shootings': 0, 'station': 0, 'watch': 0, '1': 0, ';': 0, 'girlfriend': 0, 'security': 0, 'orders': 0, 'people': 0, 'gunfire': 0, 'background': 0, '#ferguson': 0, '#charliehebdo': 0, 'witnesses': 0, 'least': 0, 'hero': 0, 'says': 0, 'soldier': 0, 'store': 0, 'paris': 0, 'estate': 0, 'surrounded': 0, 'map': 0, 'cafe': 0, 'charlie': 0, 'suspect': 0, 'hadley': 0, 'national': 0, 'sydney': 0, '#': 0, '.': 0, 'french': 0, 'reports': 0, 'news': 0, 'shooter': 0, 'vickers': 0, '#sydneysiege': 0, 'go': 0, 'flags': 0, 'hill': 0, '\"': 0, '11': 0, 'r': 0, '#ottawa': 0, 'demanding': 0, 'suspects': 0, '|': 0, 'terror': 0, 'memorial': 0, 'u': 0, 'could': 0, 'amid': 0, 'industrial': 0, 'escaped': 0, ',': 0, 'hostages': 0, \"'\": 0, '2': 0}, 'false'), ({'hostage': 0, 'spoke': 0, 'shows': 0, 'harmed': 0, 'pm': 0, 'credited': 0, '-': 0, '#ottnews': 0, 'attack': 0, 'reportedly': 0, '#cbcott': 0, 'ottawa': 0, 'inside': 0, 'killed': 0, 'kevin': 0, 'police': 0, 'putin': 0, 'ray': 0, 'canadian': 0, 'b': 0, 'gunman': 0, 'petrol': 0, 'robbing': 0, '20': 0, 'according': 0, 'p': 0, 'threatens': 0, 'holed': 0, 'video': 0, 'shot': 0, 'wants': 0, 'hold': 0, 'air': 0, 'confirmed': 0, 'birth': 0, 'breaking': 0, 'showing': 0, 'head': 0, 'kouachi': 0, 'due': 0, 'war': 0, 'shots': 0, 'taking': 0, 'hebdo': 0, 'kill': 0, 'live': 0, 'media': 0, 'hear': 0, 'shooting': 0, ':': 0, '#cdnpoli': 0, 'parliament': 0, 'fired': 0, \"canada's\": 0, '?': 0, 'barking': 0, 'dead': 0, 'shootings': 0, 'station': 0, 'watch': 0, '1': 0, ';': 0, 'girlfriend': 0, 'security': 0, 'orders': 0, 'people': 0, 'gunfire': 0, 'background': 0, '#ferguson': 0, '#charliehebdo': 0, 'witnesses': 0, 'least': 0, 'hero': 0, 'says': 0, 'soldier': 0, 'store': 0, 'paris': 0, 'estate': 0, 'surrounded': 0, 'map': 0, 'cafe': 0, 'charlie': 0, 'suspect': 0, 'hadley': 0, 'national': 0, 'sydney': 0, '#': 0, '.': 1, 'french': 0, 'reports': 0, 'news': 0, 'shooter': 0, 'vickers': 0, '#sydneysiege': 0, 'go': 0, 'flags': 0, 'hill': 0, '\"': 0, '11': 0, 'r': 0, '#ottawa': 0, 'demanding': 0, 'suspects': 0, '|': 0, 'terror': 0, 'memorial': 0, 'u': 0, 'could': 0, 'amid': 0, 'industrial': 0, 'escaped': 0, ',': 0, 'hostages': 0, \"'\": 0, '2': 0}, 'true'), ({'hostage': 0, 'spoke': 0, 'shows': 0, 'harmed': 0, 'pm': 0, 'credited': 0, '-': 0, '#ottnews': 0, 'attack': 0, 'reportedly': 0, '#cbcott': 0, 'ottawa': 0, 'inside': 0, 'killed': 0, 'kevin': 0, 'police': 0, 'putin': 0, 'ray': 0, 'canadian': 0, 'b': 0, 'gunman': 0, 'petrol': 0, 'robbing': 0, '20': 0, 'according': 0, 'p': 0, 'threatens': 0, 'holed': 0, 'video': 0, 'shot': 0, 'wants': 0, 'hold': 0, 'air': 0, 'confirmed': 0, 'birth': 0, 'breaking': 0, 'showing': 0, 'head': 0, 'kouachi': 0, 'due': 0, 'war': 0, 'shots': 0, 'taking': 0, 'hebdo': 0, 'kill': 0, 'live': 0, 'media': 0, 'hear': 0, 'shooting': 0, ':': 1, '#cdnpoli': 0, 'parliament': 0, 'fired': 0, \"canada's\": 0, '?': 0, 'barking': 0, 'dead': 0, 'shootings': 0, 'station': 0, 'watch': 0, '1': 0, ';': 1, 'girlfriend': 0, 'security': 0, 'orders': 0, 'people': 0, 'gunfire': 0, 'background': 0, '#ferguson': 0, '#charliehebdo': 0, 'witnesses': 0, 'least': 0, 'hero': 0, 'says': 0, 'soldier': 0, 'store': 0, 'paris': 0, 'estate': 0, 'surrounded': 0, 'map': 0, 'cafe': 0, 'charlie': 0, 'suspect': 0, 'hadley': 0, 'national': 0, 'sydney': 0, '#': 0, '.': 1, 'french': 0, 'reports': 0, 'news': 0, 'shooter': 0, 'vickers': 0, '#sydneysiege': 0, 'go': 0, 'flags': 0, 'hill': 0, '\"': 1, '11': 0, 'r': 0, '#ottawa': 0, 'demanding': 0, 'suspects': 0, '|': 0, 'terror': 0, 'memorial': 0, 'u': 0, 'could': 0, 'amid': 0, 'industrial': 0, 'escaped': 0, ',': 0, 'hostages': 0, \"'\": 0, '2': 0}, 'false'), ({'hostage': 0, 'spoke': 0, 'shows': 0, 'harmed': 0, 'pm': 0, 'credited': 0, '-': 0, '#ottnews': 0, 'attack': 0, 'reportedly': 0, '#cbcott': 0, 'ottawa': 0, 'inside': 0, 'killed': 0, 'kevin': 0, 'police': 0, 'putin': 0, 'ray': 0, 'canadian': 0, 'b': 0, 'gunman': 0, 'petrol': 0, 'robbing': 0, '20': 0, 'according': 0, 'p': 0, 'threatens': 0, 'holed': 0, 'video': 0, 'shot': 0, 'wants': 0, 'hold': 0, 'air': 0, 'confirmed': 0, 'birth': 0, 'breaking': 0, 'showing': 0, 'head': 0, 'kouachi': 0, 'due': 0, 'war': 0, 'shots': 0, 'taking': 0, 'hebdo': 0, 'kill': 0, 'live': 0, 'media': 0, 'hear': 0, 'shooting': 0, ':': 0, '#cdnpoli': 0, 'parliament': 0, 'fired': 0, \"canada's\": 0, '?': 0, 'barking': 0, 'dead': 0, 'shootings': 0, 'station': 0, 'watch': 0, '1': 0, ';': 0, 'girlfriend': 0, 'security': 0, 'orders': 0, 'people': 0, 'gunfire': 0, 'background': 0, '#ferguson': 0, '#charliehebdo': 0, 'witnesses': 0, 'least': 0, 'hero': 0, 'says': 0, 'soldier': 0, 'store': 0, 'paris': 0, 'estate': 0, 'surrounded': 0, 'map': 0, 'cafe': 0, 'charlie': 0, 'suspect': 0, 'hadley': 0, 'national': 0, 'sydney': 0, '#': 0, '.': 0, 'french': 0, 'reports': 0, 'news': 0, 'shooter': 0, 'vickers': 0, '#sydneysiege': 0, 'go': 0, 'flags': 0, 'hill': 0, '\"': 0, '11': 0, 'r': 0, '#ottawa': 0, 'demanding': 0, 'suspects': 0, '|': 0, 'terror': 0, 'memorial': 0, 'u': 0, 'could': 0, 'amid': 0, 'industrial': 0, 'escaped': 0, ',': 0, 'hostages': 0, \"'\": 0, '2': 0}, 'false'), ({'hostage': 0, 'spoke': 0, 'shows': 0, 'harmed': 0, 'pm': 0, 'credited': 0, '-': 0, '#ottnews': 0, 'attack': 0, 'reportedly': 0, '#cbcott': 0, 'ottawa': 0, 'inside': 0, 'killed': 0, 'kevin': 0, 'police': 0, 'putin': 0, 'ray': 0, 'canadian': 0, 'b': 0, 'gunman': 0, 'petrol': 0, 'robbing': 0, '20': 0, 'according': 0, 'p': 0, 'threatens': 0, 'holed': 0, 'video': 0, 'shot': 0, 'wants': 0, 'hold': 0, 'air': 0, 'confirmed': 0, 'birth': 0, 'breaking': 0, 'showing': 0, 'head': 0, 'kouachi': 0, 'due': 0, 'war': 0, 'shots': 0, 'taking': 0, 'hebdo': 0, 'kill': 0, 'live': 0, 'media': 0, 'hear': 0, 'shooting': 0, ':': 1, '#cdnpoli': 0, 'parliament': 0, 'fired': 0, \"canada's\": 0, '?': 0, 'barking': 0, 'dead': 1, 'shootings': 0, 'station': 0, 'watch': 0, '1': 0, ';': 0, 'girlfriend': 0, 'security': 0, 'orders': 0, 'people': 0, 'gunfire': 0, 'background': 0, '#ferguson': 0, '#charliehebdo': 0, 'witnesses': 0, 'least': 0, 'hero': 0, 'says': 0, 'soldier': 0, 'store': 0, 'paris': 0, 'estate': 0, 'surrounded': 0, 'map': 0, 'cafe': 0, 'charlie': 0, 'suspect': 0, 'hadley': 0, 'national': 0, 'sydney': 0, '#': 0, '.': 0, 'french': 0, 'reports': 0, 'news': 0, 'shooter': 0, 'vickers': 0, '#sydneysiege': 0, 'go': 0, 'flags': 0, 'hill': 0, '\"': 0, '11': 0, 'r': 0, '#ottawa': 0, 'demanding': 0, 'suspects': 0, '|': 0, 'terror': 0, 'memorial': 0, 'u': 0, 'could': 0, 'amid': 0, 'industrial': 0, 'escaped': 0, ',': 0, 'hostages': 0, \"'\": 0, '2': 0}, 'false'), ({'hostage': 0, 'spoke': 0, 'shows': 0, 'harmed': 0, 'pm': 0, 'credited': 0, '-': 0, '#ottnews': 0, 'attack': 0, 'reportedly': 0, '#cbcott': 0, 'ottawa': 0, 'inside': 0, 'killed': 0, 'kevin': 0, 'police': 0, 'putin': 0, 'ray': 0, 'canadian': 0, 'b': 0, 'gunman': 0, 'petrol': 0, 'robbing': 0, '20': 0, 'according': 0, 'p': 0, 'threatens': 0, 'holed': 0, 'video': 0, 'shot': 0, 'wants': 0, 'hold': 0, 'air': 0, 'confirmed': 0, 'birth': 0, 'breaking': 0, 'showing': 0, 'head': 0, 'kouachi': 0, 'due': 0, 'war': 0, 'shots': 0, 'taking': 0, 'hebdo': 0, 'kill': 0, 'live': 0, 'media': 0, 'hear': 0, 'shooting': 0, ':': 0, '#cdnpoli': 0, 'parliament': 0, 'fired': 0, \"canada's\": 0, '?': 0, 'barking': 0, 'dead': 0, 'shootings': 0, 'station': 0, 'watch': 0, '1': 0, ';': 0, 'girlfriend': 0, 'security': 0, 'orders': 0, 'people': 0, 'gunfire': 0, 'background': 0, '#ferguson': 0, '#charliehebdo': 0, 'witnesses': 0, 'least': 0, 'hero': 0, 'says': 0, 'soldier': 0, 'store': 0, 'paris': 0, 'estate': 0, 'surrounded': 0, 'map': 0, 'cafe': 0, 'charlie': 0, 'suspect': 0, 'hadley': 0, 'national': 0, 'sydney': 0, '#': 0, '.': 0, 'french': 0, 'reports': 0, 'news': 0, 'shooter': 0, 'vickers': 0, '#sydneysiege': 0, 'go': 0, 'flags': 0, 'hill': 0, '\"': 1, '11': 0, 'r': 0, '#ottawa': 0, 'demanding': 0, 'suspects': 0, '|': 0, 'terror': 0, 'memorial': 0, 'u': 0, 'could': 0, 'amid': 0, 'industrial': 0, 'escaped': 0, ',': 0, 'hostages': 0, \"'\": 0, '2': 0}, 'true'), ({'hostage': 0, 'spoke': 0, 'shows': 0, 'harmed': 0, 'pm': 0, 'credited': 0, '-': 0, '#ottnews': 0, 'attack': 0, 'reportedly': 0, '#cbcott': 0, 'ottawa': 0, 'inside': 0, 'killed': 0, 'kevin': 0, 'police': 0, 'putin': 0, 'ray': 0, 'canadian': 0, 'b': 0, 'gunman': 0, 'petrol': 0, 'robbing': 0, '20': 0, 'according': 0, 'p': 0, 'threatens': 0, 'holed': 0, 'video': 0, 'shot': 0, 'wants': 0, 'hold': 0, 'air': 0, 'confirmed': 0, 'birth': 0, 'breaking': 0, 'showing': 0, 'head': 0, 'kouachi': 0, 'due': 0, 'war': 0, 'shots': 0, 'taking': 0, 'hebdo': 0, 'kill': 0, 'live': 0, 'media': 0, 'hear': 0, 'shooting': 0, ':': 1, '#cdnpoli': 0, 'parliament': 0, 'fired': 0, \"canada's\": 0, '?': 0, 'barking': 0, 'dead': 0, 'shootings': 0, 'station': 0, 'watch': 0, '1': 0, ';': 0, 'girlfriend': 0, 'security': 0, 'orders': 0, 'people': 0, 'gunfire': 0, 'background': 0, '#ferguson': 0, '#charliehebdo': 0, 'witnesses': 0, 'least': 0, 'hero': 0, 'says': 0, 'soldier': 0, 'store': 0, 'paris': 0, 'estate': 0, 'surrounded': 0, 'map': 0, 'cafe': 0, 'charlie': 0, 'suspect': 0, 'hadley': 0, 'national': 0, 'sydney': 0, '#': 0, '.': 1, 'french': 0, 'reports': 0, 'news': 0, 'shooter': 0, 'vickers': 0, '#sydneysiege': 0, 'go': 0, 'flags': 0, 'hill': 0, '\"': 1, '11': 0, 'r': 0, '#ottawa': 0, 'demanding': 0, 'suspects': 0, '|': 0, 'terror': 0, 'memorial': 0, 'u': 0, 'could': 0, 'amid': 0, 'industrial': 0, 'escaped': 0, ',': 1, 'hostages': 0, \"'\": 0, '2': 0}, 'false'), ({'hostage': 0, 'spoke': 0, 'shows': 0, 'harmed': 0, 'pm': 0, 'credited': 0, '-': 0, '#ottnews': 0, 'attack': 0, 'reportedly': 0, '#cbcott': 0, 'ottawa': 0, 'inside': 0, 'killed': 0, 'kevin': 0, 'police': 0, 'putin': 0, 'ray': 0, 'canadian': 0, 'b': 0, 'gunman': 0, 'petrol': 0, 'robbing': 0, '20': 0, 'according': 0, 'p': 0, 'threatens': 0, 'holed': 0, 'video': 0, 'shot': 0, 'wants': 0, 'hold': 0, 'air': 0, 'confirmed': 0, 'birth': 0, 'breaking': 0, 'showing': 0, 'head': 0, 'kouachi': 0, 'due': 0, 'war': 0, 'shots': 0, 'taking': 0, 'hebdo': 0, 'kill': 0, 'live': 0, 'media': 0, 'hear': 0, 'shooting': 0, ':': 0, '#cdnpoli': 0, 'parliament': 0, 'fired': 0, \"canada's\": 0, '?': 0, 'barking': 0, 'dead': 0, 'shootings': 0, 'station': 0, 'watch': 0, '1': 0, ';': 0, 'girlfriend': 0, 'security': 0, 'orders': 0, 'people': 0, 'gunfire': 0, 'background': 0, '#ferguson': 0, '#charliehebdo': 0, 'witnesses': 0, 'least': 0, 'hero': 0, 'says': 1, 'soldier': 0, 'store': 0, 'paris': 0, 'estate': 0, 'surrounded': 0, 'map': 0, 'cafe': 0, 'charlie': 0, 'suspect': 0, 'hadley': 0, 'national': 0, 'sydney': 0, '#': 0, '.': 1, 'french': 0, 'reports': 0, 'news': 0, 'shooter': 0, 'vickers': 0, '#sydneysiege': 0, 'go': 0, 'flags': 0, 'hill': 0, '\"': 0, '11': 0, 'r': 0, '#ottawa': 0, 'demanding': 0, 'suspects': 0, '|': 0, 'terror': 0, 'memorial': 0, 'u': 0, 'could': 0, 'amid': 0, 'industrial': 0, 'escaped': 0, ',': 1, 'hostages': 0, \"'\": 0, '2': 0}, 'true'), ({'hostage': 0, 'spoke': 0, 'shows': 0, 'harmed': 0, 'pm': 0, 'credited': 0, '-': 0, '#ottnews': 0, 'attack': 0, 'reportedly': 0, '#cbcott': 0, 'ottawa': 0, 'inside': 0, 'killed': 0, 'kevin': 0, 'police': 0, 'putin': 0, 'ray': 0, 'canadian': 0, 'b': 0, 'gunman': 0, 'petrol': 0, 'robbing': 0, '20': 0, 'according': 0, 'p': 0, 'threatens': 0, 'holed': 0, 'video': 0, 'shot': 0, 'wants': 0, 'hold': 0, 'air': 0, 'confirmed': 0, 'birth': 0, 'breaking': 0, 'showing': 0, 'head': 0, 'kouachi': 0, 'due': 0, 'war': 0, 'shots': 0, 'taking': 0, 'hebdo': 0, 'kill': 0, 'live': 0, 'media': 0, 'hear': 0, 'shooting': 0, ':': 1, '#cdnpoli': 0, 'parliament': 0, 'fired': 0, \"canada's\": 0, '?': 0, 'barking': 0, 'dead': 0, 'shootings': 0, 'station': 0, 'watch': 0, '1': 0, ';': 0, 'girlfriend': 0, 'security': 0, 'orders': 0, 'people': 0, 'gunfire': 0, 'background': 0, '#ferguson': 0, '#charliehebdo': 0, 'witnesses': 0, 'least': 0, 'hero': 0, 'says': 0, 'soldier': 0, 'store': 0, 'paris': 0, 'estate': 0, 'surrounded': 0, 'map': 0, 'cafe': 0, 'charlie': 0, 'suspect': 0, 'hadley': 0, 'national': 0, 'sydney': 0, '#': 0, '.': 0, 'french': 0, 'reports': 0, 'news': 0, 'shooter': 0, 'vickers': 0, '#sydneysiege': 0, 'go': 0, 'flags': 0, 'hill': 0, '\"': 0, '11': 0, 'r': 0, '#ottawa': 0, 'demanding': 0, 'suspects': 0, '|': 0, 'terror': 0, 'memorial': 0, 'u': 0, 'could': 0, 'amid': 0, 'industrial': 0, 'escaped': 0, ',': 0, 'hostages': 0, \"'\": 0, '2': 0}, 'true'), ({'hostage': 0, 'spoke': 0, 'shows': 0, 'harmed': 0, 'pm': 0, 'credited': 0, '-': 1, '#ottnews': 0, 'attack': 0, 'reportedly': 0, '#cbcott': 0, 'ottawa': 0, 'inside': 0, 'killed': 0, 'kevin': 0, 'police': 0, 'putin': 0, 'ray': 0, 'canadian': 0, 'b': 0, 'gunman': 0, 'petrol': 0, 'robbing': 0, '20': 0, 'according': 0, 'p': 0, 'threatens': 0, 'holed': 0, 'video': 0, 'shot': 0, 'wants': 0, 'hold': 0, 'air': 0, 'confirmed': 0, 'birth': 0, 'breaking': 0, 'showing': 0, 'head': 0, 'kouachi': 0, 'due': 0, 'war': 0, 'shots': 0, 'taking': 0, 'hebdo': 0, 'kill': 0, 'live': 0, 'media': 0, 'hear': 0, 'shooting': 0, ':': 0, '#cdnpoli': 0, 'parliament': 0, 'fired': 0, \"canada's\": 0, '?': 0, 'barking': 0, 'dead': 0, 'shootings': 0, 'station': 0, 'watch': 0, '1': 0, ';': 0, 'girlfriend': 0, 'security': 0, 'orders': 0, 'people': 0, 'gunfire': 0, 'background': 0, '#ferguson': 0, '#charliehebdo': 0, 'witnesses': 0, 'least': 0, 'hero': 0, 'says': 0, 'soldier': 0, 'store': 0, 'paris': 0, 'estate': 0, 'surrounded': 0, 'map': 0, 'cafe': 0, 'charlie': 0, 'suspect': 0, 'hadley': 0, 'national': 0, 'sydney': 0, '#': 0, '.': 1, 'french': 0, 'reports': 0, 'news': 0, 'shooter': 0, 'vickers': 0, '#sydneysiege': 0, 'go': 0, 'flags': 0, 'hill': 0, '\"': 0, '11': 0, 'r': 0, '#ottawa': 0, 'demanding': 0, 'suspects': 0, '|': 0, 'terror': 0, 'memorial': 0, 'u': 0, 'could': 0, 'amid': 0, 'industrial': 0, 'escaped': 0, ',': 0, 'hostages': 0, \"'\": 0, '2': 0}, 'true'), ({'hostage': 0, 'spoke': 0, 'shows': 0, 'harmed': 0, 'pm': 0, 'credited': 0, '-': 0, '#ottnews': 0, 'attack': 0, 'reportedly': 0, '#cbcott': 0, 'ottawa': 0, 'inside': 0, 'killed': 0, 'kevin': 0, 'police': 0, 'putin': 0, 'ray': 0, 'canadian': 0, 'b': 0, 'gunman': 0, 'petrol': 0, 'robbing': 0, '20': 0, 'according': 0, 'p': 0, 'threatens': 0, 'holed': 0, 'video': 0, 'shot': 0, 'wants': 0, 'hold': 0, 'air': 0, 'confirmed': 0, 'birth': 0, 'breaking': 0, 'showing': 0, 'head': 0, 'kouachi': 0, 'due': 0, 'war': 0, 'shots': 0, 'taking': 0, 'hebdo': 0, 'kill': 0, 'live': 0, 'media': 0, 'hear': 0, 'shooting': 0, ':': 1, '#cdnpoli': 0, 'parliament': 0, 'fired': 0, \"canada's\": 0, '?': 0, 'barking': 0, 'dead': 0, 'shootings': 0, 'station': 0, 'watch': 0, '1': 0, ';': 0, 'girlfriend': 0, 'security': 0, 'orders': 0, 'people': 0, 'gunfire': 0, 'background': 0, '#ferguson': 0, '#charliehebdo': 0, 'witnesses': 0, 'least': 0, 'hero': 0, 'says': 0, 'soldier': 0, 'store': 0, 'paris': 0, 'estate': 0, 'surrounded': 0, 'map': 0, 'cafe': 0, 'charlie': 0, 'suspect': 0, 'hadley': 0, 'national': 0, 'sydney': 0, '#': 0, '.': 1, 'french': 0, 'reports': 0, 'news': 0, 'shooter': 0, 'vickers': 0, '#sydneysiege': 0, 'go': 0, 'flags': 0, 'hill': 0, '\"': 0, '11': 0, 'r': 0, '#ottawa': 0, 'demanding': 0, 'suspects': 0, '|': 0, 'terror': 0, 'memorial': 0, 'u': 0, 'could': 0, 'amid': 0, 'industrial': 0, 'escaped': 0, ',': 0, 'hostages': 0, \"'\": 0, '2': 0}, 'true'), ({'hostage': 0, 'spoke': 0, 'shows': 0, 'harmed': 0, 'pm': 0, 'credited': 0, '-': 0, '#ottnews': 0, 'attack': 0, 'reportedly': 0, '#cbcott': 0, 'ottawa': 0, 'inside': 0, 'killed': 0, 'kevin': 0, 'police': 0, 'putin': 0, 'ray': 0, 'canadian': 0, 'b': 0, 'gunman': 0, 'petrol': 0, 'robbing': 0, '20': 0, 'according': 0, 'p': 0, 'threatens': 0, 'holed': 0, 'video': 0, 'shot': 0, 'wants': 0, 'hold': 0, 'air': 0, 'confirmed': 0, 'birth': 0, 'breaking': 0, 'showing': 0, 'head': 0, 'kouachi': 0, 'due': 0, 'war': 0, 'shots': 0, 'taking': 0, 'hebdo': 0, 'kill': 0, 'live': 0, 'media': 0, 'hear': 0, 'shooting': 0, ':': 1, '#cdnpoli': 0, 'parliament': 0, 'fired': 0, \"canada's\": 0, '?': 1, 'barking': 0, 'dead': 0, 'shootings': 0, 'station': 0, 'watch': 0, '1': 0, ';': 0, 'girlfriend': 0, 'security': 0, 'orders': 0, 'people': 0, 'gunfire': 0, 'background': 0, '#ferguson': 0, '#charliehebdo': 0, 'witnesses': 0, 'least': 0, 'hero': 0, 'says': 0, 'soldier': 0, 'store': 0, 'paris': 0, 'estate': 0, 'surrounded': 0, 'map': 0, 'cafe': 0, 'charlie': 0, 'suspect': 0, 'hadley': 0, 'national': 0, 'sydney': 0, '#': 0, '.': 1, 'french': 0, 'reports': 0, 'news': 0, 'shooter': 0, 'vickers': 0, '#sydneysiege': 0, 'go': 0, 'flags': 0, 'hill': 0, '\"': 0, '11': 0, 'r': 0, '#ottawa': 0, 'demanding': 0, 'suspects': 0, '|': 0, 'terror': 0, 'memorial': 0, 'u': 0, 'could': 0, 'amid': 0, 'industrial': 0, 'escaped': 0, ',': 0, 'hostages': 0, \"'\": 0, '2': 0}, 'false'), ({'hostage': 0, 'spoke': 0, 'shows': 0, 'harmed': 0, 'pm': 0, 'credited': 0, '-': 0, '#ottnews': 0, 'attack': 0, 'reportedly': 0, '#cbcott': 0, 'ottawa': 0, 'inside': 0, 'killed': 0, 'kevin': 0, 'police': 0, 'putin': 0, 'ray': 0, 'canadian': 0, 'b': 0, 'gunman': 0, 'petrol': 0, 'robbing': 0, '20': 0, 'according': 0, 'p': 0, 'threatens': 0, 'holed': 0, 'video': 0, 'shot': 0, 'wants': 0, 'hold': 0, 'air': 0, 'confirmed': 0, 'birth': 0, 'breaking': 0, 'showing': 0, 'head': 0, 'kouachi': 0, 'due': 0, 'war': 0, 'shots': 0, 'taking': 0, 'hebdo': 0, 'kill': 0, 'live': 0, 'media': 1, 'hear': 0, 'shooting': 0, ':': 1, '#cdnpoli': 0, 'parliament': 0, 'fired': 0, \"canada's\": 0, '?': 0, 'barking': 0, 'dead': 0, 'shootings': 0, 'station': 0, 'watch': 0, '1': 0, ';': 0, 'girlfriend': 0, 'security': 0, 'orders': 0, 'people': 0, 'gunfire': 0, 'background': 0, '#ferguson': 0, '#charliehebdo': 0, 'witnesses': 0, 'least': 0, 'hero': 0, 'says': 0, 'soldier': 0, 'store': 0, 'paris': 0, 'estate': 0, 'surrounded': 0, 'map': 0, 'cafe': 0, 'charlie': 0, 'suspect': 0, 'hadley': 0, 'national': 0, 'sydney': 0, '#': 0, '.': 0, 'french': 0, 'reports': 0, 'news': 0, 'shooter': 0, 'vickers': 0, '#sydneysiege': 0, 'go': 0, 'flags': 0, 'hill': 0, '\"': 0, '11': 0, 'r': 0, '#ottawa': 0, 'demanding': 0, 'suspects': 0, '|': 0, 'terror': 0, 'memorial': 0, 'u': 0, 'could': 0, 'amid': 0, 'industrial': 0, 'escaped': 0, ',': 0, 'hostages': 0, \"'\": 1, '2': 0}, 'true'), ({'hostage': 0, 'spoke': 0, 'shows': 0, 'harmed': 0, 'pm': 0, 'credited': 0, '-': 0, '#ottnews': 0, 'attack': 0, 'reportedly': 0, '#cbcott': 0, 'ottawa': 0, 'inside': 0, 'killed': 0, 'kevin': 0, 'police': 0, 'putin': 0, 'ray': 0, 'canadian': 0, 'b': 0, 'gunman': 0, 'petrol': 0, 'robbing': 0, '20': 0, 'according': 0, 'p': 0, 'threatens': 0, 'holed': 0, 'video': 0, 'shot': 0, 'wants': 0, 'hold': 0, 'air': 0, 'confirmed': 0, 'birth': 0, 'breaking': 0, 'showing': 0, 'head': 0, 'kouachi': 0, 'due': 0, 'war': 0, 'shots': 0, 'taking': 0, 'hebdo': 0, 'kill': 0, 'live': 0, 'media': 0, 'hear': 0, 'shooting': 0, ':': 1, '#cdnpoli': 0, 'parliament': 0, 'fired': 0, \"canada's\": 0, '?': 1, 'barking': 0, 'dead': 0, 'shootings': 0, 'station': 0, 'watch': 0, '1': 0, ';': 0, 'girlfriend': 0, 'security': 0, 'orders': 0, 'people': 0, 'gunfire': 0, 'background': 0, '#ferguson': 0, '#charliehebdo': 0, 'witnesses': 0, 'least': 0, 'hero': 0, 'says': 0, 'soldier': 0, 'store': 0, 'paris': 0, 'estate': 0, 'surrounded': 0, 'map': 0, 'cafe': 0, 'charlie': 0, 'suspect': 0, 'hadley': 0, 'national': 0, 'sydney': 0, '#': 0, '.': 0, 'french': 0, 'reports': 0, 'news': 0, 'shooter': 0, 'vickers': 0, '#sydneysiege': 0, 'go': 0, 'flags': 0, 'hill': 0, '\"': 0, '11': 0, 'r': 0, '#ottawa': 0, 'demanding': 0, 'suspects': 0, '|': 0, 'terror': 0, 'memorial': 0, 'u': 0, 'could': 0, 'amid': 0, 'industrial': 0, 'escaped': 0, ',': 0, 'hostages': 0, \"'\": 0, '2': 0}, 'false')]\n"
    }
   ],
   "source": [
    "vectorSetTest=list()\n",
    "for tweet in uncleanDataTest:\n",
    "    temp=dict()\n",
    "    for item in noStopUnigrams:\n",
    "        if item in tknzr.tokenize(tweet[0]):\n",
    "            temp[item]=1\n",
    "        else:\n",
    "            temp[item]=0\n",
    "    vectorSetTest.append((temp,tweet[1]))\n",
    "print(vectorSetTest)"
   ]
  },
  {
   "cell_type": "code",
   "execution_count": 38,
   "metadata": {},
   "outputs": [
    {
     "data": {
      "text/plain": "({'hostage': 0,\n  'spoke': 0,\n  'shows': 0,\n  'harmed': 0,\n  'pm': 0,\n  'credited': 0,\n  '-': 0,\n  '#ottnews': 0,\n  'attack': 0,\n  'reportedly': 0,\n  '#cbcott': 0,\n  'ottawa': 0,\n  'inside': 0,\n  'killed': 0,\n  'kevin': 0,\n  'police': 0,\n  'putin': 0,\n  'ray': 0,\n  'canadian': 0,\n  'b': 0,\n  'gunman': 0,\n  'petrol': 0,\n  'robbing': 0,\n  '20': 0,\n  'according': 0,\n  'p': 0,\n  'threatens': 0,\n  'holed': 0,\n  'video': 0,\n  'shot': 0,\n  'wants': 0,\n  'hold': 0,\n  'air': 0,\n  'confirmed': 0,\n  'birth': 0,\n  'breaking': 0,\n  'showing': 0,\n  'head': 0,\n  'kouachi': 0,\n  'due': 0,\n  'war': 0,\n  'shots': 0,\n  'taking': 0,\n  'hebdo': 0,\n  'kill': 0,\n  'live': 0,\n  'media': 0,\n  'hear': 0,\n  'shooting': 0,\n  ':': 0,\n  '#cdnpoli': 0,\n  'parliament': 0,\n  'fired': 0,\n  \"canada's\": 0,\n  '?': 0,\n  'barking': 0,\n  'dead': 0,\n  'shootings': 0,\n  'station': 0,\n  'watch': 0,\n  '1': 0,\n  ';': 0,\n  'girlfriend': 0,\n  'security': 0,\n  'orders': 0,\n  'people': 0,\n  'gunfire': 0,\n  'background': 0,\n  '#ferguson': 0,\n  '#charliehebdo': 0,\n  'witnesses': 0,\n  'least': 0,\n  'hero': 0,\n  'says': 0,\n  'soldier': 0,\n  'store': 0,\n  'paris': 0,\n  'estate': 0,\n  'surrounded': 0,\n  'map': 0,\n  'cafe': 0,\n  'charlie': 0,\n  'suspect': 0,\n  'hadley': 0,\n  'national': 0,\n  'sydney': 0,\n  '#': 0,\n  '.': 0,\n  'french': 0,\n  'reports': 0,\n  'news': 0,\n  'shooter': 0,\n  'vickers': 0,\n  '#sydneysiege': 0,\n  'go': 0,\n  'flags': 0,\n  'hill': 0,\n  '\"': 0,\n  '11': 0,\n  'r': 0,\n  '#ottawa': 0,\n  'demanding': 0,\n  'suspects': 0,\n  '|': 0,\n  'terror': 0,\n  'memorial': 0,\n  'u': 0,\n  'could': 0,\n  'amid': 0,\n  'industrial': 0,\n  'escaped': 0,\n  ',': 0,\n  'hostages': 0,\n  \"'\": 0,\n  '2': 0},\n 'true')"
     },
     "execution_count": 38,
     "metadata": {},
     "output_type": "execute_result"
    }
   ],
   "source": [
    "vectorSetTest[0]"
   ]
  },
  {
   "cell_type": "code",
   "execution_count": 39,
   "metadata": {},
   "outputs": [],
   "source": [
    "import random\n",
    "random.shuffle(vectorSet)\n",
    "classifier = nltk.DecisionTreeClassifier.train(vectorSet)"
   ]
  },
  {
   "cell_type": "code",
   "execution_count": 40,
   "metadata": {},
   "outputs": [
    {
     "name": "stdout",
     "output_type": "stream",
     "text": "0.52\n"
    }
   ],
   "source": [
    "print(nltk.classify.accuracy(classifier, vectorSetTest))"
   ]
  },
  {
   "cell_type": "code",
   "execution_count": 41,
   "metadata": {},
   "outputs": [],
   "source": [
    "trainSet=[i for i in range(len(uncleanData))]\n",
    "trainingData = pd.DataFrame(index=trainSet,columns=noStopUnigrams)"
   ]
  },
  {
   "cell_type": "code",
   "execution_count": 42,
   "metadata": {},
   "outputs": [],
   "source": [
    "for x in range(len(uncleanData)):\n",
    "    for item in noStopUnigrams:\n",
    "        if item in uncleanData[x][0]:\n",
    "            trainingData.loc[x,item]=1\n",
    "        else:\n",
    "            trainingData.loc[x,item]=0"
   ]
  },
  {
   "cell_type": "code",
   "execution_count": 43,
   "metadata": {},
   "outputs": [
    {
     "data": {
      "text/html": "<div>\n<style scoped>\n    .dataframe tbody tr th:only-of-type {\n        vertical-align: middle;\n    }\n\n    .dataframe tbody tr th {\n        vertical-align: top;\n    }\n\n    .dataframe thead th {\n        text-align: right;\n    }\n</style>\n<table border=\"1\" class=\"dataframe\">\n  <thead>\n    <tr style=\"text-align: right;\">\n      <th></th>\n      <th>hostage</th>\n      <th>spoke</th>\n      <th>shows</th>\n      <th>harmed</th>\n      <th>pm</th>\n      <th>credited</th>\n      <th>-</th>\n      <th>#ottnews</th>\n      <th>attack</th>\n      <th>reportedly</th>\n      <th>...</th>\n      <th>memorial</th>\n      <th>u</th>\n      <th>could</th>\n      <th>amid</th>\n      <th>industrial</th>\n      <th>escaped</th>\n      <th>,</th>\n      <th>hostages</th>\n      <th>'</th>\n      <th>2</th>\n    </tr>\n  </thead>\n  <tbody>\n    <tr>\n      <td>0</td>\n      <td>1</td>\n      <td>0</td>\n      <td>0</td>\n      <td>1</td>\n      <td>0</td>\n      <td>0</td>\n      <td>0</td>\n      <td>0</td>\n      <td>0</td>\n      <td>0</td>\n      <td>...</td>\n      <td>0</td>\n      <td>1</td>\n      <td>0</td>\n      <td>0</td>\n      <td>0</td>\n      <td>0</td>\n      <td>0</td>\n      <td>1</td>\n      <td>0</td>\n      <td>0</td>\n    </tr>\n    <tr>\n      <td>1</td>\n      <td>0</td>\n      <td>0</td>\n      <td>1</td>\n      <td>0</td>\n      <td>0</td>\n      <td>0</td>\n      <td>0</td>\n      <td>0</td>\n      <td>0</td>\n      <td>0</td>\n      <td>...</td>\n      <td>0</td>\n      <td>1</td>\n      <td>0</td>\n      <td>0</td>\n      <td>1</td>\n      <td>0</td>\n      <td>1</td>\n      <td>0</td>\n      <td>0</td>\n      <td>1</td>\n    </tr>\n    <tr>\n      <td>2</td>\n      <td>0</td>\n      <td>0</td>\n      <td>0</td>\n      <td>0</td>\n      <td>0</td>\n      <td>0</td>\n      <td>0</td>\n      <td>0</td>\n      <td>0</td>\n      <td>0</td>\n      <td>...</td>\n      <td>0</td>\n      <td>0</td>\n      <td>0</td>\n      <td>0</td>\n      <td>0</td>\n      <td>0</td>\n      <td>1</td>\n      <td>0</td>\n      <td>0</td>\n      <td>1</td>\n    </tr>\n    <tr>\n      <td>3</td>\n      <td>0</td>\n      <td>0</td>\n      <td>0</td>\n      <td>0</td>\n      <td>0</td>\n      <td>0</td>\n      <td>0</td>\n      <td>0</td>\n      <td>0</td>\n      <td>0</td>\n      <td>...</td>\n      <td>0</td>\n      <td>1</td>\n      <td>0</td>\n      <td>0</td>\n      <td>0</td>\n      <td>0</td>\n      <td>0</td>\n      <td>0</td>\n      <td>0</td>\n      <td>0</td>\n    </tr>\n    <tr>\n      <td>4</td>\n      <td>0</td>\n      <td>0</td>\n      <td>0</td>\n      <td>0</td>\n      <td>0</td>\n      <td>0</td>\n      <td>0</td>\n      <td>0</td>\n      <td>1</td>\n      <td>1</td>\n      <td>...</td>\n      <td>0</td>\n      <td>1</td>\n      <td>0</td>\n      <td>0</td>\n      <td>0</td>\n      <td>0</td>\n      <td>0</td>\n      <td>0</td>\n      <td>0</td>\n      <td>0</td>\n    </tr>\n    <tr>\n      <td>...</td>\n      <td>...</td>\n      <td>...</td>\n      <td>...</td>\n      <td>...</td>\n      <td>...</td>\n      <td>...</td>\n      <td>...</td>\n      <td>...</td>\n      <td>...</td>\n      <td>...</td>\n      <td>...</td>\n      <td>...</td>\n      <td>...</td>\n      <td>...</td>\n      <td>...</td>\n      <td>...</td>\n      <td>...</td>\n      <td>...</td>\n      <td>...</td>\n      <td>...</td>\n      <td>...</td>\n    </tr>\n    <tr>\n      <td>95</td>\n      <td>0</td>\n      <td>0</td>\n      <td>0</td>\n      <td>0</td>\n      <td>0</td>\n      <td>0</td>\n      <td>0</td>\n      <td>0</td>\n      <td>0</td>\n      <td>0</td>\n      <td>...</td>\n      <td>0</td>\n      <td>0</td>\n      <td>0</td>\n      <td>0</td>\n      <td>0</td>\n      <td>0</td>\n      <td>0</td>\n      <td>0</td>\n      <td>0</td>\n      <td>0</td>\n    </tr>\n    <tr>\n      <td>96</td>\n      <td>0</td>\n      <td>0</td>\n      <td>0</td>\n      <td>0</td>\n      <td>0</td>\n      <td>0</td>\n      <td>0</td>\n      <td>0</td>\n      <td>0</td>\n      <td>0</td>\n      <td>...</td>\n      <td>0</td>\n      <td>0</td>\n      <td>0</td>\n      <td>0</td>\n      <td>0</td>\n      <td>0</td>\n      <td>0</td>\n      <td>0</td>\n      <td>0</td>\n      <td>0</td>\n    </tr>\n    <tr>\n      <td>97</td>\n      <td>0</td>\n      <td>0</td>\n      <td>0</td>\n      <td>0</td>\n      <td>0</td>\n      <td>0</td>\n      <td>0</td>\n      <td>0</td>\n      <td>0</td>\n      <td>0</td>\n      <td>...</td>\n      <td>0</td>\n      <td>0</td>\n      <td>0</td>\n      <td>0</td>\n      <td>0</td>\n      <td>0</td>\n      <td>0</td>\n      <td>0</td>\n      <td>0</td>\n      <td>0</td>\n    </tr>\n    <tr>\n      <td>98</td>\n      <td>0</td>\n      <td>0</td>\n      <td>0</td>\n      <td>0</td>\n      <td>0</td>\n      <td>0</td>\n      <td>0</td>\n      <td>0</td>\n      <td>0</td>\n      <td>0</td>\n      <td>...</td>\n      <td>0</td>\n      <td>0</td>\n      <td>0</td>\n      <td>0</td>\n      <td>0</td>\n      <td>0</td>\n      <td>0</td>\n      <td>0</td>\n      <td>0</td>\n      <td>0</td>\n    </tr>\n    <tr>\n      <td>99</td>\n      <td>0</td>\n      <td>0</td>\n      <td>0</td>\n      <td>0</td>\n      <td>0</td>\n      <td>0</td>\n      <td>0</td>\n      <td>0</td>\n      <td>0</td>\n      <td>0</td>\n      <td>...</td>\n      <td>0</td>\n      <td>0</td>\n      <td>0</td>\n      <td>0</td>\n      <td>0</td>\n      <td>0</td>\n      <td>0</td>\n      <td>0</td>\n      <td>0</td>\n      <td>0</td>\n    </tr>\n  </tbody>\n</table>\n<p>100 rows × 115 columns</p>\n</div>",
      "text/plain": "    hostage  spoke  shows  harmed  pm  credited  -  #ottnews  attack  \\\n0         1      0      0       1   0         0  0         0       0   \n1         0      0      1       0   0         0  0         0       0   \n2         0      0      0       0   0         0  0         0       0   \n3         0      0      0       0   0         0  0         0       0   \n4         0      0      0       0   0         0  0         0       1   \n..      ...    ...    ...     ...  ..       ... ..       ...     ...   \n95        0      0      0       0   0         0  0         0       0   \n96        0      0      0       0   0         0  0         0       0   \n97        0      0      0       0   0         0  0         0       0   \n98        0      0      0       0   0         0  0         0       0   \n99        0      0      0       0   0         0  0         0       0   \n\n    reportedly  ...  memorial  u  could  amid  industrial  escaped  ,  \\\n0            0  ...         0  1      0     0           0        0  0   \n1            0  ...         0  1      0     0           1        0  1   \n2            0  ...         0  0      0     0           0        0  1   \n3            0  ...         0  1      0     0           0        0  0   \n4            1  ...         0  1      0     0           0        0  0   \n..         ...  ...       ... ..    ...   ...         ...      ... ..   \n95           0  ...         0  0      0     0           0        0  0   \n96           0  ...         0  0      0     0           0        0  0   \n97           0  ...         0  0      0     0           0        0  0   \n98           0  ...         0  0      0     0           0        0  0   \n99           0  ...         0  0      0     0           0        0  0   \n\n    hostages  '  2  \n0          1  0  0  \n1          0  0  1  \n2          0  0  1  \n3          0  0  0  \n4          0  0  0  \n..       ... .. ..  \n95         0  0  0  \n96         0  0  0  \n97         0  0  0  \n98         0  0  0  \n99         0  0  0  \n\n[100 rows x 115 columns]"
     },
     "execution_count": 43,
     "metadata": {},
     "output_type": "execute_result"
    }
   ],
   "source": [
    "trainingData"
   ]
  },
  {
   "cell_type": "code",
   "execution_count": 44,
   "metadata": {},
   "outputs": [],
   "source": [
    "trainingLabels=pd.DataFrame(index=trainSet,columns=[\"Label\"])\n",
    "for x in range(len(uncleanData)):\n",
    "    trainingLabels.loc[x,\"Label\"]=uncleanData[x][1]"
   ]
  },
  {
   "cell_type": "code",
   "execution_count": 45,
   "metadata": {},
   "outputs": [],
   "source": [
    "testSet=[i for i in range(len(uncleanDataTest))]\n",
    "testingData = pd.DataFrame(index=testSet,columns=noStopUnigrams)"
   ]
  },
  {
   "cell_type": "code",
   "execution_count": 46,
   "metadata": {},
   "outputs": [],
   "source": [
    "for x in range(len(uncleanDataTest)):\n",
    "    for item in noStopUnigrams:\n",
    "        if item in uncleanDataTest[x][0]:\n",
    "            testingData.loc[x,item]=1\n",
    "        else:\n",
    "            testingData.loc[x,item]=0"
   ]
  },
  {
   "cell_type": "code",
   "execution_count": null,
   "metadata": {},
   "outputs": [],
   "source": []
  },
  {
   "cell_type": "code",
   "execution_count": 47,
   "metadata": {},
   "outputs": [
    {
     "data": {
      "text/html": "<div>\n<style scoped>\n    .dataframe tbody tr th:only-of-type {\n        vertical-align: middle;\n    }\n\n    .dataframe tbody tr th {\n        vertical-align: top;\n    }\n\n    .dataframe thead th {\n        text-align: right;\n    }\n</style>\n<table border=\"1\" class=\"dataframe\">\n  <thead>\n    <tr style=\"text-align: right;\">\n      <th></th>\n      <th>Label</th>\n    </tr>\n  </thead>\n  <tbody>\n    <tr>\n      <td>0</td>\n      <td>true</td>\n    </tr>\n    <tr>\n      <td>1</td>\n      <td>false</td>\n    </tr>\n    <tr>\n      <td>2</td>\n      <td>true</td>\n    </tr>\n    <tr>\n      <td>3</td>\n      <td>false</td>\n    </tr>\n    <tr>\n      <td>4</td>\n      <td>false</td>\n    </tr>\n    <tr>\n      <td>5</td>\n      <td>true</td>\n    </tr>\n    <tr>\n      <td>6</td>\n      <td>true</td>\n    </tr>\n    <tr>\n      <td>7</td>\n      <td>true</td>\n    </tr>\n    <tr>\n      <td>8</td>\n      <td>false</td>\n    </tr>\n    <tr>\n      <td>9</td>\n      <td>false</td>\n    </tr>\n    <tr>\n      <td>10</td>\n      <td>true</td>\n    </tr>\n    <tr>\n      <td>11</td>\n      <td>false</td>\n    </tr>\n    <tr>\n      <td>12</td>\n      <td>true</td>\n    </tr>\n    <tr>\n      <td>13</td>\n      <td>false</td>\n    </tr>\n    <tr>\n      <td>14</td>\n      <td>false</td>\n    </tr>\n    <tr>\n      <td>15</td>\n      <td>false</td>\n    </tr>\n    <tr>\n      <td>16</td>\n      <td>true</td>\n    </tr>\n    <tr>\n      <td>17</td>\n      <td>false</td>\n    </tr>\n    <tr>\n      <td>18</td>\n      <td>true</td>\n    </tr>\n    <tr>\n      <td>19</td>\n      <td>true</td>\n    </tr>\n    <tr>\n      <td>20</td>\n      <td>true</td>\n    </tr>\n    <tr>\n      <td>21</td>\n      <td>true</td>\n    </tr>\n    <tr>\n      <td>22</td>\n      <td>false</td>\n    </tr>\n    <tr>\n      <td>23</td>\n      <td>true</td>\n    </tr>\n    <tr>\n      <td>24</td>\n      <td>false</td>\n    </tr>\n  </tbody>\n</table>\n</div>",
      "text/plain": "    Label\n0    true\n1   false\n2    true\n3   false\n4   false\n5    true\n6    true\n7    true\n8   false\n9   false\n10   true\n11  false\n12   true\n13  false\n14  false\n15  false\n16   true\n17  false\n18   true\n19   true\n20   true\n21   true\n22  false\n23   true\n24  false"
     },
     "execution_count": 47,
     "metadata": {},
     "output_type": "execute_result"
    }
   ],
   "source": [
    "testingLabels=pd.DataFrame(index=testSet,columns=[\"Label\"])\n",
    "for x in range(len(uncleanDataTest)):\n",
    "    testingLabels.loc[x,\"Label\"]=uncleanDataTest[x][1]\n",
    "testingLabels"
   ]
  },
  {
   "cell_type": "code",
   "execution_count": 48,
   "metadata": {},
   "outputs": [],
   "source": [
    "from sklearn import metrics\n",
    "from sklearn import tree\n",
    "from sklearn.tree import DecisionTreeClassifier"
   ]
  },
  {
   "cell_type": "code",
   "execution_count": 49,
   "metadata": {},
   "outputs": [
    {
     "name": "stdout",
     "output_type": "stream",
     "text": "0.52\n"
    }
   ],
   "source": [
    "classifier4 = tree.DecisionTreeClassifier()\n",
    "classifier4 = classifier4.fit(trainingData, trainingLabels.values.ravel())\n",
    "output2=classifier4.predict(testingData)\n",
    "output2\n",
    "print(metrics.accuracy_score(testingLabels, output2))\n"
   ]
  },
  {
   "cell_type": "code",
   "execution_count": null,
   "metadata": {
    "scrolled": true
   },
   "outputs": [],
   "source": []
  },
  {
   "cell_type": "code",
   "execution_count": 50,
   "metadata": {},
   "outputs": [],
   "source": [
    "from sklearn.naive_bayes import MultinomialNB\n",
    "from sklearn import svm\n",
    "from sklearn.ensemble import RandomForestClassifier"
   ]
  },
  {
   "cell_type": "code",
   "execution_count": 879,
   "metadata": {},
   "outputs": [
    {
     "name": "stdout",
     "output_type": "stream",
     "text": "0.52\n"
    }
   ],
   "source": [
    "classifier=MultinomialNB(alpha=1.0)\n",
    "classifier.fit(trainingData, trainingLabels.values.ravel())\n",
    "output=classifier.predict(testingData)\n",
    "print (metrics.accuracy_score(testingLabels, output))"
   ]
  },
  {
   "cell_type": "code",
   "execution_count": 51,
   "metadata": {},
   "outputs": [
    {
     "name": "stdout",
     "output_type": "stream",
     "text": "0.52\nC:\\Users\\Public\\Anaconda3\\lib\\site-packages\\sklearn\\svm\\base.py:193: FutureWarning: The default value of gamma will change from 'auto' to 'scale' in version 0.22 to account better for unscaled features. Set gamma explicitly to 'auto' or 'scale' to avoid this warning.\n  \"avoid this warning.\", FutureWarning)\n"
    }
   ],
   "source": [
    "clf = svm.SVC(decision_function_shape='ovo')\n",
    "clf.fit(trainingData, trainingLabels.values.ravel())\n",
    "output3=clf.predict(testingData)\n",
    "print(metrics.accuracy_score(testingLabels, output3))"
   ]
  },
  {
   "cell_type": "code",
   "execution_count": 52,
   "metadata": {},
   "outputs": [
    {
     "name": "stdout",
     "output_type": "stream",
     "text": "0.52\n"
    }
   ],
   "source": [
    "from sklearn.ensemble import RandomForestClassifier\n",
    "clf1 = RandomForestClassifier(n_estimators=100)\n",
    "clf1 = clf1.fit(trainingData, trainingLabels.values.ravel())\n",
    "output4=clf1.predict(testingData)\n",
    "print(metrics.accuracy_score(testingLabels, output4))"
   ]
  },
  {
   "cell_type": "code",
   "execution_count": 882,
   "metadata": {},
   "outputs": [
    {
     "name": "stdout",
     "output_type": "stream",
     "text": "0.52\nC:\\Users\\Public\\Anaconda3\\lib\\site-packages\\sklearn\\svm\\base.py:193: FutureWarning: The default value of gamma will change from 'auto' to 'scale' in version 0.22 to account better for unscaled features. Set gamma explicitly to 'auto' or 'scale' to avoid this warning.\n  \"avoid this warning.\", FutureWarning)\n"
    }
   ],
   "source": [
    "\n",
    "from sklearn.ensemble import VotingClassifier\n",
    "evc = VotingClassifier(estimators=[('svm',clf),('nb',classifier),('dt',classifier4),('rf',clf1)],  voting='hard')\n",
    "evc.fit(trainingData, trainingLabels.values.ravel())\n",
    "output5=evc.predict(testingData)\n",
    "print(metrics.accuracy_score(testingLabels, output5))"
   ]
  },
  {
   "cell_type": "code",
   "execution_count": null,
   "metadata": {},
   "outputs": [],
   "source": []
  },
  {
   "cell_type": "code",
   "execution_count": null,
   "metadata": {},
   "outputs": [],
   "source": []
  },
  {
   "cell_type": "code",
   "execution_count": 53,
   "metadata": {},
   "outputs": [],
   "source": [
    "def calPrecision(a,b):\n",
    "    i=0\n",
    "    count = 0\n",
    "    hit=0\n",
    "    for label in a:\n",
    "        if label == 'false':\n",
    "            count+=1\n",
    "            if b['Label'][i] == 'false':\n",
    "                hit+=1\n",
    "        i+=1\n",
    "    try:\n",
    "        return hit/count\n",
    "    except ZeroDivisionError:\n",
    "        return 0"
   ]
  },
  {
   "cell_type": "code",
   "execution_count": 884,
   "metadata": {},
   "outputs": [],
   "source": [
    "def calRecall(a,b):\n",
    "    i=0\n",
    "    count = 0\n",
    "    hit= 0\n",
    "    for label in a:\n",
    "        if b['Label'][i] == 'false':\n",
    "            count+=1\n",
    "            if label == 'false':\n",
    "                hit+=1\n",
    "        i+=1\n",
    "    return hit/count"
   ]
  },
  {
   "cell_type": "code",
   "execution_count": 54,
   "metadata": {},
   "outputs": [],
   "source": [
    "def fmeasure(p,r):\n",
    "    try:\n",
    "        return (2*p*r)/(p+r)\n",
    "    except ZeroDivisionError:\n",
    "        return 0\n",
    "    "
   ]
  },
  {
   "cell_type": "code",
   "execution_count": 57,
   "metadata": {},
   "outputs": [
    {
     "data": {
      "text/plain": "[(50902.177777777775, 38, 129573, 337, 48440, 'true'),\n (54347.23583333333, 5, 972167, 1763, 123899, 'true'),\n (68304.82555555555, 78, 3029912, 389, 74982, 'true'),\n (45323.83277777778, 28, 3091451, 1083, 107007, 'true'),\n (54347.71055555555, 32, 973212, 1763, 124096, 'true'),\n (19701.008611111112, 17, 36037, 241, 4624, 'true'),\n (68330.06305555555, 14, 1253289, 378, 144176, 'true'),\n (55252.945555555554, 21, 774627, 264, 199565, 'true'),\n (6187.989722222223, 22, 53449, 54, 11588, 'true'),\n (70258.77194444444, 268, 22667902, 113, 37161, 'true'),\n (51432.134722222225, 44, 61134, 2588, 120138, 'false'),\n (56272.73472222222, 55, 1408186, 781, 106974, 'true'),\n (47406.69194444444, 28, 842416, 460, 105017, 'true'),\n (68118.59611111111, 65, 5571268, 974, 104379, 'true'),\n (50064.247777777775, 42, 61410, 73, 65249, 'false'),\n (38831.53166666667, 25, 3030, 1392, 15048, 'true'),\n (33240.27, 192, 115106, 1498, 109706, 'true'),\n (29104.331944444446, 33, 13329, 101, 14763, 'true'),\n (47408.18722222222, 40, 840871, 461, 104907, 'false'),\n (47408.31527777778, 18, 841061, 461, 104908, 'true'),\n (57446.29111111111, 28, 1254546, 523, 118676, 'true'),\n (36577.903333333335, 98, 1337, 1718, 5787, 'false'),\n (51895.89722222222, 63, 18212, 1468, 28790, 'false'),\n (34799.76611111111, 69, 3500, 985, 18405, 'false'),\n (28775.84527777778, 18, 297225, 482, 64514, 'true'),\n (50206.25472222222, 57, 4656, 511, 145014, 'false'),\n (59673.28388888889, 37, 2002702, 2892, 45137, 'true'),\n (13320.10611111111, 601, 58928, 732, 4148, 'false'),\n (50519.421944444446, 38, 3847705, 860, 100712, 'true'),\n (65517.66972222222, 38, 1786968, 17, 122350, 'true'),\n (51909.55972222222, 123, 18359, 1469, 28828, 'true'),\n (54374.55388888889, 38, 972944, 1763, 124039, 'false'),\n (67120.44944444444, 33, 7194749, 508, 88988, 'true'),\n (3165.1002777777776, 28, 7444, 813, 11578, 'true'),\n (69576.29638888889, 160, 8436669, 61, 189257, 'true'),\n (44618.14472222222, 27, 6546, 619, 2190, 'true'),\n (59829.15416666667, 31, 477578, 487, 116943, 'true'),\n (59697.54083333333, 78, 2005324, 2892, 45186, 'true'),\n (56854.71861111111, 32, 820353, 2355, 125726, 'true'),\n (47450.828055555554, 19, 843768, 460, 105173, 'true'),\n (68375.45361111111, 17, 1256888, 379, 144264, 'false'),\n (68510.64972222222, 50, 4733916, 381, 190244, 'false'),\n (59323.96083333333, 24, 6716455, 776, 104273, 'false'),\n (67651.9511111111, 183, 12929794, 3, 22810, 'true'),\n (47452.57, 40, 843313, 460, 105120, 'true'),\n (68352.115, 30, 3034977, 389, 75017, 'true'),\n (67652.2988888889, 215, 12930336, 3, 22812, 'true'),\n (59699.78666666667, 69, 2005680, 2892, 45195, 'true'),\n (45407.98583333333, 28, 1378961, 6, 27249, 'true'),\n (48541.98055555556, 43, 4551354, 7352, 97563, 'true'),\n (45409.22277777778, 27, 1379153, 6, 27252, 'true'),\n (28812.292777777777, 23, 306363, 482, 64671, 'true'),\n (68379.26444444444, 18, 1258717, 380, 144348, 'true'),\n (48543.27777777778, 41, 4552026, 7352, 97574, 'true'),\n (21185.64861111111, 17, 10219, 893, 18956, 'true'),\n (68514.47833333333, 43, 4734519, 381, 190250, 'true'),\n (63217.789722222224, 20, 6551, 509, 4476, 'true'),\n (21526.5925, 11, 7910, 1294, 9125, 'true'),\n (47455.649722222224, 41, 843601, 460, 105149, 'true'),\n (68444.135, 119, 5829920, 1046, 114027, 'true'),\n (30844.079166666666, 27, 26935, 819, 3383, 'true'),\n (50546.26888888889, 58, 3851612, 862, 100773, 'true'),\n (48545.73972222222, 53, 4554217, 7352, 97586, 'true'),\n (68169.23527777777, 39, 5587299, 976, 104666, 'true'),\n (68357.01444444444, 28, 3037554, 390, 75036, 'true'),\n (15721.508055555556, 131, 70731, 366, 21362, 'true'),\n (50958.945, 91, 83388, 1170, 74217, 'true'),\n (28815.748055555556, 596, 312461, 483, 64715, 'true'),\n (70310.54944444445, 318, 22720010, 113, 37206, 'true'),\n (45412.94861111111, 572, 1380388, 6, 27258, 'true'),\n (58826.286944444444, 84, 5071213, 5558, 378576, 'true'),\n (19753.741944444446, 31, 37396, 242, 4660, 'true'),\n (19753.835277777776, 698, 37363, 242, 4660, 'true'),\n (65545.87277777778, 108, 1798094, 17, 122551, 'true'),\n (21156.368611111113, 85, 7416, 15, 10431, 'false'),\n (10910.514722222222, 328, 115868, 153, 728, 'false'),\n (47412.58138888889, 46, 133561, 127, 28255, 'true'),\n (47422.55888888889, 53, 133554, 127, 28252, 'true'),\n (31827.823888888888, 37, 201086, 290, 14510, 'true'),\n (50694.208333333336, 93, 11052, 12141, 15401, 'true'),\n (50865.1575, 23, 2422, 626, 2368, 'true'),\n (47495.36583333334, 73, 133403, 125, 28215, 'true'),\n (34018.171111111114, 41, 50984, 6075, 12552, 'true'),\n (52792.595, 38, 1208620, 734, 95434, 'true'),\n (54093.43388888889, 48, 53516, 316, 52141, 'true'),\n (43927.60833333333, 50, 722151, 413, 90929, 'true'),\n (44063.59777777778, 114, 11082, 10092, 33545, 'true'),\n (34171.491944444446, 58, 58301, 4177, 55026, 'true'),\n (41647.358611111114, 10, 19134, 1721, 11942, 'true'),\n (44606.06611111111, 35, 2694, 688, 5051, 'true'),\n (35441.407222222224, 38, 13953, 2025, 168438, 'true'),\n (79.33055555555555, 40, 18738, 36, 153, 'true'),\n (27476.148333333334, 60, 15127, 1025, 76524, 'true'),\n (65124.88444444445, 62, 4259965, 2771, 112372, 'true'),\n (79.8086111111111, 141, 18662, 36, 153, 'true'),\n (11602.49138888889, 154, 29911, 276, 11729, 'true'),\n (56175.60916666667, 83, 1696955, 2893, 39368, 'true'),\n (26633.34138888889, 67, 2247, 1013, 14712, 'true'),\n (31847.456944444446, 420, 61890, 53099, 20762, 'true'),\n (49147.42916666667, 69, 63831, 139, 7974, 'true'),\n (44410.666666666664, 52, 488, 525, 18872, 'true'),\n (11603.658333333333, 60, 29932, 276, 11732, 'true'),\n (63188.45861111111, 99, 1933, 1028, 26134, 'true'),\n (47566.42611111111, 98, 112552, 14386, 46965, 'true'),\n (45348.88972222222, 41, 25568, 1593, 212667, 'true'),\n (27478.957777777778, 187, 15222, 1026, 76537, 'true'),\n (26111.590277777777, 137, 220, 98, 11609, 'true'),\n (35009.5625, 137, 81745, 72382, 35163, 'true'),\n (31512.152777777777, 217, 97726, 640, 17830, 'true'),\n (57220.32472222222, 119, 418674, 36955, 181769, 'true'),\n (27474.553333333333, 77, 14866, 1361, 74377, 'true'),\n (47931.49833333334, 185, 39603, 10503, 123737, 'true'),\n (45351.806666666664, 62, 25527, 1593, 212614, 'true'),\n (55370.48527777778, 201, 1320832, 1189, 7547, 'true'),\n (47591.18722222222, 75, 10290, 416, 44927, 'true'),\n (52130.86944444444, 52, 283534, 1650, 175566, 'true'),\n (64646.105, 46, 4856921, 909, 89307, 'true'),\n (54936.87138888889, 43, 162744, 521, 58842, 'true'),\n (52327.03833333333, 86, 32220, 236, 13227, 'true'),\n (26616.778055555555, 33, 3398, 496, 7296, 'true'),\n (56250.5975, 79, 22919, 991, 12628, 'true'),\n (35014.32666666667, 65, 81738, 72238, 35157, 'true'),\n (47179.26527777778, 10, 1209, 1146, 22152, 'true'),\n (32539.025, 20, 4898, 1832, 14227, 'true'),\n (47375.2975, 41, 10991, 2447, 6777, 'true'),\n (50537.04361111111, 12, 359058, 263, 25508, 'true'),\n (64856.78333333333, 28, 639325, 1939, 91050, 'true'),\n (62437.35916666667, 80, 543024, 415, 249299, 'true'),\n (50537.11722222222, 66, 365930, 264, 25593, 'true'),\n (44734.334444444445, 13, 67569, 228, 22996, 'true'),\n (30415.66888888889, 17, 198032, 505, 19448, 'true'),\n (49749.107777777775, 13, 42852, 643, 59143, 'true'),\n (27803.496666666666, 279, 2881, 2887, 4026, 'true'),\n (65247.30944444444, 45, 7000118, 501, 87771, 'true'),\n (48940.665, 21, 5303, 797, 7255, 'true'),\n (49887.24222222222, 20, 17145, 6703, 14966, 'true'),\n (49379.24277777778, 331, 590928, 907, 5865, 'true'),\n (48451.845555555556, 11, 8924, 1319, 6888, 'true'),\n (50537.855, 194, 365998, 264, 25593, 'true'),\n (9431.729722222222, 20, 1437, 184, 1371, 'true'),\n (62438.381944444445, 14, 542809, 415, 249284, 'true'),\n (48020.9675, 24, 1020, 1369, 6315, 'true'),\n (50128.47472222222, 7, 2156, 1125, 36715, 'true'),\n (50560.57666666667, 129, 66735, 296, 38429, 'true'),\n (50538.35361111111, 130, 366215, 264, 25596, 'true'),\n (48742.116944444446, 101, 35698, 25733, 18945, 'false'),\n (9205.472222222223, 6, 6089, 3104, 545, 'true'),\n (68413.83472222222, 250, 20040953, 113, 35650, 'false'),\n (44656.866944444446, 10, 658, 442, 14666, 'false'),\n (48742.251388888886, 73, 35949, 25730, 18999, 'false'),\n (65761.26055555555, 312, 11819737, 3, 21502, 'true'),\n (65761.47555555556, 134, 11834319, 3, 21529, 'false'),\n (68414.62555555555, 181, 20006387, 112, 35627, 'true'),\n (16850.33777777778, 30, 570, 479, 1408, 'true'),\n (50539.71444444444, 118, 366219, 264, 25596, 'false'),\n (37149.79777777778, 68, 2050, 424, 1621, 'true'),\n (45562.686944444446, 23, 789414, 437, 96932, 'true'),\n (50244.11444444444, 247, 640037, 367, 83196, 'true'),\n (48716.71638888889, 56, 29424, 342, 41522, 'true'),\n (50748.045, 20, 4313, 1597, 10574, 'true'),\n (50540.42694444444, 127, 361288, 263, 25519, 'true'),\n (50540.76055555556, 65, 361729, 263, 25520, 'true'),\n (53470.90861111111, 35, 18002, 8830, 40107, 'true'),\n (68416.2, 201, 20041552, 113, 35651, 'false'),\n (35234.62805555556, 70, 173267, 339, 50156, 'false'),\n (55937.62472222222, 28, 3366613, 396, 67443, 'false'),\n (35234.851111111115, 89, 173097, 339, 50142, 'true'),\n (43371.80638888889, 94, 12444, 422, 1829, 'true'),\n (45838.307222222225, 187, 286, 553, 1033, 'false'),\n (1297.3658333333333, 224, 2582, 394, 5537, 'true'),\n (51448.58138888889, 58, 25178, 24027, 47088, 'true'),\n (65235.322222222225, 36, 6540, 2454, 88483, 'true'),\n (50247.84055555556, 54, 638122, 367, 83111, 'true'),\n (50248.057222222225, 54, 640090, 367, 83197, 'true'),\n (19921.671666666665, 19, 16916, 836, 56711, 'true'),\n (45706.94805555556, 97, 18514, 136, 19356, 'true'),\n (53415.98972222222, 416, 672990, 262, 194240, 'true'),\n (6258.524166666667, 351, 1361, 24, 4, 'true'),\n (68421.28916666667, 232, 20038478, 113, 35649, 'true'),\n (51601.46472222222, 85, 5074, 1654, 1336, 'true'),\n (18512.663333333334, 7, 3664, 474, 3702, 'false'),\n (21985.2175, 7, 5018, 269, 2595, 'false'),\n (35543.51416666667, 5, 178509, 340, 50820, 'false'),\n (40939.47305555556, 47, 31352, 2128, 14369, 'false'),\n (47712.00472222222, 8, 44686, 412, 2947, 'false'),\n (14939.40361111111, 5, 345, 308, 9467, 'false'),\n (14606.555555555555, 9, 32054, 215, 21500, 'false'),\n (310.35083333333336, 4, 25, 167, 45, 'false'),\n (61605.69527777778, 37, 2064668, 3625, 62655, 'false'),\n (50042.80861111111, 1, 59597, 224, 46606, 'false'),\n (50061.55, 49, 35131, 8780, 16742, 'false'),\n (65175.662777777776, 8, 665484, 1978, 92406, 'false'),\n (16922.88388888889, 4, 1485, 972, 9717, 'true'),\n (36157.924166666664, 26, 136179, 388, 74770, 'true'),\n (32251.536666666667, 13, 46401, 2709, 16759, 'true'),\n (58380.396944444445, 20, 937430, 2351, 132617, 'true'),\n (55988.57611111111, 0, 14471, 11175, 184334, 'true'),\n (13299.345277777778, 2, 5011, 5103, 19002, 'false'),\n (26477.016666666666, 0, 1372, 1097, 21279, 'true'),\n (53067.166666666664, 36, 20968, 19605, 27861, 'true'),\n (16091.308611111112, 4, 11502, 2580, 171898, 'true'),\n (53972.5525, 9, 150994, 85683, 114484, 'true'),\n (56685.22416666667, 88, 170463, 4176, 104317, 'true'),\n (33259.72194444444, 20, 1672, 731, 2475, 'false'),\n (28398.776388888888, 20, 110901, 3, 18356, 'true'),\n (42755.77027777778, 35, 1148, 1164, 3313, 'true'),\n (10232.424444444445, 51, 2115, 136, 634, 'false'),\n (68967.87833333333, 113, 8175508, 61, 187166, 'true'),\n (53973.107777777775, 48, 150995, 85683, 114484, 'true'),\n (19080.093333333334, 100, 171398, 537, 44833, 'false'),\n (28199.25888888889, 23, 282320, 486, 63140, 'true'),\n (50798.57444444444, 55, 63559, 1894, 12075, 'true'),\n (53212.31138888889, 51, 702080, 41323, 59595, 'true'),\n (31697.565555555557, 57, 202022, 3540, 21794, 'true'),\n (64929.490277777775, 49, 1732248, 17, 120335, 'true'),\n (11017.017777777777, 32, 15396, 753, 6398, 'true'),\n (53784.521944444445, 24, 937955, 1766, 115376, 'false'),\n (46004.4, 45, 19266, 679, 12209, 'true'),\n (50346.53138888889, 29, 79481, 2577, 96392, 'true'),\n (62640.654444444444, 32, 230663, 395, 55191, 'true'),\n (67554.26416666666, 47, 5446500, 968, 102069, 'true'),\n (26692.928055555556, 67, 101550, 308, 8302, 'true'),\n (47849.97888888889, 20, 10813, 1661, 4963, 'true'),\n (26692.949444444443, 30, 101553, 308, 8302, 'false'),\n (26692.985277777778, 43, 101549, 308, 8302, 'false'),\n (46842.653333333335, 27, 824505, 460, 102590, 'false'),\n (67902.10333333333, 106, 4636605, 382, 188586, 'false'),\n (31698.838888888888, 66, 202003, 3540, 21791, 'true'),\n (10234.610277777778, 18, 2051, 136, 628, 'true'),\n (28201.074166666665, 22, 282186, 486, 63127, 'false'),\n (51820.64833333333, 38, 402366, 264, 27836, 'false'),\n (58287.78361111111, 69, 34994, 250, 20351, 'true'),\n (46843.68138888889, 91, 824767, 460, 102611, 'false'),\n (39408.90861111111, 55, 42339, 397, 29395, 'false'),\n (68040.75555555556, 76, 4814814, 2778, 124249, 'true'),\n (50254.53833333333, 58, 15056, 389, 670, 'true'),\n (47932.77861111111, 45, 4449631, 7357, 96016, 'true'),\n (68041.43166666667, 33, 4814829, 2778, 124250, 'true'),\n (46844.980833333335, 142, 824828, 460, 102619, 'true'),\n (24483.235555555555, 178, 5051, 675, 2935, 'true'),\n (20911.979722222222, 20, 253, 159, 283, 'true'),\n (50330.80138888889, 49, 16012, 1437, 12370, 'true'),\n (63097.93861111111, 60, 72203, 8674, 133120, 'true'),\n (66533.65916666666, 70, 7125070, 505, 88637, 'true'),\n (67746.35222222222, 56, 2926713, 385, 74286, 'true'),\n (49936.482777777775, 24, 3775576, 860, 99519, 'true'),\n (67906.72361111111, 76, 4637065, 382, 188597, 'true'),\n (49937.53888888889, 112, 3775737, 860, 99522, 'true'),\n (50691.50722222222, 267, 4931, 659, 8721, 'true'),\n (22221.305833333332, 20, 5520, 889, 9368, 'true'),\n (17438.9925, 138, 187975, 4737, 37341, 'true'),\n (67748.51416666666, 34, 2927521, 385, 74294, 'true'),\n (67174.95611111111, 52, 2197338, 137, 133877, 'true'),\n (67049.18722222222, 241, 12524120, 3, 22386, 'true'),\n (54180.936944444446, 45, 306687, 1767, 84677, 'false'),\n (64942.27444444445, 79, 1730647, 17, 120316, 'true'),\n (31711.402222222223, 33, 201476, 3540, 21743, 'true'),\n (50720.485555555555, 130, 442770, 81, 173889, 'true'),\n (67056.50694444444, 146, 12523793, 3, 22389, 'true'),\n (39422.17722222222, 41, 42209, 397, 29392, 'true'),\n (38433.52333333333, 53, 26144, 1644, 64114, 'true'),\n (46857.15138888889, 61, 824634, 460, 102603, 'true'),\n (53988.708333333336, 34, 150323, 84767, 114437, 'true'),\n (67916.35638888889, 45, 4636556, 382, 188584, 'true'),\n (68474.87444444445, 1, 1522763, 1319, 81504, 'true'),\n (10248.453333333333, 39, 1961, 136, 622, 'true'),\n (67916.4661111111, 111, 4636479, 382, 188583, 'true'),\n (48721.71888888889, 33, 8159, 980, 13965, 'true'),\n (38433.865, 275, 26261, 1644, 64126, 'true'),\n (24849.433333333334, 45, 4301, 1733, 31867, 'true'),\n (26165.905555555557, 22, 74034, 389, 24891, 'true'),\n (43455.877222222225, 133, 90208, 623, 34310, 'true')]"
     },
     "execution_count": 57,
     "metadata": {},
     "output_type": "execute_result"
    }
   ],
   "source": [
    "#USER RELATED FEATURES\n",
    "userData = list()\n",
    "for index, row in df.iterrows():\n",
    "    #text=re.sub(' http[s]?://(?:[a-zA-Z]|[0-9]|[$-_@.&+]|[!*\\(\\),]|(?:%[0-9a-fA-F][0-9a-fA-F]))+', \"\", row[\"text\"])\n",
    "    userData.append(((row[\"tweet_time\"]-row[\"created_at\"]).total_seconds()/3600,row[\"favorite_count\"],row[\"followers_count\"],row[\"friends_count\"],row[\"statuses_count\"],row[\"label\"]))\n",
    "userData"
   ]
  },
  {
   "cell_type": "code",
   "execution_count": 58,
   "metadata": {},
   "outputs": [
    {
     "data": {
      "text/plain": "[(69428.01861111111, 684, 14134290, 3, 23811, 'true'),\n (53162.21055555555, 5, 502598, 30, 109571, 'false'),\n (50306.946388888886, 10, 44760, 2245, 32865, 'true'),\n (48397.7375, 17, 7846, 723, 1447, 'false'),\n (54650.91027777778, 17, 756575, 361, 54532, 'false'),\n (67143.05333333333, 10, 2742831, 8137, 58973, 'true'),\n (51529.81138888889, 17, 327148, 149, 157893, 'true'),\n (43240.67138888889, 202, 214148, 369, 7991, 'true'),\n (47787.64472222222, 94, 145903, 86003, 5339, 'false'),\n (68988.34416666666, 14, 7038, 347, 59569, 'false'),\n (25465.59388888889, 15, 21139, 21934, 6833, 'true'),\n (69428.99111111111, 523, 14132292, 3, 23812, 'false'),\n (39449.908055555556, 1, 1523, 825, 18740, 'true'),\n (70426.6175, 33, 5122787, 2801, 134135, 'false'),\n (61476.78166666667, 42, 2168892, 2881, 49110, 'false'),\n (58489.310277777775, 32, 418641, 1859, 21559, 'false'),\n (69429.93944444445, 497, 14137172, 3, 23815, 'true'),\n (32736.508611111112, 4, 613, 732, 2741, 'false'),\n (68991.01222222223, 9, 7043, 347, 59569, 'true'),\n (19856.255555555555, 7, 262423, 4762, 43933, 'true'),\n (59593.77222222222, 8, 36380, 4245, 21291, 'true'),\n (69036.81055555555, 3, 7419, 349, 59760, 'true'),\n (34331.642222222225, 22, 27856, 27971, 35422, 'false'),\n (58165.46944444445, 10, 1539329, 800, 114087, 'true'),\n (40512.45638888889, 5, 102889, 54515, 520062, 'false')]"
     },
     "execution_count": 58,
     "metadata": {},
     "output_type": "execute_result"
    }
   ],
   "source": [
    "userDataTest = list()\n",
    "for index, row in dfTest.iterrows():\n",
    "    #text=re.sub(' http[s]?://(?:[a-zA-Z]|[0-9]|[$-_@.&+]|[!*\\(\\),]|(?:%[0-9a-fA-F][0-9a-fA-F]))+', \"\", row[\"text\"])\n",
    "    userDataTest.append(((row[\"tweet_time\"]-row[\"created_at\"]).total_seconds()/3600,row[\"favorite_count\"],row[\"followers_count\"],row[\"friends_count\"],row[\"statuses_count\"],row[\"label\"]))\n",
    "userDataTest"
   ]
  },
  {
   "cell_type": "code",
   "execution_count": 59,
   "metadata": {},
   "outputs": [
    {
     "data": {
      "text/plain": "272"
     },
     "execution_count": 59,
     "metadata": {},
     "output_type": "execute_result"
    }
   ],
   "source": [
    "len(userData)"
   ]
  },
  {
   "cell_type": "code",
   "execution_count": 60,
   "metadata": {},
   "outputs": [],
   "source": [
    "follower = pd.DataFrame(index=trainSet,columns=[\"followers\"])\n",
    "freinds = pd.DataFrame(index=trainSet,columns=[\"friends\"])\n",
    "statuses = pd.DataFrame(index=trainSet,columns=[\"statuses\"])\n",
    "ffratio = pd.DataFrame(index=trainSet,columns=[\"ffratio\"])\n",
    "fav = pd.DataFrame(index=trainSet,columns=[\"fav\"])\n",
    "timeDiff = pd.DataFrame(index=trainSet,columns=[\"timeDiff\"])\n",
    "userTrainingLabels=pd.DataFrame(index=trainSet,columns=[\"Label\"])\n",
    "\n",
    "for x in range(len(userData)):\n",
    "    userTrainingLabels.loc[x,\"Label\"]=userData[x][5]"
   ]
  },
  {
   "cell_type": "code",
   "execution_count": 61,
   "metadata": {},
   "outputs": [],
   "source": [
    "followerTest = pd.DataFrame(index=testSet,columns=[\"followers\"])\n",
    "userTestingLabels=pd.DataFrame(index=testSet,columns=[\"Label\"])"
   ]
  },
  {
   "cell_type": "code",
   "execution_count": 62,
   "metadata": {},
   "outputs": [],
   "source": [
    "for x in range(len(userData)):\n",
    "    follower.loc[x,\"followers\"]=userData[x][2]"
   ]
  },
  {
   "cell_type": "code",
   "execution_count": 63,
   "metadata": {},
   "outputs": [],
   "source": [
    "for x in range(len(userDataTest)):\n",
    "    followerTest.loc[x,\"followers\"]=userDataTest[x][2]\n",
    "\n",
    "for x in range(len(userDataTest)):\n",
    "    userTestingLabels.loc[x,\"Label\"]=userDataTest[x][5]\n"
   ]
  },
  {
   "cell_type": "code",
   "execution_count": 64,
   "metadata": {},
   "outputs": [],
   "source": [
    "#classifierUser = tree.DecisionTreeClassifier()\n",
    "#classifierUser = classifierUser.fit(follower, userTrainingLabels.values.ravel())\n",
    "#output=classifierUser.predict(followerTest)\n",
    "#print(metrics.accuracy_score(userTestingLabels, output))"
   ]
  },
  {
   "cell_type": "code",
   "execution_count": 65,
   "metadata": {},
   "outputs": [
    {
     "name": "stderr",
     "output_type": "stream",
     "text": "C:\\Users\\Public\\Anaconda3\\lib\\site-packages\\sklearn\\svm\\base.py:193: FutureWarning: The default value of gamma will change from 'auto' to 'scale' in version 0.22 to account better for unscaled features. Set gamma explicitly to 'auto' or 'scale' to avoid this warning.\n  \"avoid this warning.\", FutureWarning)\n"
    },
    {
     "ename": "TypeError",
     "evalue": "Cannot clone object '<nltk.classify.decisiontree.DecisionTreeClassifier object at 0x000002A475151D08>' (type <class 'nltk.classify.decisiontree.DecisionTreeClassifier'>): it does not seem to be a scikit-learn estimator as it does not implement a 'get_params' methods.",
     "output_type": "error",
     "traceback": [
      "\u001b[1;31m---------------------------------------------------------------------------\u001b[0m",
      "\u001b[1;31mTypeError\u001b[0m                                 Traceback (most recent call last)",
      "\u001b[1;32m<ipython-input-65-f99a54435198>\u001b[0m in \u001b[0;36m<module>\u001b[1;34m\u001b[0m\n\u001b[0;32m      1\u001b[0m \u001b[1;32mfrom\u001b[0m \u001b[0msklearn\u001b[0m\u001b[1;33m.\u001b[0m\u001b[0mensemble\u001b[0m \u001b[1;32mimport\u001b[0m \u001b[0mVotingClassifier\u001b[0m\u001b[1;33m\u001b[0m\u001b[1;33m\u001b[0m\u001b[0m\n\u001b[0;32m      2\u001b[0m \u001b[0mev1\u001b[0m \u001b[1;33m=\u001b[0m \u001b[0mVotingClassifier\u001b[0m\u001b[1;33m(\u001b[0m\u001b[0mestimators\u001b[0m\u001b[1;33m=\u001b[0m\u001b[1;33m[\u001b[0m\u001b[1;33m(\u001b[0m\u001b[1;34m'svm'\u001b[0m\u001b[1;33m,\u001b[0m\u001b[0mclf\u001b[0m\u001b[1;33m)\u001b[0m\u001b[1;33m,\u001b[0m\u001b[1;33m(\u001b[0m\u001b[1;34m'nb'\u001b[0m\u001b[1;33m,\u001b[0m\u001b[0mclassifier\u001b[0m\u001b[1;33m)\u001b[0m\u001b[1;33m,\u001b[0m\u001b[1;33m(\u001b[0m\u001b[1;34m'dt'\u001b[0m\u001b[1;33m,\u001b[0m\u001b[0mclassifier4\u001b[0m\u001b[1;33m)\u001b[0m\u001b[1;33m]\u001b[0m\u001b[1;33m,\u001b[0m  \u001b[0mvoting\u001b[0m\u001b[1;33m=\u001b[0m\u001b[1;34m'hard'\u001b[0m\u001b[1;33m)\u001b[0m\u001b[1;33m\u001b[0m\u001b[1;33m\u001b[0m\u001b[0m\n\u001b[1;32m----> 3\u001b[1;33m \u001b[0mev1\u001b[0m\u001b[1;33m.\u001b[0m\u001b[0mfit\u001b[0m\u001b[1;33m(\u001b[0m\u001b[0mfollower\u001b[0m\u001b[1;33m,\u001b[0m \u001b[0muserTrainingLabels\u001b[0m\u001b[1;33m.\u001b[0m\u001b[0mvalues\u001b[0m\u001b[1;33m.\u001b[0m\u001b[0mravel\u001b[0m\u001b[1;33m(\u001b[0m\u001b[1;33m)\u001b[0m\u001b[1;33m)\u001b[0m\u001b[1;33m\u001b[0m\u001b[1;33m\u001b[0m\u001b[0m\n\u001b[0m\u001b[0;32m      4\u001b[0m \u001b[0moutput\u001b[0m\u001b[1;33m=\u001b[0m\u001b[0mev1\u001b[0m\u001b[1;33m.\u001b[0m\u001b[0mpredict\u001b[0m\u001b[1;33m(\u001b[0m\u001b[0mfollowerTest\u001b[0m\u001b[1;33m)\u001b[0m\u001b[1;33m\u001b[0m\u001b[1;33m\u001b[0m\u001b[0m\n\u001b[0;32m      5\u001b[0m \u001b[0mprint\u001b[0m\u001b[1;33m(\u001b[0m\u001b[0mmetrics\u001b[0m\u001b[1;33m.\u001b[0m\u001b[0maccuracy_score\u001b[0m\u001b[1;33m(\u001b[0m\u001b[0muserTestingLabels\u001b[0m\u001b[1;33m,\u001b[0m \u001b[0moutput\u001b[0m\u001b[1;33m)\u001b[0m\u001b[1;33m)\u001b[0m\u001b[1;33m\u001b[0m\u001b[1;33m\u001b[0m\u001b[0m\n",
      "\u001b[1;32mC:\\Users\\Public\\Anaconda3\\lib\\site-packages\\sklearn\\ensemble\\voting.py\u001b[0m in \u001b[0;36mfit\u001b[1;34m(self, X, y, sample_weight)\u001b[0m\n\u001b[0;32m    277\u001b[0m         \u001b[0mtransformed_y\u001b[0m \u001b[1;33m=\u001b[0m \u001b[0mself\u001b[0m\u001b[1;33m.\u001b[0m\u001b[0mle_\u001b[0m\u001b[1;33m.\u001b[0m\u001b[0mtransform\u001b[0m\u001b[1;33m(\u001b[0m\u001b[0my\u001b[0m\u001b[1;33m)\u001b[0m\u001b[1;33m\u001b[0m\u001b[1;33m\u001b[0m\u001b[0m\n\u001b[0;32m    278\u001b[0m \u001b[1;33m\u001b[0m\u001b[0m\n\u001b[1;32m--> 279\u001b[1;33m         \u001b[1;32mreturn\u001b[0m \u001b[0msuper\u001b[0m\u001b[1;33m(\u001b[0m\u001b[1;33m)\u001b[0m\u001b[1;33m.\u001b[0m\u001b[0mfit\u001b[0m\u001b[1;33m(\u001b[0m\u001b[0mX\u001b[0m\u001b[1;33m,\u001b[0m \u001b[0mtransformed_y\u001b[0m\u001b[1;33m,\u001b[0m \u001b[0msample_weight\u001b[0m\u001b[1;33m)\u001b[0m\u001b[1;33m\u001b[0m\u001b[1;33m\u001b[0m\u001b[0m\n\u001b[0m\u001b[0;32m    280\u001b[0m \u001b[1;33m\u001b[0m\u001b[0m\n\u001b[0;32m    281\u001b[0m     \u001b[1;32mdef\u001b[0m \u001b[0mpredict\u001b[0m\u001b[1;33m(\u001b[0m\u001b[0mself\u001b[0m\u001b[1;33m,\u001b[0m \u001b[0mX\u001b[0m\u001b[1;33m)\u001b[0m\u001b[1;33m:\u001b[0m\u001b[1;33m\u001b[0m\u001b[1;33m\u001b[0m\u001b[0m\n",
      "\u001b[1;32mC:\\Users\\Public\\Anaconda3\\lib\\site-packages\\sklearn\\ensemble\\voting.py\u001b[0m in \u001b[0;36mfit\u001b[1;34m(self, X, y, sample_weight)\u001b[0m\n\u001b[0;32m     99\u001b[0m                 delayed(_parallel_fit_estimator)(clone(clf), X, y,\n\u001b[0;32m    100\u001b[0m                                                  sample_weight=sample_weight)\n\u001b[1;32m--> 101\u001b[1;33m                 \u001b[1;32mfor\u001b[0m \u001b[0mclf\u001b[0m \u001b[1;32min\u001b[0m \u001b[0mclfs\u001b[0m \u001b[1;32mif\u001b[0m \u001b[0mclf\u001b[0m \u001b[1;32mnot\u001b[0m \u001b[1;32min\u001b[0m \u001b[1;33m(\u001b[0m\u001b[1;32mNone\u001b[0m\u001b[1;33m,\u001b[0m \u001b[1;34m'drop'\u001b[0m\u001b[1;33m)\u001b[0m\u001b[1;33m\u001b[0m\u001b[1;33m\u001b[0m\u001b[0m\n\u001b[0m\u001b[0;32m    102\u001b[0m             )\n\u001b[0;32m    103\u001b[0m \u001b[1;33m\u001b[0m\u001b[0m\n",
      "\u001b[1;32mC:\\Users\\Public\\Anaconda3\\lib\\site-packages\\joblib\\parallel.py\u001b[0m in \u001b[0;36m__call__\u001b[1;34m(self, iterable)\u001b[0m\n\u001b[0;32m    922\u001b[0m                 \u001b[0mself\u001b[0m\u001b[1;33m.\u001b[0m\u001b[0m_iterating\u001b[0m \u001b[1;33m=\u001b[0m \u001b[0mself\u001b[0m\u001b[1;33m.\u001b[0m\u001b[0m_original_iterator\u001b[0m \u001b[1;32mis\u001b[0m \u001b[1;32mnot\u001b[0m \u001b[1;32mNone\u001b[0m\u001b[1;33m\u001b[0m\u001b[1;33m\u001b[0m\u001b[0m\n\u001b[0;32m    923\u001b[0m \u001b[1;33m\u001b[0m\u001b[0m\n\u001b[1;32m--> 924\u001b[1;33m             \u001b[1;32mwhile\u001b[0m \u001b[0mself\u001b[0m\u001b[1;33m.\u001b[0m\u001b[0mdispatch_one_batch\u001b[0m\u001b[1;33m(\u001b[0m\u001b[0miterator\u001b[0m\u001b[1;33m)\u001b[0m\u001b[1;33m:\u001b[0m\u001b[1;33m\u001b[0m\u001b[1;33m\u001b[0m\u001b[0m\n\u001b[0m\u001b[0;32m    925\u001b[0m                 \u001b[1;32mpass\u001b[0m\u001b[1;33m\u001b[0m\u001b[1;33m\u001b[0m\u001b[0m\n\u001b[0;32m    926\u001b[0m \u001b[1;33m\u001b[0m\u001b[0m\n",
      "\u001b[1;32mC:\\Users\\Public\\Anaconda3\\lib\\site-packages\\joblib\\parallel.py\u001b[0m in \u001b[0;36mdispatch_one_batch\u001b[1;34m(self, iterator)\u001b[0m\n\u001b[0;32m    752\u001b[0m             tasks = BatchedCalls(itertools.islice(iterator, batch_size),\n\u001b[0;32m    753\u001b[0m                                  \u001b[0mself\u001b[0m\u001b[1;33m.\u001b[0m\u001b[0m_backend\u001b[0m\u001b[1;33m.\u001b[0m\u001b[0mget_nested_backend\u001b[0m\u001b[1;33m(\u001b[0m\u001b[1;33m)\u001b[0m\u001b[1;33m,\u001b[0m\u001b[1;33m\u001b[0m\u001b[1;33m\u001b[0m\u001b[0m\n\u001b[1;32m--> 754\u001b[1;33m                                  self._pickle_cache)\n\u001b[0m\u001b[0;32m    755\u001b[0m             \u001b[1;32mif\u001b[0m \u001b[0mlen\u001b[0m\u001b[1;33m(\u001b[0m\u001b[0mtasks\u001b[0m\u001b[1;33m)\u001b[0m \u001b[1;33m==\u001b[0m \u001b[1;36m0\u001b[0m\u001b[1;33m:\u001b[0m\u001b[1;33m\u001b[0m\u001b[1;33m\u001b[0m\u001b[0m\n\u001b[0;32m    756\u001b[0m                 \u001b[1;31m# No more tasks available in the iterator: tell caller to stop.\u001b[0m\u001b[1;33m\u001b[0m\u001b[1;33m\u001b[0m\u001b[1;33m\u001b[0m\u001b[0m\n",
      "\u001b[1;32mC:\\Users\\Public\\Anaconda3\\lib\\site-packages\\joblib\\parallel.py\u001b[0m in \u001b[0;36m__init__\u001b[1;34m(self, iterator_slice, backend_and_jobs, pickle_cache)\u001b[0m\n\u001b[0;32m    208\u001b[0m \u001b[1;33m\u001b[0m\u001b[0m\n\u001b[0;32m    209\u001b[0m     \u001b[1;32mdef\u001b[0m \u001b[0m__init__\u001b[0m\u001b[1;33m(\u001b[0m\u001b[0mself\u001b[0m\u001b[1;33m,\u001b[0m \u001b[0miterator_slice\u001b[0m\u001b[1;33m,\u001b[0m \u001b[0mbackend_and_jobs\u001b[0m\u001b[1;33m,\u001b[0m \u001b[0mpickle_cache\u001b[0m\u001b[1;33m=\u001b[0m\u001b[1;32mNone\u001b[0m\u001b[1;33m)\u001b[0m\u001b[1;33m:\u001b[0m\u001b[1;33m\u001b[0m\u001b[1;33m\u001b[0m\u001b[0m\n\u001b[1;32m--> 210\u001b[1;33m         \u001b[0mself\u001b[0m\u001b[1;33m.\u001b[0m\u001b[0mitems\u001b[0m \u001b[1;33m=\u001b[0m \u001b[0mlist\u001b[0m\u001b[1;33m(\u001b[0m\u001b[0miterator_slice\u001b[0m\u001b[1;33m)\u001b[0m\u001b[1;33m\u001b[0m\u001b[1;33m\u001b[0m\u001b[0m\n\u001b[0m\u001b[0;32m    211\u001b[0m         \u001b[0mself\u001b[0m\u001b[1;33m.\u001b[0m\u001b[0m_size\u001b[0m \u001b[1;33m=\u001b[0m \u001b[0mlen\u001b[0m\u001b[1;33m(\u001b[0m\u001b[0mself\u001b[0m\u001b[1;33m.\u001b[0m\u001b[0mitems\u001b[0m\u001b[1;33m)\u001b[0m\u001b[1;33m\u001b[0m\u001b[1;33m\u001b[0m\u001b[0m\n\u001b[0;32m    212\u001b[0m         \u001b[1;32mif\u001b[0m \u001b[0misinstance\u001b[0m\u001b[1;33m(\u001b[0m\u001b[0mbackend_and_jobs\u001b[0m\u001b[1;33m,\u001b[0m \u001b[0mtuple\u001b[0m\u001b[1;33m)\u001b[0m\u001b[1;33m:\u001b[0m\u001b[1;33m\u001b[0m\u001b[1;33m\u001b[0m\u001b[0m\n",
      "\u001b[1;32mC:\\Users\\Public\\Anaconda3\\lib\\site-packages\\sklearn\\ensemble\\voting.py\u001b[0m in \u001b[0;36m<genexpr>\u001b[1;34m(.0)\u001b[0m\n\u001b[0;32m     99\u001b[0m                 delayed(_parallel_fit_estimator)(clone(clf), X, y,\n\u001b[0;32m    100\u001b[0m                                                  sample_weight=sample_weight)\n\u001b[1;32m--> 101\u001b[1;33m                 \u001b[1;32mfor\u001b[0m \u001b[0mclf\u001b[0m \u001b[1;32min\u001b[0m \u001b[0mclfs\u001b[0m \u001b[1;32mif\u001b[0m \u001b[0mclf\u001b[0m \u001b[1;32mnot\u001b[0m \u001b[1;32min\u001b[0m \u001b[1;33m(\u001b[0m\u001b[1;32mNone\u001b[0m\u001b[1;33m,\u001b[0m \u001b[1;34m'drop'\u001b[0m\u001b[1;33m)\u001b[0m\u001b[1;33m\u001b[0m\u001b[1;33m\u001b[0m\u001b[0m\n\u001b[0m\u001b[0;32m    102\u001b[0m             )\n\u001b[0;32m    103\u001b[0m \u001b[1;33m\u001b[0m\u001b[0m\n",
      "\u001b[1;32mC:\\Users\\Public\\Anaconda3\\lib\\site-packages\\sklearn\\base.py\u001b[0m in \u001b[0;36mclone\u001b[1;34m(estimator, safe)\u001b[0m\n\u001b[0;32m     58\u001b[0m                             \u001b[1;34m\"it does not seem to be a scikit-learn estimator \"\u001b[0m\u001b[1;33m\u001b[0m\u001b[1;33m\u001b[0m\u001b[0m\n\u001b[0;32m     59\u001b[0m                             \u001b[1;34m\"as it does not implement a 'get_params' methods.\"\u001b[0m\u001b[1;33m\u001b[0m\u001b[1;33m\u001b[0m\u001b[0m\n\u001b[1;32m---> 60\u001b[1;33m                             % (repr(estimator), type(estimator)))\n\u001b[0m\u001b[0;32m     61\u001b[0m     \u001b[0mklass\u001b[0m \u001b[1;33m=\u001b[0m \u001b[0mestimator\u001b[0m\u001b[1;33m.\u001b[0m\u001b[0m__class__\u001b[0m\u001b[1;33m\u001b[0m\u001b[1;33m\u001b[0m\u001b[0m\n\u001b[0;32m     62\u001b[0m     \u001b[0mnew_object_params\u001b[0m \u001b[1;33m=\u001b[0m \u001b[0mestimator\u001b[0m\u001b[1;33m.\u001b[0m\u001b[0mget_params\u001b[0m\u001b[1;33m(\u001b[0m\u001b[0mdeep\u001b[0m\u001b[1;33m=\u001b[0m\u001b[1;32mFalse\u001b[0m\u001b[1;33m)\u001b[0m\u001b[1;33m\u001b[0m\u001b[1;33m\u001b[0m\u001b[0m\n",
      "\u001b[1;31mTypeError\u001b[0m: Cannot clone object '<nltk.classify.decisiontree.DecisionTreeClassifier object at 0x000002A475151D08>' (type <class 'nltk.classify.decisiontree.DecisionTreeClassifier'>): it does not seem to be a scikit-learn estimator as it does not implement a 'get_params' methods."
     ]
    }
   ],
   "source": [
    "from sklearn.ensemble import VotingClassifier\n",
    "ev1 = VotingClassifier(estimators=[('svm',clf),('nb',classifier),('dt',classifier4)],  voting='hard')\n",
    "ev1.fit(follower, userTrainingLabels.values.ravel())\n",
    "output=ev1.predict(followerTest)\n",
    "print(metrics.accuracy_score(userTestingLabels, output))"
   ]
  },
  {
   "cell_type": "code",
   "execution_count": 66,
   "metadata": {},
   "outputs": [],
   "source": [
    "os.environ[\"PATH\"] += os.pathsep + 'C:/Program Files (x86)/graphviz-2.38/release/bin'"
   ]
  },
  {
   "cell_type": "code",
   "execution_count": 67,
   "metadata": {},
   "outputs": [
    {
     "ename": "ModuleNotFoundError",
     "evalue": "No module named 'pydotplus'",
     "output_type": "error",
     "traceback": [
      "\u001b[1;31m---------------------------------------------------------------------------\u001b[0m",
      "\u001b[1;31mModuleNotFoundError\u001b[0m                       Traceback (most recent call last)",
      "\u001b[1;32m<ipython-input-67-eea81fdaeab0>\u001b[0m in \u001b[0;36m<module>\u001b[1;34m\u001b[0m\n\u001b[1;32m----> 1\u001b[1;33m \u001b[1;32mimport\u001b[0m \u001b[0mpydotplus\u001b[0m\u001b[1;33m\u001b[0m\u001b[1;33m\u001b[0m\u001b[0m\n\u001b[0m\u001b[0;32m      2\u001b[0m \u001b[0mdot_data\u001b[0m \u001b[1;33m=\u001b[0m \u001b[0mtree\u001b[0m\u001b[1;33m.\u001b[0m\u001b[0mexport_graphviz\u001b[0m\u001b[1;33m(\u001b[0m\u001b[0mclassifierUser\u001b[0m\u001b[1;33m,\u001b[0m \u001b[0mout_file\u001b[0m\u001b[1;33m=\u001b[0m\u001b[1;32mNone\u001b[0m\u001b[1;33m,\u001b[0m\u001b[0mclass_names\u001b[0m\u001b[1;33m=\u001b[0m\u001b[1;33m[\u001b[0m\u001b[1;34m'real'\u001b[0m\u001b[1;33m,\u001b[0m\u001b[1;34m'fake'\u001b[0m\u001b[1;33m]\u001b[0m\u001b[1;33m)\u001b[0m\u001b[1;33m\u001b[0m\u001b[1;33m\u001b[0m\u001b[0m\n\u001b[0;32m      3\u001b[0m \u001b[0mgraph\u001b[0m \u001b[1;33m=\u001b[0m \u001b[0mpydotplus\u001b[0m\u001b[1;33m.\u001b[0m\u001b[0mgraph_from_dot_data\u001b[0m\u001b[1;33m(\u001b[0m\u001b[0mdot_data\u001b[0m\u001b[1;33m)\u001b[0m\u001b[1;33m\u001b[0m\u001b[1;33m\u001b[0m\u001b[0m\n\u001b[0;32m      4\u001b[0m \u001b[0mgraph\u001b[0m\u001b[1;33m.\u001b[0m\u001b[0mwrite_pdf\u001b[0m\u001b[1;33m(\u001b[0m\u001b[1;34m\"followerTree.pdf\"\u001b[0m\u001b[1;33m)\u001b[0m\u001b[1;33m\u001b[0m\u001b[1;33m\u001b[0m\u001b[0m\n\u001b[0;32m      5\u001b[0m \u001b[1;31m#tree.export_graphviz(classifierUser,out_file='tree.dot')\u001b[0m\u001b[1;33m\u001b[0m\u001b[1;33m\u001b[0m\u001b[1;33m\u001b[0m\u001b[0m\n",
      "\u001b[1;31mModuleNotFoundError\u001b[0m: No module named 'pydotplus'"
     ]
    }
   ],
   "source": [
    "import pydotplus\n",
    "dot_data = tree.export_graphviz(classifierUser, out_file=None,class_names=['real','fake']) \n",
    "graph = pydotplus.graph_from_dot_data(dot_data) \n",
    "graph.write_pdf(\"followerTree.pdf\") \n",
    "#tree.export_graphviz(classifierUser,out_file='tree.dot')\n",
    "from IPython.display import Image  \n",
    "Image(graph.create_png())"
   ]
  },
  {
   "cell_type": "code",
   "execution_count": 68,
   "metadata": {},
   "outputs": [
    {
     "name": "stderr",
     "output_type": "stream",
     "text": "C:\\Users\\Public\\Anaconda3\\lib\\site-packages\\sklearn\\svm\\base.py:193: FutureWarning: The default value of gamma will change from 'auto' to 'scale' in version 0.22 to account better for unscaled features. Set gamma explicitly to 'auto' or 'scale' to avoid this warning.\n  \"avoid this warning.\", FutureWarning)\n"
    },
    {
     "ename": "TypeError",
     "evalue": "Cannot clone object '<nltk.classify.decisiontree.DecisionTreeClassifier object at 0x000002A475151D08>' (type <class 'nltk.classify.decisiontree.DecisionTreeClassifier'>): it does not seem to be a scikit-learn estimator as it does not implement a 'get_params' methods.",
     "output_type": "error",
     "traceback": [
      "\u001b[1;31m---------------------------------------------------------------------------\u001b[0m",
      "\u001b[1;31mTypeError\u001b[0m                                 Traceback (most recent call last)",
      "\u001b[1;32m<ipython-input-68-14978ff8f2b4>\u001b[0m in \u001b[0;36m<module>\u001b[1;34m\u001b[0m\n\u001b[0;32m     11\u001b[0m \u001b[1;32mfrom\u001b[0m \u001b[0msklearn\u001b[0m\u001b[1;33m.\u001b[0m\u001b[0mensemble\u001b[0m \u001b[1;32mimport\u001b[0m \u001b[0mVotingClassifier\u001b[0m\u001b[1;33m\u001b[0m\u001b[1;33m\u001b[0m\u001b[0m\n\u001b[0;32m     12\u001b[0m \u001b[0mev2\u001b[0m \u001b[1;33m=\u001b[0m \u001b[0mVotingClassifier\u001b[0m\u001b[1;33m(\u001b[0m\u001b[0mestimators\u001b[0m\u001b[1;33m=\u001b[0m\u001b[1;33m[\u001b[0m\u001b[1;33m(\u001b[0m\u001b[1;34m'svm'\u001b[0m\u001b[1;33m,\u001b[0m\u001b[0mclf\u001b[0m\u001b[1;33m)\u001b[0m\u001b[1;33m,\u001b[0m\u001b[1;33m(\u001b[0m\u001b[1;34m'nb'\u001b[0m\u001b[1;33m,\u001b[0m\u001b[0mclassifier\u001b[0m\u001b[1;33m)\u001b[0m\u001b[1;33m,\u001b[0m\u001b[1;33m(\u001b[0m\u001b[1;34m'dt'\u001b[0m\u001b[1;33m,\u001b[0m\u001b[0mclassifier4\u001b[0m\u001b[1;33m)\u001b[0m\u001b[1;33m]\u001b[0m\u001b[1;33m,\u001b[0m  \u001b[0mvoting\u001b[0m\u001b[1;33m=\u001b[0m\u001b[1;34m'hard'\u001b[0m\u001b[1;33m)\u001b[0m\u001b[1;33m\u001b[0m\u001b[1;33m\u001b[0m\u001b[0m\n\u001b[1;32m---> 13\u001b[1;33m \u001b[0mev2\u001b[0m\u001b[1;33m.\u001b[0m\u001b[0mfit\u001b[0m\u001b[1;33m(\u001b[0m\u001b[0mfreinds\u001b[0m\u001b[1;33m,\u001b[0m \u001b[0muserTrainingLabels\u001b[0m\u001b[1;33m.\u001b[0m\u001b[0mvalues\u001b[0m\u001b[1;33m.\u001b[0m\u001b[0mravel\u001b[0m\u001b[1;33m(\u001b[0m\u001b[1;33m)\u001b[0m\u001b[1;33m)\u001b[0m\u001b[1;33m\u001b[0m\u001b[1;33m\u001b[0m\u001b[0m\n\u001b[0m\u001b[0;32m     14\u001b[0m \u001b[0moutput\u001b[0m\u001b[1;33m=\u001b[0m\u001b[0mev2\u001b[0m\u001b[1;33m.\u001b[0m\u001b[0mpredict\u001b[0m\u001b[1;33m(\u001b[0m\u001b[0mfreindsTest\u001b[0m\u001b[1;33m)\u001b[0m\u001b[1;33m\u001b[0m\u001b[1;33m\u001b[0m\u001b[0m\n\u001b[0;32m     15\u001b[0m \u001b[0mprint\u001b[0m\u001b[1;33m(\u001b[0m\u001b[0mmetrics\u001b[0m\u001b[1;33m.\u001b[0m\u001b[0maccuracy_score\u001b[0m\u001b[1;33m(\u001b[0m\u001b[0muserTestingLabels\u001b[0m\u001b[1;33m,\u001b[0m \u001b[0moutput\u001b[0m\u001b[1;33m)\u001b[0m\u001b[1;33m)\u001b[0m\u001b[1;33m\u001b[0m\u001b[1;33m\u001b[0m\u001b[0m\n",
      "\u001b[1;32mC:\\Users\\Public\\Anaconda3\\lib\\site-packages\\sklearn\\ensemble\\voting.py\u001b[0m in \u001b[0;36mfit\u001b[1;34m(self, X, y, sample_weight)\u001b[0m\n\u001b[0;32m    277\u001b[0m         \u001b[0mtransformed_y\u001b[0m \u001b[1;33m=\u001b[0m \u001b[0mself\u001b[0m\u001b[1;33m.\u001b[0m\u001b[0mle_\u001b[0m\u001b[1;33m.\u001b[0m\u001b[0mtransform\u001b[0m\u001b[1;33m(\u001b[0m\u001b[0my\u001b[0m\u001b[1;33m)\u001b[0m\u001b[1;33m\u001b[0m\u001b[1;33m\u001b[0m\u001b[0m\n\u001b[0;32m    278\u001b[0m \u001b[1;33m\u001b[0m\u001b[0m\n\u001b[1;32m--> 279\u001b[1;33m         \u001b[1;32mreturn\u001b[0m \u001b[0msuper\u001b[0m\u001b[1;33m(\u001b[0m\u001b[1;33m)\u001b[0m\u001b[1;33m.\u001b[0m\u001b[0mfit\u001b[0m\u001b[1;33m(\u001b[0m\u001b[0mX\u001b[0m\u001b[1;33m,\u001b[0m \u001b[0mtransformed_y\u001b[0m\u001b[1;33m,\u001b[0m \u001b[0msample_weight\u001b[0m\u001b[1;33m)\u001b[0m\u001b[1;33m\u001b[0m\u001b[1;33m\u001b[0m\u001b[0m\n\u001b[0m\u001b[0;32m    280\u001b[0m \u001b[1;33m\u001b[0m\u001b[0m\n\u001b[0;32m    281\u001b[0m     \u001b[1;32mdef\u001b[0m \u001b[0mpredict\u001b[0m\u001b[1;33m(\u001b[0m\u001b[0mself\u001b[0m\u001b[1;33m,\u001b[0m \u001b[0mX\u001b[0m\u001b[1;33m)\u001b[0m\u001b[1;33m:\u001b[0m\u001b[1;33m\u001b[0m\u001b[1;33m\u001b[0m\u001b[0m\n",
      "\u001b[1;32mC:\\Users\\Public\\Anaconda3\\lib\\site-packages\\sklearn\\ensemble\\voting.py\u001b[0m in \u001b[0;36mfit\u001b[1;34m(self, X, y, sample_weight)\u001b[0m\n\u001b[0;32m     99\u001b[0m                 delayed(_parallel_fit_estimator)(clone(clf), X, y,\n\u001b[0;32m    100\u001b[0m                                                  sample_weight=sample_weight)\n\u001b[1;32m--> 101\u001b[1;33m                 \u001b[1;32mfor\u001b[0m \u001b[0mclf\u001b[0m \u001b[1;32min\u001b[0m \u001b[0mclfs\u001b[0m \u001b[1;32mif\u001b[0m \u001b[0mclf\u001b[0m \u001b[1;32mnot\u001b[0m \u001b[1;32min\u001b[0m \u001b[1;33m(\u001b[0m\u001b[1;32mNone\u001b[0m\u001b[1;33m,\u001b[0m \u001b[1;34m'drop'\u001b[0m\u001b[1;33m)\u001b[0m\u001b[1;33m\u001b[0m\u001b[1;33m\u001b[0m\u001b[0m\n\u001b[0m\u001b[0;32m    102\u001b[0m             )\n\u001b[0;32m    103\u001b[0m \u001b[1;33m\u001b[0m\u001b[0m\n",
      "\u001b[1;32mC:\\Users\\Public\\Anaconda3\\lib\\site-packages\\joblib\\parallel.py\u001b[0m in \u001b[0;36m__call__\u001b[1;34m(self, iterable)\u001b[0m\n\u001b[0;32m    922\u001b[0m                 \u001b[0mself\u001b[0m\u001b[1;33m.\u001b[0m\u001b[0m_iterating\u001b[0m \u001b[1;33m=\u001b[0m \u001b[0mself\u001b[0m\u001b[1;33m.\u001b[0m\u001b[0m_original_iterator\u001b[0m \u001b[1;32mis\u001b[0m \u001b[1;32mnot\u001b[0m \u001b[1;32mNone\u001b[0m\u001b[1;33m\u001b[0m\u001b[1;33m\u001b[0m\u001b[0m\n\u001b[0;32m    923\u001b[0m \u001b[1;33m\u001b[0m\u001b[0m\n\u001b[1;32m--> 924\u001b[1;33m             \u001b[1;32mwhile\u001b[0m \u001b[0mself\u001b[0m\u001b[1;33m.\u001b[0m\u001b[0mdispatch_one_batch\u001b[0m\u001b[1;33m(\u001b[0m\u001b[0miterator\u001b[0m\u001b[1;33m)\u001b[0m\u001b[1;33m:\u001b[0m\u001b[1;33m\u001b[0m\u001b[1;33m\u001b[0m\u001b[0m\n\u001b[0m\u001b[0;32m    925\u001b[0m                 \u001b[1;32mpass\u001b[0m\u001b[1;33m\u001b[0m\u001b[1;33m\u001b[0m\u001b[0m\n\u001b[0;32m    926\u001b[0m \u001b[1;33m\u001b[0m\u001b[0m\n",
      "\u001b[1;32mC:\\Users\\Public\\Anaconda3\\lib\\site-packages\\joblib\\parallel.py\u001b[0m in \u001b[0;36mdispatch_one_batch\u001b[1;34m(self, iterator)\u001b[0m\n\u001b[0;32m    752\u001b[0m             tasks = BatchedCalls(itertools.islice(iterator, batch_size),\n\u001b[0;32m    753\u001b[0m                                  \u001b[0mself\u001b[0m\u001b[1;33m.\u001b[0m\u001b[0m_backend\u001b[0m\u001b[1;33m.\u001b[0m\u001b[0mget_nested_backend\u001b[0m\u001b[1;33m(\u001b[0m\u001b[1;33m)\u001b[0m\u001b[1;33m,\u001b[0m\u001b[1;33m\u001b[0m\u001b[1;33m\u001b[0m\u001b[0m\n\u001b[1;32m--> 754\u001b[1;33m                                  self._pickle_cache)\n\u001b[0m\u001b[0;32m    755\u001b[0m             \u001b[1;32mif\u001b[0m \u001b[0mlen\u001b[0m\u001b[1;33m(\u001b[0m\u001b[0mtasks\u001b[0m\u001b[1;33m)\u001b[0m \u001b[1;33m==\u001b[0m \u001b[1;36m0\u001b[0m\u001b[1;33m:\u001b[0m\u001b[1;33m\u001b[0m\u001b[1;33m\u001b[0m\u001b[0m\n\u001b[0;32m    756\u001b[0m                 \u001b[1;31m# No more tasks available in the iterator: tell caller to stop.\u001b[0m\u001b[1;33m\u001b[0m\u001b[1;33m\u001b[0m\u001b[1;33m\u001b[0m\u001b[0m\n",
      "\u001b[1;32mC:\\Users\\Public\\Anaconda3\\lib\\site-packages\\joblib\\parallel.py\u001b[0m in \u001b[0;36m__init__\u001b[1;34m(self, iterator_slice, backend_and_jobs, pickle_cache)\u001b[0m\n\u001b[0;32m    208\u001b[0m \u001b[1;33m\u001b[0m\u001b[0m\n\u001b[0;32m    209\u001b[0m     \u001b[1;32mdef\u001b[0m \u001b[0m__init__\u001b[0m\u001b[1;33m(\u001b[0m\u001b[0mself\u001b[0m\u001b[1;33m,\u001b[0m \u001b[0miterator_slice\u001b[0m\u001b[1;33m,\u001b[0m \u001b[0mbackend_and_jobs\u001b[0m\u001b[1;33m,\u001b[0m \u001b[0mpickle_cache\u001b[0m\u001b[1;33m=\u001b[0m\u001b[1;32mNone\u001b[0m\u001b[1;33m)\u001b[0m\u001b[1;33m:\u001b[0m\u001b[1;33m\u001b[0m\u001b[1;33m\u001b[0m\u001b[0m\n\u001b[1;32m--> 210\u001b[1;33m         \u001b[0mself\u001b[0m\u001b[1;33m.\u001b[0m\u001b[0mitems\u001b[0m \u001b[1;33m=\u001b[0m \u001b[0mlist\u001b[0m\u001b[1;33m(\u001b[0m\u001b[0miterator_slice\u001b[0m\u001b[1;33m)\u001b[0m\u001b[1;33m\u001b[0m\u001b[1;33m\u001b[0m\u001b[0m\n\u001b[0m\u001b[0;32m    211\u001b[0m         \u001b[0mself\u001b[0m\u001b[1;33m.\u001b[0m\u001b[0m_size\u001b[0m \u001b[1;33m=\u001b[0m \u001b[0mlen\u001b[0m\u001b[1;33m(\u001b[0m\u001b[0mself\u001b[0m\u001b[1;33m.\u001b[0m\u001b[0mitems\u001b[0m\u001b[1;33m)\u001b[0m\u001b[1;33m\u001b[0m\u001b[1;33m\u001b[0m\u001b[0m\n\u001b[0;32m    212\u001b[0m         \u001b[1;32mif\u001b[0m \u001b[0misinstance\u001b[0m\u001b[1;33m(\u001b[0m\u001b[0mbackend_and_jobs\u001b[0m\u001b[1;33m,\u001b[0m \u001b[0mtuple\u001b[0m\u001b[1;33m)\u001b[0m\u001b[1;33m:\u001b[0m\u001b[1;33m\u001b[0m\u001b[1;33m\u001b[0m\u001b[0m\n",
      "\u001b[1;32mC:\\Users\\Public\\Anaconda3\\lib\\site-packages\\sklearn\\ensemble\\voting.py\u001b[0m in \u001b[0;36m<genexpr>\u001b[1;34m(.0)\u001b[0m\n\u001b[0;32m     99\u001b[0m                 delayed(_parallel_fit_estimator)(clone(clf), X, y,\n\u001b[0;32m    100\u001b[0m                                                  sample_weight=sample_weight)\n\u001b[1;32m--> 101\u001b[1;33m                 \u001b[1;32mfor\u001b[0m \u001b[0mclf\u001b[0m \u001b[1;32min\u001b[0m \u001b[0mclfs\u001b[0m \u001b[1;32mif\u001b[0m \u001b[0mclf\u001b[0m \u001b[1;32mnot\u001b[0m \u001b[1;32min\u001b[0m \u001b[1;33m(\u001b[0m\u001b[1;32mNone\u001b[0m\u001b[1;33m,\u001b[0m \u001b[1;34m'drop'\u001b[0m\u001b[1;33m)\u001b[0m\u001b[1;33m\u001b[0m\u001b[1;33m\u001b[0m\u001b[0m\n\u001b[0m\u001b[0;32m    102\u001b[0m             )\n\u001b[0;32m    103\u001b[0m \u001b[1;33m\u001b[0m\u001b[0m\n",
      "\u001b[1;32mC:\\Users\\Public\\Anaconda3\\lib\\site-packages\\sklearn\\base.py\u001b[0m in \u001b[0;36mclone\u001b[1;34m(estimator, safe)\u001b[0m\n\u001b[0;32m     58\u001b[0m                             \u001b[1;34m\"it does not seem to be a scikit-learn estimator \"\u001b[0m\u001b[1;33m\u001b[0m\u001b[1;33m\u001b[0m\u001b[0m\n\u001b[0;32m     59\u001b[0m                             \u001b[1;34m\"as it does not implement a 'get_params' methods.\"\u001b[0m\u001b[1;33m\u001b[0m\u001b[1;33m\u001b[0m\u001b[0m\n\u001b[1;32m---> 60\u001b[1;33m                             % (repr(estimator), type(estimator)))\n\u001b[0m\u001b[0;32m     61\u001b[0m     \u001b[0mklass\u001b[0m \u001b[1;33m=\u001b[0m \u001b[0mestimator\u001b[0m\u001b[1;33m.\u001b[0m\u001b[0m__class__\u001b[0m\u001b[1;33m\u001b[0m\u001b[1;33m\u001b[0m\u001b[0m\n\u001b[0;32m     62\u001b[0m     \u001b[0mnew_object_params\u001b[0m \u001b[1;33m=\u001b[0m \u001b[0mestimator\u001b[0m\u001b[1;33m.\u001b[0m\u001b[0mget_params\u001b[0m\u001b[1;33m(\u001b[0m\u001b[0mdeep\u001b[0m\u001b[1;33m=\u001b[0m\u001b[1;32mFalse\u001b[0m\u001b[1;33m)\u001b[0m\u001b[1;33m\u001b[0m\u001b[1;33m\u001b[0m\u001b[0m\n",
      "\u001b[1;31mTypeError\u001b[0m: Cannot clone object '<nltk.classify.decisiontree.DecisionTreeClassifier object at 0x000002A475151D08>' (type <class 'nltk.classify.decisiontree.DecisionTreeClassifier'>): it does not seem to be a scikit-learn estimator as it does not implement a 'get_params' methods."
     ]
    }
   ],
   "source": [
    "freindsTest = pd.DataFrame(index=testSet,columns=[\"friends\"])\n",
    "for x in range(len(userData)):\n",
    "    freinds.loc[x,\"friends\"]=userData[x][3]\n",
    "for x in range(len(userDataTest)):\n",
    "    freindsTest.loc[x,\"friends\"]=userDataTest[x][3]\n",
    "\n",
    "#classifierUser = tree.DecisionTreeClassifier()\n",
    "#classifierUser = classifierUser.fit(freinds, userTrainingLabels.values.ravel())\n",
    "#output=classifierUser.predict(freindsTest)\n",
    "#print(metrics.accuracy_score(userTestingLabels, output))\n",
    "from sklearn.ensemble import VotingClassifier\n",
    "ev2 = VotingClassifier(estimators=[('svm',clf),('nb',classifier),('dt',classifier4)],  voting='hard')\n",
    "ev2.fit(freinds, userTrainingLabels.values.ravel())\n",
    "output=ev2.predict(freindsTest)\n",
    "print(metrics.accuracy_score(userTestingLabels, output))"
   ]
  },
  {
   "cell_type": "code",
   "execution_count": 906,
   "metadata": {},
   "outputs": [
    {
     "name": "stdout",
     "output_type": "stream",
     "text": "0.52\nC:\\Users\\Public\\Anaconda3\\lib\\site-packages\\sklearn\\svm\\base.py:193: FutureWarning: The default value of gamma will change from 'auto' to 'scale' in version 0.22 to account better for unscaled features. Set gamma explicitly to 'auto' or 'scale' to avoid this warning.\n  \"avoid this warning.\", FutureWarning)\n"
    }
   ],
   "source": [
    "ffratioTest = pd.DataFrame(index=testSet,columns=[\"ffratio\"])\n",
    "for x in range(len(userData)):\n",
    "    ffratio.loc[x,\"ffratio\"]=userData[x][2]/userData[x][3]\n",
    "for x in range(len(userDataTest)):\n",
    "    ffratioTest.loc[x,\"ffratio\"]=userDataTest[x][2]/userData[x][3]\n",
    "\n",
    "#classifierUser = tree.DecisionTreeClassifier()\n",
    "#classifierUser = classifierUser.fit(ffratio, userTrainingLabels.values.ravel())\n",
    "#output=classifierUser.predict(ffratioTest)\n",
    "#print(metrics.accuracy_score(userTestingLabels, output))\n",
    "from sklearn.ensemble import VotingClassifier\n",
    "ev3 = VotingClassifier(estimators=[('svm',clf),('nb',classifier),('dt',classifier4)],  voting='hard')\n",
    "ev3.fit(ffratio, userTrainingLabels.values.ravel())\n",
    "output=ev3.predict(ffratioTest)\n",
    "print(metrics.accuracy_score(userTestingLabels, output))"
   ]
  },
  {
   "cell_type": "code",
   "execution_count": 69,
   "metadata": {},
   "outputs": [
    {
     "name": "stderr",
     "output_type": "stream",
     "text": "C:\\Users\\Public\\Anaconda3\\lib\\site-packages\\sklearn\\svm\\base.py:193: FutureWarning: The default value of gamma will change from 'auto' to 'scale' in version 0.22 to account better for unscaled features. Set gamma explicitly to 'auto' or 'scale' to avoid this warning.\n  \"avoid this warning.\", FutureWarning)\n"
    },
    {
     "ename": "TypeError",
     "evalue": "Cannot clone object '<nltk.classify.decisiontree.DecisionTreeClassifier object at 0x000002A475151D08>' (type <class 'nltk.classify.decisiontree.DecisionTreeClassifier'>): it does not seem to be a scikit-learn estimator as it does not implement a 'get_params' methods.",
     "output_type": "error",
     "traceback": [
      "\u001b[1;31m---------------------------------------------------------------------------\u001b[0m",
      "\u001b[1;31mTypeError\u001b[0m                                 Traceback (most recent call last)",
      "\u001b[1;32m<ipython-input-69-c893b1d43c39>\u001b[0m in \u001b[0;36m<module>\u001b[1;34m\u001b[0m\n\u001b[0;32m     11\u001b[0m \u001b[1;32mfrom\u001b[0m \u001b[0msklearn\u001b[0m\u001b[1;33m.\u001b[0m\u001b[0mensemble\u001b[0m \u001b[1;32mimport\u001b[0m \u001b[0mVotingClassifier\u001b[0m\u001b[1;33m\u001b[0m\u001b[1;33m\u001b[0m\u001b[0m\n\u001b[0;32m     12\u001b[0m \u001b[0mev4\u001b[0m \u001b[1;33m=\u001b[0m \u001b[0mVotingClassifier\u001b[0m\u001b[1;33m(\u001b[0m\u001b[0mestimators\u001b[0m\u001b[1;33m=\u001b[0m\u001b[1;33m[\u001b[0m\u001b[1;33m(\u001b[0m\u001b[1;34m'svm'\u001b[0m\u001b[1;33m,\u001b[0m\u001b[0mclf\u001b[0m\u001b[1;33m)\u001b[0m\u001b[1;33m,\u001b[0m\u001b[1;33m(\u001b[0m\u001b[1;34m'nb'\u001b[0m\u001b[1;33m,\u001b[0m\u001b[0mclassifier\u001b[0m\u001b[1;33m)\u001b[0m\u001b[1;33m,\u001b[0m\u001b[1;33m(\u001b[0m\u001b[1;34m'dt'\u001b[0m\u001b[1;33m,\u001b[0m\u001b[0mclassifier4\u001b[0m\u001b[1;33m)\u001b[0m\u001b[1;33m]\u001b[0m\u001b[1;33m,\u001b[0m  \u001b[0mvoting\u001b[0m\u001b[1;33m=\u001b[0m\u001b[1;34m'hard'\u001b[0m\u001b[1;33m)\u001b[0m\u001b[1;33m\u001b[0m\u001b[1;33m\u001b[0m\u001b[0m\n\u001b[1;32m---> 13\u001b[1;33m \u001b[0mev4\u001b[0m\u001b[1;33m.\u001b[0m\u001b[0mfit\u001b[0m\u001b[1;33m(\u001b[0m\u001b[0mtimeDiff\u001b[0m\u001b[1;33m,\u001b[0m \u001b[0muserTrainingLabels\u001b[0m\u001b[1;33m.\u001b[0m\u001b[0mvalues\u001b[0m\u001b[1;33m.\u001b[0m\u001b[0mravel\u001b[0m\u001b[1;33m(\u001b[0m\u001b[1;33m)\u001b[0m\u001b[1;33m)\u001b[0m\u001b[1;33m\u001b[0m\u001b[1;33m\u001b[0m\u001b[0m\n\u001b[0m\u001b[0;32m     14\u001b[0m \u001b[0moutput\u001b[0m\u001b[1;33m=\u001b[0m\u001b[0mev1\u001b[0m\u001b[1;33m.\u001b[0m\u001b[0mpredict\u001b[0m\u001b[1;33m(\u001b[0m\u001b[0mtimeDiffTest\u001b[0m\u001b[1;33m)\u001b[0m\u001b[1;33m\u001b[0m\u001b[1;33m\u001b[0m\u001b[0m\n\u001b[0;32m     15\u001b[0m \u001b[0mprint\u001b[0m\u001b[1;33m(\u001b[0m\u001b[0mmetrics\u001b[0m\u001b[1;33m.\u001b[0m\u001b[0maccuracy_score\u001b[0m\u001b[1;33m(\u001b[0m\u001b[0muserTestingLabels\u001b[0m\u001b[1;33m,\u001b[0m \u001b[0moutput\u001b[0m\u001b[1;33m)\u001b[0m\u001b[1;33m)\u001b[0m\u001b[1;33m\u001b[0m\u001b[1;33m\u001b[0m\u001b[0m\n",
      "\u001b[1;32mC:\\Users\\Public\\Anaconda3\\lib\\site-packages\\sklearn\\ensemble\\voting.py\u001b[0m in \u001b[0;36mfit\u001b[1;34m(self, X, y, sample_weight)\u001b[0m\n\u001b[0;32m    277\u001b[0m         \u001b[0mtransformed_y\u001b[0m \u001b[1;33m=\u001b[0m \u001b[0mself\u001b[0m\u001b[1;33m.\u001b[0m\u001b[0mle_\u001b[0m\u001b[1;33m.\u001b[0m\u001b[0mtransform\u001b[0m\u001b[1;33m(\u001b[0m\u001b[0my\u001b[0m\u001b[1;33m)\u001b[0m\u001b[1;33m\u001b[0m\u001b[1;33m\u001b[0m\u001b[0m\n\u001b[0;32m    278\u001b[0m \u001b[1;33m\u001b[0m\u001b[0m\n\u001b[1;32m--> 279\u001b[1;33m         \u001b[1;32mreturn\u001b[0m \u001b[0msuper\u001b[0m\u001b[1;33m(\u001b[0m\u001b[1;33m)\u001b[0m\u001b[1;33m.\u001b[0m\u001b[0mfit\u001b[0m\u001b[1;33m(\u001b[0m\u001b[0mX\u001b[0m\u001b[1;33m,\u001b[0m \u001b[0mtransformed_y\u001b[0m\u001b[1;33m,\u001b[0m \u001b[0msample_weight\u001b[0m\u001b[1;33m)\u001b[0m\u001b[1;33m\u001b[0m\u001b[1;33m\u001b[0m\u001b[0m\n\u001b[0m\u001b[0;32m    280\u001b[0m \u001b[1;33m\u001b[0m\u001b[0m\n\u001b[0;32m    281\u001b[0m     \u001b[1;32mdef\u001b[0m \u001b[0mpredict\u001b[0m\u001b[1;33m(\u001b[0m\u001b[0mself\u001b[0m\u001b[1;33m,\u001b[0m \u001b[0mX\u001b[0m\u001b[1;33m)\u001b[0m\u001b[1;33m:\u001b[0m\u001b[1;33m\u001b[0m\u001b[1;33m\u001b[0m\u001b[0m\n",
      "\u001b[1;32mC:\\Users\\Public\\Anaconda3\\lib\\site-packages\\sklearn\\ensemble\\voting.py\u001b[0m in \u001b[0;36mfit\u001b[1;34m(self, X, y, sample_weight)\u001b[0m\n\u001b[0;32m     99\u001b[0m                 delayed(_parallel_fit_estimator)(clone(clf), X, y,\n\u001b[0;32m    100\u001b[0m                                                  sample_weight=sample_weight)\n\u001b[1;32m--> 101\u001b[1;33m                 \u001b[1;32mfor\u001b[0m \u001b[0mclf\u001b[0m \u001b[1;32min\u001b[0m \u001b[0mclfs\u001b[0m \u001b[1;32mif\u001b[0m \u001b[0mclf\u001b[0m \u001b[1;32mnot\u001b[0m \u001b[1;32min\u001b[0m \u001b[1;33m(\u001b[0m\u001b[1;32mNone\u001b[0m\u001b[1;33m,\u001b[0m \u001b[1;34m'drop'\u001b[0m\u001b[1;33m)\u001b[0m\u001b[1;33m\u001b[0m\u001b[1;33m\u001b[0m\u001b[0m\n\u001b[0m\u001b[0;32m    102\u001b[0m             )\n\u001b[0;32m    103\u001b[0m \u001b[1;33m\u001b[0m\u001b[0m\n",
      "\u001b[1;32mC:\\Users\\Public\\Anaconda3\\lib\\site-packages\\joblib\\parallel.py\u001b[0m in \u001b[0;36m__call__\u001b[1;34m(self, iterable)\u001b[0m\n\u001b[0;32m    922\u001b[0m                 \u001b[0mself\u001b[0m\u001b[1;33m.\u001b[0m\u001b[0m_iterating\u001b[0m \u001b[1;33m=\u001b[0m \u001b[0mself\u001b[0m\u001b[1;33m.\u001b[0m\u001b[0m_original_iterator\u001b[0m \u001b[1;32mis\u001b[0m \u001b[1;32mnot\u001b[0m \u001b[1;32mNone\u001b[0m\u001b[1;33m\u001b[0m\u001b[1;33m\u001b[0m\u001b[0m\n\u001b[0;32m    923\u001b[0m \u001b[1;33m\u001b[0m\u001b[0m\n\u001b[1;32m--> 924\u001b[1;33m             \u001b[1;32mwhile\u001b[0m \u001b[0mself\u001b[0m\u001b[1;33m.\u001b[0m\u001b[0mdispatch_one_batch\u001b[0m\u001b[1;33m(\u001b[0m\u001b[0miterator\u001b[0m\u001b[1;33m)\u001b[0m\u001b[1;33m:\u001b[0m\u001b[1;33m\u001b[0m\u001b[1;33m\u001b[0m\u001b[0m\n\u001b[0m\u001b[0;32m    925\u001b[0m                 \u001b[1;32mpass\u001b[0m\u001b[1;33m\u001b[0m\u001b[1;33m\u001b[0m\u001b[0m\n\u001b[0;32m    926\u001b[0m \u001b[1;33m\u001b[0m\u001b[0m\n",
      "\u001b[1;32mC:\\Users\\Public\\Anaconda3\\lib\\site-packages\\joblib\\parallel.py\u001b[0m in \u001b[0;36mdispatch_one_batch\u001b[1;34m(self, iterator)\u001b[0m\n\u001b[0;32m    752\u001b[0m             tasks = BatchedCalls(itertools.islice(iterator, batch_size),\n\u001b[0;32m    753\u001b[0m                                  \u001b[0mself\u001b[0m\u001b[1;33m.\u001b[0m\u001b[0m_backend\u001b[0m\u001b[1;33m.\u001b[0m\u001b[0mget_nested_backend\u001b[0m\u001b[1;33m(\u001b[0m\u001b[1;33m)\u001b[0m\u001b[1;33m,\u001b[0m\u001b[1;33m\u001b[0m\u001b[1;33m\u001b[0m\u001b[0m\n\u001b[1;32m--> 754\u001b[1;33m                                  self._pickle_cache)\n\u001b[0m\u001b[0;32m    755\u001b[0m             \u001b[1;32mif\u001b[0m \u001b[0mlen\u001b[0m\u001b[1;33m(\u001b[0m\u001b[0mtasks\u001b[0m\u001b[1;33m)\u001b[0m \u001b[1;33m==\u001b[0m \u001b[1;36m0\u001b[0m\u001b[1;33m:\u001b[0m\u001b[1;33m\u001b[0m\u001b[1;33m\u001b[0m\u001b[0m\n\u001b[0;32m    756\u001b[0m                 \u001b[1;31m# No more tasks available in the iterator: tell caller to stop.\u001b[0m\u001b[1;33m\u001b[0m\u001b[1;33m\u001b[0m\u001b[1;33m\u001b[0m\u001b[0m\n",
      "\u001b[1;32mC:\\Users\\Public\\Anaconda3\\lib\\site-packages\\joblib\\parallel.py\u001b[0m in \u001b[0;36m__init__\u001b[1;34m(self, iterator_slice, backend_and_jobs, pickle_cache)\u001b[0m\n\u001b[0;32m    208\u001b[0m \u001b[1;33m\u001b[0m\u001b[0m\n\u001b[0;32m    209\u001b[0m     \u001b[1;32mdef\u001b[0m \u001b[0m__init__\u001b[0m\u001b[1;33m(\u001b[0m\u001b[0mself\u001b[0m\u001b[1;33m,\u001b[0m \u001b[0miterator_slice\u001b[0m\u001b[1;33m,\u001b[0m \u001b[0mbackend_and_jobs\u001b[0m\u001b[1;33m,\u001b[0m \u001b[0mpickle_cache\u001b[0m\u001b[1;33m=\u001b[0m\u001b[1;32mNone\u001b[0m\u001b[1;33m)\u001b[0m\u001b[1;33m:\u001b[0m\u001b[1;33m\u001b[0m\u001b[1;33m\u001b[0m\u001b[0m\n\u001b[1;32m--> 210\u001b[1;33m         \u001b[0mself\u001b[0m\u001b[1;33m.\u001b[0m\u001b[0mitems\u001b[0m \u001b[1;33m=\u001b[0m \u001b[0mlist\u001b[0m\u001b[1;33m(\u001b[0m\u001b[0miterator_slice\u001b[0m\u001b[1;33m)\u001b[0m\u001b[1;33m\u001b[0m\u001b[1;33m\u001b[0m\u001b[0m\n\u001b[0m\u001b[0;32m    211\u001b[0m         \u001b[0mself\u001b[0m\u001b[1;33m.\u001b[0m\u001b[0m_size\u001b[0m \u001b[1;33m=\u001b[0m \u001b[0mlen\u001b[0m\u001b[1;33m(\u001b[0m\u001b[0mself\u001b[0m\u001b[1;33m.\u001b[0m\u001b[0mitems\u001b[0m\u001b[1;33m)\u001b[0m\u001b[1;33m\u001b[0m\u001b[1;33m\u001b[0m\u001b[0m\n\u001b[0;32m    212\u001b[0m         \u001b[1;32mif\u001b[0m \u001b[0misinstance\u001b[0m\u001b[1;33m(\u001b[0m\u001b[0mbackend_and_jobs\u001b[0m\u001b[1;33m,\u001b[0m \u001b[0mtuple\u001b[0m\u001b[1;33m)\u001b[0m\u001b[1;33m:\u001b[0m\u001b[1;33m\u001b[0m\u001b[1;33m\u001b[0m\u001b[0m\n",
      "\u001b[1;32mC:\\Users\\Public\\Anaconda3\\lib\\site-packages\\sklearn\\ensemble\\voting.py\u001b[0m in \u001b[0;36m<genexpr>\u001b[1;34m(.0)\u001b[0m\n\u001b[0;32m     99\u001b[0m                 delayed(_parallel_fit_estimator)(clone(clf), X, y,\n\u001b[0;32m    100\u001b[0m                                                  sample_weight=sample_weight)\n\u001b[1;32m--> 101\u001b[1;33m                 \u001b[1;32mfor\u001b[0m \u001b[0mclf\u001b[0m \u001b[1;32min\u001b[0m \u001b[0mclfs\u001b[0m \u001b[1;32mif\u001b[0m \u001b[0mclf\u001b[0m \u001b[1;32mnot\u001b[0m \u001b[1;32min\u001b[0m \u001b[1;33m(\u001b[0m\u001b[1;32mNone\u001b[0m\u001b[1;33m,\u001b[0m \u001b[1;34m'drop'\u001b[0m\u001b[1;33m)\u001b[0m\u001b[1;33m\u001b[0m\u001b[1;33m\u001b[0m\u001b[0m\n\u001b[0m\u001b[0;32m    102\u001b[0m             )\n\u001b[0;32m    103\u001b[0m \u001b[1;33m\u001b[0m\u001b[0m\n",
      "\u001b[1;32mC:\\Users\\Public\\Anaconda3\\lib\\site-packages\\sklearn\\base.py\u001b[0m in \u001b[0;36mclone\u001b[1;34m(estimator, safe)\u001b[0m\n\u001b[0;32m     58\u001b[0m                             \u001b[1;34m\"it does not seem to be a scikit-learn estimator \"\u001b[0m\u001b[1;33m\u001b[0m\u001b[1;33m\u001b[0m\u001b[0m\n\u001b[0;32m     59\u001b[0m                             \u001b[1;34m\"as it does not implement a 'get_params' methods.\"\u001b[0m\u001b[1;33m\u001b[0m\u001b[1;33m\u001b[0m\u001b[0m\n\u001b[1;32m---> 60\u001b[1;33m                             % (repr(estimator), type(estimator)))\n\u001b[0m\u001b[0;32m     61\u001b[0m     \u001b[0mklass\u001b[0m \u001b[1;33m=\u001b[0m \u001b[0mestimator\u001b[0m\u001b[1;33m.\u001b[0m\u001b[0m__class__\u001b[0m\u001b[1;33m\u001b[0m\u001b[1;33m\u001b[0m\u001b[0m\n\u001b[0;32m     62\u001b[0m     \u001b[0mnew_object_params\u001b[0m \u001b[1;33m=\u001b[0m \u001b[0mestimator\u001b[0m\u001b[1;33m.\u001b[0m\u001b[0mget_params\u001b[0m\u001b[1;33m(\u001b[0m\u001b[0mdeep\u001b[0m\u001b[1;33m=\u001b[0m\u001b[1;32mFalse\u001b[0m\u001b[1;33m)\u001b[0m\u001b[1;33m\u001b[0m\u001b[1;33m\u001b[0m\u001b[0m\n",
      "\u001b[1;31mTypeError\u001b[0m: Cannot clone object '<nltk.classify.decisiontree.DecisionTreeClassifier object at 0x000002A475151D08>' (type <class 'nltk.classify.decisiontree.DecisionTreeClassifier'>): it does not seem to be a scikit-learn estimator as it does not implement a 'get_params' methods."
     ]
    }
   ],
   "source": [
    "timeDiffTest = pd.DataFrame(index=testSet,columns=[\"timeDiff\"])\n",
    "for x in range(len(userData)):\n",
    "    timeDiff.loc[x,\"timeDiff\"]=userData[x][0]\n",
    "for x in range(len(userDataTest)):\n",
    "    timeDiffTest.loc[x,\"timeDiff\"]=userDataTest[x][0]\n",
    "\n",
    "#classifierUser = tree.DecisionTreeClassifier()\n",
    "#classifierUser = classifierUser.fit(timeDiff, userTrainingLabels.values.ravel())\n",
    "#output=classifierUser.predict(timeDiffTest)\n",
    "#print(metrics.accuracy_score(userTestingLabels, output))\n",
    "from sklearn.ensemble import VotingClassifier\n",
    "ev4 = VotingClassifier(estimators=[('svm',clf),('nb',classifier),('dt',classifier4)],  voting='hard')\n",
    "ev4.fit(timeDiff, userTrainingLabels.values.ravel())\n",
    "output=ev1.predict(timeDiffTest)\n",
    "print(metrics.accuracy_score(userTestingLabels, output))"
   ]
  },
  {
   "cell_type": "code",
   "execution_count": 908,
   "metadata": {},
   "outputs": [
    {
     "name": "stdout",
     "output_type": "stream",
     "text": "0.52\nC:\\Users\\Public\\Anaconda3\\lib\\site-packages\\sklearn\\svm\\base.py:193: FutureWarning: The default value of gamma will change from 'auto' to 'scale' in version 0.22 to account better for unscaled features. Set gamma explicitly to 'auto' or 'scale' to avoid this warning.\n  \"avoid this warning.\", FutureWarning)\n"
    }
   ],
   "source": [
    "statusesTest = pd.DataFrame(index=testSet,columns=[\"statuses\"])\n",
    "for x in range(len(userData)):\n",
    "    statuses.loc[x,\"statuses\"]=userData[x][4]\n",
    "for x in range(len(userDataTest)):\n",
    "    statusesTest.loc[x,\"statuses\"]=userDataTest[x][4]\n",
    "\n",
    "#classifierUser = tree.DecisionTreeClassifier()\n",
    "#classifierUser = classifierUser.fit(statuses, userTrainingLabels.values.ravel())\n",
    "#output=classifierUser.predict(statusesTest)\n",
    "#print(metrics.accuracy_score(userTestingLabels, output))\n",
    "from sklearn.ensemble import VotingClassifier\n",
    "ev1 = VotingClassifier(estimators=[('svm',clf),('nb',classifier),('dt',classifier4)],  voting='hard')\n",
    "ev1.fit(statuses, userTrainingLabels.values.ravel())\n",
    "output=ev1.predict(statusesTest)\n",
    "print(metrics.accuracy_score(userTestingLabels, output))"
   ]
  },
  {
   "cell_type": "code",
   "execution_count": 70,
   "metadata": {},
   "outputs": [
    {
     "name": "stderr",
     "output_type": "stream",
     "text": "C:\\Users\\Public\\Anaconda3\\lib\\site-packages\\sklearn\\svm\\base.py:193: FutureWarning: The default value of gamma will change from 'auto' to 'scale' in version 0.22 to account better for unscaled features. Set gamma explicitly to 'auto' or 'scale' to avoid this warning.\n  \"avoid this warning.\", FutureWarning)\n"
    },
    {
     "ename": "TypeError",
     "evalue": "Cannot clone object '<nltk.classify.decisiontree.DecisionTreeClassifier object at 0x000002A475151D08>' (type <class 'nltk.classify.decisiontree.DecisionTreeClassifier'>): it does not seem to be a scikit-learn estimator as it does not implement a 'get_params' methods.",
     "output_type": "error",
     "traceback": [
      "\u001b[1;31m---------------------------------------------------------------------------\u001b[0m",
      "\u001b[1;31mTypeError\u001b[0m                                 Traceback (most recent call last)",
      "\u001b[1;32m<ipython-input-70-a2701a75dcbd>\u001b[0m in \u001b[0;36m<module>\u001b[1;34m\u001b[0m\n\u001b[0;32m     11\u001b[0m \u001b[1;32mfrom\u001b[0m \u001b[0msklearn\u001b[0m\u001b[1;33m.\u001b[0m\u001b[0mensemble\u001b[0m \u001b[1;32mimport\u001b[0m \u001b[0mVotingClassifier\u001b[0m\u001b[1;33m\u001b[0m\u001b[1;33m\u001b[0m\u001b[0m\n\u001b[0;32m     12\u001b[0m \u001b[0mev1\u001b[0m \u001b[1;33m=\u001b[0m \u001b[0mVotingClassifier\u001b[0m\u001b[1;33m(\u001b[0m\u001b[0mestimators\u001b[0m\u001b[1;33m=\u001b[0m\u001b[1;33m[\u001b[0m\u001b[1;33m(\u001b[0m\u001b[1;34m'svm'\u001b[0m\u001b[1;33m,\u001b[0m\u001b[0mclf\u001b[0m\u001b[1;33m)\u001b[0m\u001b[1;33m,\u001b[0m\u001b[1;33m(\u001b[0m\u001b[1;34m'nb'\u001b[0m\u001b[1;33m,\u001b[0m\u001b[0mclassifier\u001b[0m\u001b[1;33m)\u001b[0m\u001b[1;33m,\u001b[0m\u001b[1;33m(\u001b[0m\u001b[1;34m'dt'\u001b[0m\u001b[1;33m,\u001b[0m\u001b[0mclassifier4\u001b[0m\u001b[1;33m)\u001b[0m\u001b[1;33m]\u001b[0m\u001b[1;33m,\u001b[0m  \u001b[0mvoting\u001b[0m\u001b[1;33m=\u001b[0m\u001b[1;34m'hard'\u001b[0m\u001b[1;33m)\u001b[0m\u001b[1;33m\u001b[0m\u001b[1;33m\u001b[0m\u001b[0m\n\u001b[1;32m---> 13\u001b[1;33m \u001b[0mev1\u001b[0m\u001b[1;33m.\u001b[0m\u001b[0mfit\u001b[0m\u001b[1;33m(\u001b[0m\u001b[0mfav\u001b[0m\u001b[1;33m,\u001b[0m \u001b[0muserTrainingLabels\u001b[0m\u001b[1;33m.\u001b[0m\u001b[0mvalues\u001b[0m\u001b[1;33m.\u001b[0m\u001b[0mravel\u001b[0m\u001b[1;33m(\u001b[0m\u001b[1;33m)\u001b[0m\u001b[1;33m)\u001b[0m\u001b[1;33m\u001b[0m\u001b[1;33m\u001b[0m\u001b[0m\n\u001b[0m\u001b[0;32m     14\u001b[0m \u001b[0moutput\u001b[0m\u001b[1;33m=\u001b[0m\u001b[0mev1\u001b[0m\u001b[1;33m.\u001b[0m\u001b[0mpredict\u001b[0m\u001b[1;33m(\u001b[0m\u001b[0mfavTest\u001b[0m\u001b[1;33m)\u001b[0m\u001b[1;33m\u001b[0m\u001b[1;33m\u001b[0m\u001b[0m\n\u001b[0;32m     15\u001b[0m \u001b[0mprint\u001b[0m\u001b[1;33m(\u001b[0m\u001b[0mmetrics\u001b[0m\u001b[1;33m.\u001b[0m\u001b[0maccuracy_score\u001b[0m\u001b[1;33m(\u001b[0m\u001b[0muserTestingLabels\u001b[0m\u001b[1;33m,\u001b[0m \u001b[0moutput\u001b[0m\u001b[1;33m)\u001b[0m\u001b[1;33m)\u001b[0m\u001b[1;33m\u001b[0m\u001b[1;33m\u001b[0m\u001b[0m\n",
      "\u001b[1;32mC:\\Users\\Public\\Anaconda3\\lib\\site-packages\\sklearn\\ensemble\\voting.py\u001b[0m in \u001b[0;36mfit\u001b[1;34m(self, X, y, sample_weight)\u001b[0m\n\u001b[0;32m    277\u001b[0m         \u001b[0mtransformed_y\u001b[0m \u001b[1;33m=\u001b[0m \u001b[0mself\u001b[0m\u001b[1;33m.\u001b[0m\u001b[0mle_\u001b[0m\u001b[1;33m.\u001b[0m\u001b[0mtransform\u001b[0m\u001b[1;33m(\u001b[0m\u001b[0my\u001b[0m\u001b[1;33m)\u001b[0m\u001b[1;33m\u001b[0m\u001b[1;33m\u001b[0m\u001b[0m\n\u001b[0;32m    278\u001b[0m \u001b[1;33m\u001b[0m\u001b[0m\n\u001b[1;32m--> 279\u001b[1;33m         \u001b[1;32mreturn\u001b[0m \u001b[0msuper\u001b[0m\u001b[1;33m(\u001b[0m\u001b[1;33m)\u001b[0m\u001b[1;33m.\u001b[0m\u001b[0mfit\u001b[0m\u001b[1;33m(\u001b[0m\u001b[0mX\u001b[0m\u001b[1;33m,\u001b[0m \u001b[0mtransformed_y\u001b[0m\u001b[1;33m,\u001b[0m \u001b[0msample_weight\u001b[0m\u001b[1;33m)\u001b[0m\u001b[1;33m\u001b[0m\u001b[1;33m\u001b[0m\u001b[0m\n\u001b[0m\u001b[0;32m    280\u001b[0m \u001b[1;33m\u001b[0m\u001b[0m\n\u001b[0;32m    281\u001b[0m     \u001b[1;32mdef\u001b[0m \u001b[0mpredict\u001b[0m\u001b[1;33m(\u001b[0m\u001b[0mself\u001b[0m\u001b[1;33m,\u001b[0m \u001b[0mX\u001b[0m\u001b[1;33m)\u001b[0m\u001b[1;33m:\u001b[0m\u001b[1;33m\u001b[0m\u001b[1;33m\u001b[0m\u001b[0m\n",
      "\u001b[1;32mC:\\Users\\Public\\Anaconda3\\lib\\site-packages\\sklearn\\ensemble\\voting.py\u001b[0m in \u001b[0;36mfit\u001b[1;34m(self, X, y, sample_weight)\u001b[0m\n\u001b[0;32m     99\u001b[0m                 delayed(_parallel_fit_estimator)(clone(clf), X, y,\n\u001b[0;32m    100\u001b[0m                                                  sample_weight=sample_weight)\n\u001b[1;32m--> 101\u001b[1;33m                 \u001b[1;32mfor\u001b[0m \u001b[0mclf\u001b[0m \u001b[1;32min\u001b[0m \u001b[0mclfs\u001b[0m \u001b[1;32mif\u001b[0m \u001b[0mclf\u001b[0m \u001b[1;32mnot\u001b[0m \u001b[1;32min\u001b[0m \u001b[1;33m(\u001b[0m\u001b[1;32mNone\u001b[0m\u001b[1;33m,\u001b[0m \u001b[1;34m'drop'\u001b[0m\u001b[1;33m)\u001b[0m\u001b[1;33m\u001b[0m\u001b[1;33m\u001b[0m\u001b[0m\n\u001b[0m\u001b[0;32m    102\u001b[0m             )\n\u001b[0;32m    103\u001b[0m \u001b[1;33m\u001b[0m\u001b[0m\n",
      "\u001b[1;32mC:\\Users\\Public\\Anaconda3\\lib\\site-packages\\joblib\\parallel.py\u001b[0m in \u001b[0;36m__call__\u001b[1;34m(self, iterable)\u001b[0m\n\u001b[0;32m    922\u001b[0m                 \u001b[0mself\u001b[0m\u001b[1;33m.\u001b[0m\u001b[0m_iterating\u001b[0m \u001b[1;33m=\u001b[0m \u001b[0mself\u001b[0m\u001b[1;33m.\u001b[0m\u001b[0m_original_iterator\u001b[0m \u001b[1;32mis\u001b[0m \u001b[1;32mnot\u001b[0m \u001b[1;32mNone\u001b[0m\u001b[1;33m\u001b[0m\u001b[1;33m\u001b[0m\u001b[0m\n\u001b[0;32m    923\u001b[0m \u001b[1;33m\u001b[0m\u001b[0m\n\u001b[1;32m--> 924\u001b[1;33m             \u001b[1;32mwhile\u001b[0m \u001b[0mself\u001b[0m\u001b[1;33m.\u001b[0m\u001b[0mdispatch_one_batch\u001b[0m\u001b[1;33m(\u001b[0m\u001b[0miterator\u001b[0m\u001b[1;33m)\u001b[0m\u001b[1;33m:\u001b[0m\u001b[1;33m\u001b[0m\u001b[1;33m\u001b[0m\u001b[0m\n\u001b[0m\u001b[0;32m    925\u001b[0m                 \u001b[1;32mpass\u001b[0m\u001b[1;33m\u001b[0m\u001b[1;33m\u001b[0m\u001b[0m\n\u001b[0;32m    926\u001b[0m \u001b[1;33m\u001b[0m\u001b[0m\n",
      "\u001b[1;32mC:\\Users\\Public\\Anaconda3\\lib\\site-packages\\joblib\\parallel.py\u001b[0m in \u001b[0;36mdispatch_one_batch\u001b[1;34m(self, iterator)\u001b[0m\n\u001b[0;32m    752\u001b[0m             tasks = BatchedCalls(itertools.islice(iterator, batch_size),\n\u001b[0;32m    753\u001b[0m                                  \u001b[0mself\u001b[0m\u001b[1;33m.\u001b[0m\u001b[0m_backend\u001b[0m\u001b[1;33m.\u001b[0m\u001b[0mget_nested_backend\u001b[0m\u001b[1;33m(\u001b[0m\u001b[1;33m)\u001b[0m\u001b[1;33m,\u001b[0m\u001b[1;33m\u001b[0m\u001b[1;33m\u001b[0m\u001b[0m\n\u001b[1;32m--> 754\u001b[1;33m                                  self._pickle_cache)\n\u001b[0m\u001b[0;32m    755\u001b[0m             \u001b[1;32mif\u001b[0m \u001b[0mlen\u001b[0m\u001b[1;33m(\u001b[0m\u001b[0mtasks\u001b[0m\u001b[1;33m)\u001b[0m \u001b[1;33m==\u001b[0m \u001b[1;36m0\u001b[0m\u001b[1;33m:\u001b[0m\u001b[1;33m\u001b[0m\u001b[1;33m\u001b[0m\u001b[0m\n\u001b[0;32m    756\u001b[0m                 \u001b[1;31m# No more tasks available in the iterator: tell caller to stop.\u001b[0m\u001b[1;33m\u001b[0m\u001b[1;33m\u001b[0m\u001b[1;33m\u001b[0m\u001b[0m\n",
      "\u001b[1;32mC:\\Users\\Public\\Anaconda3\\lib\\site-packages\\joblib\\parallel.py\u001b[0m in \u001b[0;36m__init__\u001b[1;34m(self, iterator_slice, backend_and_jobs, pickle_cache)\u001b[0m\n\u001b[0;32m    208\u001b[0m \u001b[1;33m\u001b[0m\u001b[0m\n\u001b[0;32m    209\u001b[0m     \u001b[1;32mdef\u001b[0m \u001b[0m__init__\u001b[0m\u001b[1;33m(\u001b[0m\u001b[0mself\u001b[0m\u001b[1;33m,\u001b[0m \u001b[0miterator_slice\u001b[0m\u001b[1;33m,\u001b[0m \u001b[0mbackend_and_jobs\u001b[0m\u001b[1;33m,\u001b[0m \u001b[0mpickle_cache\u001b[0m\u001b[1;33m=\u001b[0m\u001b[1;32mNone\u001b[0m\u001b[1;33m)\u001b[0m\u001b[1;33m:\u001b[0m\u001b[1;33m\u001b[0m\u001b[1;33m\u001b[0m\u001b[0m\n\u001b[1;32m--> 210\u001b[1;33m         \u001b[0mself\u001b[0m\u001b[1;33m.\u001b[0m\u001b[0mitems\u001b[0m \u001b[1;33m=\u001b[0m \u001b[0mlist\u001b[0m\u001b[1;33m(\u001b[0m\u001b[0miterator_slice\u001b[0m\u001b[1;33m)\u001b[0m\u001b[1;33m\u001b[0m\u001b[1;33m\u001b[0m\u001b[0m\n\u001b[0m\u001b[0;32m    211\u001b[0m         \u001b[0mself\u001b[0m\u001b[1;33m.\u001b[0m\u001b[0m_size\u001b[0m \u001b[1;33m=\u001b[0m \u001b[0mlen\u001b[0m\u001b[1;33m(\u001b[0m\u001b[0mself\u001b[0m\u001b[1;33m.\u001b[0m\u001b[0mitems\u001b[0m\u001b[1;33m)\u001b[0m\u001b[1;33m\u001b[0m\u001b[1;33m\u001b[0m\u001b[0m\n\u001b[0;32m    212\u001b[0m         \u001b[1;32mif\u001b[0m \u001b[0misinstance\u001b[0m\u001b[1;33m(\u001b[0m\u001b[0mbackend_and_jobs\u001b[0m\u001b[1;33m,\u001b[0m \u001b[0mtuple\u001b[0m\u001b[1;33m)\u001b[0m\u001b[1;33m:\u001b[0m\u001b[1;33m\u001b[0m\u001b[1;33m\u001b[0m\u001b[0m\n",
      "\u001b[1;32mC:\\Users\\Public\\Anaconda3\\lib\\site-packages\\sklearn\\ensemble\\voting.py\u001b[0m in \u001b[0;36m<genexpr>\u001b[1;34m(.0)\u001b[0m\n\u001b[0;32m     99\u001b[0m                 delayed(_parallel_fit_estimator)(clone(clf), X, y,\n\u001b[0;32m    100\u001b[0m                                                  sample_weight=sample_weight)\n\u001b[1;32m--> 101\u001b[1;33m                 \u001b[1;32mfor\u001b[0m \u001b[0mclf\u001b[0m \u001b[1;32min\u001b[0m \u001b[0mclfs\u001b[0m \u001b[1;32mif\u001b[0m \u001b[0mclf\u001b[0m \u001b[1;32mnot\u001b[0m \u001b[1;32min\u001b[0m \u001b[1;33m(\u001b[0m\u001b[1;32mNone\u001b[0m\u001b[1;33m,\u001b[0m \u001b[1;34m'drop'\u001b[0m\u001b[1;33m)\u001b[0m\u001b[1;33m\u001b[0m\u001b[1;33m\u001b[0m\u001b[0m\n\u001b[0m\u001b[0;32m    102\u001b[0m             )\n\u001b[0;32m    103\u001b[0m \u001b[1;33m\u001b[0m\u001b[0m\n",
      "\u001b[1;32mC:\\Users\\Public\\Anaconda3\\lib\\site-packages\\sklearn\\base.py\u001b[0m in \u001b[0;36mclone\u001b[1;34m(estimator, safe)\u001b[0m\n\u001b[0;32m     58\u001b[0m                             \u001b[1;34m\"it does not seem to be a scikit-learn estimator \"\u001b[0m\u001b[1;33m\u001b[0m\u001b[1;33m\u001b[0m\u001b[0m\n\u001b[0;32m     59\u001b[0m                             \u001b[1;34m\"as it does not implement a 'get_params' methods.\"\u001b[0m\u001b[1;33m\u001b[0m\u001b[1;33m\u001b[0m\u001b[0m\n\u001b[1;32m---> 60\u001b[1;33m                             % (repr(estimator), type(estimator)))\n\u001b[0m\u001b[0;32m     61\u001b[0m     \u001b[0mklass\u001b[0m \u001b[1;33m=\u001b[0m \u001b[0mestimator\u001b[0m\u001b[1;33m.\u001b[0m\u001b[0m__class__\u001b[0m\u001b[1;33m\u001b[0m\u001b[1;33m\u001b[0m\u001b[0m\n\u001b[0;32m     62\u001b[0m     \u001b[0mnew_object_params\u001b[0m \u001b[1;33m=\u001b[0m \u001b[0mestimator\u001b[0m\u001b[1;33m.\u001b[0m\u001b[0mget_params\u001b[0m\u001b[1;33m(\u001b[0m\u001b[0mdeep\u001b[0m\u001b[1;33m=\u001b[0m\u001b[1;32mFalse\u001b[0m\u001b[1;33m)\u001b[0m\u001b[1;33m\u001b[0m\u001b[1;33m\u001b[0m\u001b[0m\n",
      "\u001b[1;31mTypeError\u001b[0m: Cannot clone object '<nltk.classify.decisiontree.DecisionTreeClassifier object at 0x000002A475151D08>' (type <class 'nltk.classify.decisiontree.DecisionTreeClassifier'>): it does not seem to be a scikit-learn estimator as it does not implement a 'get_params' methods."
     ]
    }
   ],
   "source": [
    "favTest = pd.DataFrame(index=testSet,columns=[\"fav\"])\n",
    "for x in range(len(userData)):\n",
    "    fav.loc[x,\"fav\"]=userData[x][1]\n",
    "for x in range(len(userDataTest)):\n",
    "    favTest.loc[x,\"fav\"]=userDataTest[x][1]\n",
    "\n",
    "#classifierUser = tree.DecisionTreeClassifier()\n",
    "#classifierUser = classifierUser.fit(fav, userTrainingLabels.values.ravel())\n",
    "#output=classifierUser.predict(favTest)\n",
    "#print(metrics.accuracy_score(userTestingLabels, output))\n",
    "from sklearn.ensemble import VotingClassifier\n",
    "ev1 = VotingClassifier(estimators=[('svm',clf),('nb',classifier),('dt',classifier4)],  voting='hard')\n",
    "ev1.fit(fav, userTrainingLabels.values.ravel())\n",
    "output=ev1.predict(favTest)\n",
    "print(metrics.accuracy_score(userTestingLabels, output))"
   ]
  },
  {
   "cell_type": "code",
   "execution_count": 910,
   "metadata": {},
   "outputs": [
    {
     "name": "stdout",
     "output_type": "stream",
     "text": "0.52\nC:\\Users\\Public\\Anaconda3\\lib\\site-packages\\sklearn\\svm\\base.py:193: FutureWarning: The default value of gamma will change from 'auto' to 'scale' in version 0.22 to account better for unscaled features. Set gamma explicitly to 'auto' or 'scale' to avoid this warning.\n  \"avoid this warning.\", FutureWarning)\n"
    }
   ],
   "source": [
    "statusTimeRatio = pd.DataFrame(index=trainSet,columns=[\"statusTime\"])\n",
    "statusTimeRatioTest = pd.DataFrame(index=testSet,columns=[\"statusTime\"])\n",
    "for x in range(len(userData)):\n",
    "    statusTimeRatio.loc[x,\"statusTime\"]=userData[x][4]/userData[x][0]\n",
    "for x in range(len(userDataTest)):\n",
    "    statusTimeRatioTest.loc[x,\"statusTime\"]=userDataTest[x][4]/userData[x][0]\n",
    "\n",
    "#classifierUser = tree.DecisionTreeClassifier()\n",
    "#classifierUser = classifierUser.fit(statusTimeRatio, userTrainingLabels.values.ravel())\n",
    "#output=classifierUser.predict(statusTimeRatioTest)\n",
    "#print(metrics.accuracy_score(userTestingLabels, output))\n",
    "from sklearn.ensemble import VotingClassifier\n",
    "ev1 = VotingClassifier(estimators=[('svm',clf),('nb',classifier),('dt',classifier4)],  voting='hard')\n",
    "ev1.fit(statusTimeRatio, userTrainingLabels.values.ravel())\n",
    "output=ev1.predict(statusTimeRatioTest)\n",
    "print(metrics.accuracy_score(userTestingLabels, output))"
   ]
  },
  {
   "cell_type": "code",
   "execution_count": 71,
   "metadata": {},
   "outputs": [],
   "source": [
    "trainingDataUser = pd.DataFrame(index=trainSet,columns=[\"timeDiff\",\"friends\",\"statuses\",\"ffratio\",\"statusTime\"])"
   ]
  },
  {
   "cell_type": "code",
   "execution_count": 72,
   "metadata": {},
   "outputs": [],
   "source": [
    "for x in range(len(userData)):\n",
    "    trainingDataUser.loc[x,\"timeDiff\"]=userData[x][0]\n",
    "    #trainingDataUser.loc[x,\"favorite\"]=userData[x][1]\n",
    "    #trainingDataUser.loc[x,\"followers\"]=userData[x][2]\n",
    "    trainingDataUser.loc[x,\"friends\"]=userData[x][3]\n",
    "    trainingDataUser.loc[x,\"statuses\"]=userData[x][4]\n",
    "    trainingDataUser.loc[x,\"ffratio\"]=userData[x][2]/userData[x][3]\n",
    "    trainingDataUser.loc[x,\"statusTime\"]=userData[x][4]/userData[x][0]"
   ]
  },
  {
   "cell_type": "code",
   "execution_count": 913,
   "metadata": {},
   "outputs": [],
   "source": [
    "testingDataUser = pd.DataFrame(index=testSet,columns=[\"timeDiff\",\"friends\",\"statuses\",\"ffratio\",\"statusTime\"])"
   ]
  },
  {
   "cell_type": "code",
   "execution_count": 74,
   "metadata": {},
   "outputs": [
    {
     "data": {
      "text/html": "<div>\n<style scoped>\n    .dataframe tbody tr th:only-of-type {\n        vertical-align: middle;\n    }\n\n    .dataframe tbody tr th {\n        vertical-align: top;\n    }\n\n    .dataframe thead th {\n        text-align: right;\n    }\n</style>\n<table border=\"1\" class=\"dataframe\">\n  <thead>\n    <tr style=\"text-align: right;\">\n      <th></th>\n      <th>timeDiff</th>\n      <th>friends</th>\n      <th>statuses</th>\n      <th>ffratio</th>\n      <th>statusTime</th>\n    </tr>\n  </thead>\n  <tbody>\n    <tr>\n      <td>0</td>\n      <td>50902.2</td>\n      <td>337</td>\n      <td>48440</td>\n      <td>384.49</td>\n      <td>0.951629</td>\n    </tr>\n    <tr>\n      <td>1</td>\n      <td>54347.2</td>\n      <td>1763</td>\n      <td>123899</td>\n      <td>551.428</td>\n      <td>2.27977</td>\n    </tr>\n    <tr>\n      <td>2</td>\n      <td>68304.8</td>\n      <td>389</td>\n      <td>74982</td>\n      <td>7788.98</td>\n      <td>1.09776</td>\n    </tr>\n    <tr>\n      <td>3</td>\n      <td>45323.8</td>\n      <td>1083</td>\n      <td>107007</td>\n      <td>2854.53</td>\n      <td>2.36094</td>\n    </tr>\n    <tr>\n      <td>4</td>\n      <td>54347.7</td>\n      <td>1763</td>\n      <td>124096</td>\n      <td>552.02</td>\n      <td>2.28337</td>\n    </tr>\n    <tr>\n      <td>...</td>\n      <td>...</td>\n      <td>...</td>\n      <td>...</td>\n      <td>...</td>\n      <td>...</td>\n    </tr>\n    <tr>\n      <td>267</td>\n      <td>48721.7</td>\n      <td>980</td>\n      <td>13965</td>\n      <td>8.32551</td>\n      <td>0.286628</td>\n    </tr>\n    <tr>\n      <td>268</td>\n      <td>38433.9</td>\n      <td>1644</td>\n      <td>64126</td>\n      <td>15.9738</td>\n      <td>1.66848</td>\n    </tr>\n    <tr>\n      <td>269</td>\n      <td>24849.4</td>\n      <td>1733</td>\n      <td>31867</td>\n      <td>2.48182</td>\n      <td>1.2824</td>\n    </tr>\n    <tr>\n      <td>270</td>\n      <td>26165.9</td>\n      <td>389</td>\n      <td>24891</td>\n      <td>190.319</td>\n      <td>0.951276</td>\n    </tr>\n    <tr>\n      <td>271</td>\n      <td>43455.9</td>\n      <td>623</td>\n      <td>34310</td>\n      <td>144.796</td>\n      <td>0.789536</td>\n    </tr>\n  </tbody>\n</table>\n<p>272 rows × 5 columns</p>\n</div>",
      "text/plain": "    timeDiff friends statuses  ffratio statusTime\n0    50902.2     337    48440   384.49   0.951629\n1    54347.2    1763   123899  551.428    2.27977\n2    68304.8     389    74982  7788.98    1.09776\n3    45323.8    1083   107007  2854.53    2.36094\n4    54347.7    1763   124096   552.02    2.28337\n..       ...     ...      ...      ...        ...\n267  48721.7     980    13965  8.32551   0.286628\n268  38433.9    1644    64126  15.9738    1.66848\n269  24849.4    1733    31867  2.48182     1.2824\n270  26165.9     389    24891  190.319   0.951276\n271  43455.9     623    34310  144.796   0.789536\n\n[272 rows x 5 columns]"
     },
     "execution_count": 74,
     "metadata": {},
     "output_type": "execute_result"
    }
   ],
   "source": [
    "trainingDataUser"
   ]
  },
  {
   "cell_type": "code",
   "execution_count": 75,
   "metadata": {},
   "outputs": [
    {
     "ename": "NameError",
     "evalue": "name 'testingDataUser' is not defined",
     "output_type": "error",
     "traceback": [
      "\u001b[1;31m---------------------------------------------------------------------------\u001b[0m",
      "\u001b[1;31mNameError\u001b[0m                                 Traceback (most recent call last)",
      "\u001b[1;32m<ipython-input-75-895e5194c46c>\u001b[0m in \u001b[0;36m<module>\u001b[1;34m\u001b[0m\n\u001b[0;32m      1\u001b[0m \u001b[1;32mfor\u001b[0m \u001b[0mx\u001b[0m \u001b[1;32min\u001b[0m \u001b[0mrange\u001b[0m\u001b[1;33m(\u001b[0m\u001b[0mlen\u001b[0m\u001b[1;33m(\u001b[0m\u001b[0muserDataTest\u001b[0m\u001b[1;33m)\u001b[0m\u001b[1;33m)\u001b[0m\u001b[1;33m:\u001b[0m\u001b[1;33m\u001b[0m\u001b[1;33m\u001b[0m\u001b[0m\n\u001b[1;32m----> 2\u001b[1;33m     \u001b[0mtestingDataUser\u001b[0m\u001b[1;33m.\u001b[0m\u001b[0mloc\u001b[0m\u001b[1;33m[\u001b[0m\u001b[0mx\u001b[0m\u001b[1;33m,\u001b[0m\u001b[1;34m\"timeDiff\"\u001b[0m\u001b[1;33m]\u001b[0m\u001b[1;33m=\u001b[0m\u001b[0muserDataTest\u001b[0m\u001b[1;33m[\u001b[0m\u001b[0mx\u001b[0m\u001b[1;33m]\u001b[0m\u001b[1;33m[\u001b[0m\u001b[1;36m0\u001b[0m\u001b[1;33m]\u001b[0m\u001b[1;33m\u001b[0m\u001b[1;33m\u001b[0m\u001b[0m\n\u001b[0m\u001b[0;32m      3\u001b[0m     \u001b[0mtestingDataUser\u001b[0m\u001b[1;33m.\u001b[0m\u001b[0mloc\u001b[0m\u001b[1;33m[\u001b[0m\u001b[0mx\u001b[0m\u001b[1;33m,\u001b[0m\u001b[1;34m\"favorite\"\u001b[0m\u001b[1;33m]\u001b[0m\u001b[1;33m=\u001b[0m\u001b[0muserDataTest\u001b[0m\u001b[1;33m[\u001b[0m\u001b[0mx\u001b[0m\u001b[1;33m]\u001b[0m\u001b[1;33m[\u001b[0m\u001b[1;36m1\u001b[0m\u001b[1;33m]\u001b[0m\u001b[1;33m\u001b[0m\u001b[1;33m\u001b[0m\u001b[0m\n\u001b[0;32m      4\u001b[0m     \u001b[0mtestingDataUser\u001b[0m\u001b[1;33m.\u001b[0m\u001b[0mloc\u001b[0m\u001b[1;33m[\u001b[0m\u001b[0mx\u001b[0m\u001b[1;33m,\u001b[0m\u001b[1;34m\"followers\"\u001b[0m\u001b[1;33m]\u001b[0m\u001b[1;33m=\u001b[0m\u001b[0muserDataTest\u001b[0m\u001b[1;33m[\u001b[0m\u001b[0mx\u001b[0m\u001b[1;33m]\u001b[0m\u001b[1;33m[\u001b[0m\u001b[1;36m2\u001b[0m\u001b[1;33m]\u001b[0m\u001b[1;33m\u001b[0m\u001b[1;33m\u001b[0m\u001b[0m\n\u001b[0;32m      5\u001b[0m     \u001b[0mtestingDataUser\u001b[0m\u001b[1;33m.\u001b[0m\u001b[0mloc\u001b[0m\u001b[1;33m[\u001b[0m\u001b[0mx\u001b[0m\u001b[1;33m,\u001b[0m\u001b[1;34m\"friends\"\u001b[0m\u001b[1;33m]\u001b[0m\u001b[1;33m=\u001b[0m\u001b[0muserDataTest\u001b[0m\u001b[1;33m[\u001b[0m\u001b[0mx\u001b[0m\u001b[1;33m]\u001b[0m\u001b[1;33m[\u001b[0m\u001b[1;36m3\u001b[0m\u001b[1;33m]\u001b[0m\u001b[1;33m\u001b[0m\u001b[1;33m\u001b[0m\u001b[0m\n",
      "\u001b[1;31mNameError\u001b[0m: name 'testingDataUser' is not defined"
     ]
    }
   ],
   "source": [
    "for x in range(len(userDataTest)):\n",
    "    testingDataUser.loc[x,\"timeDiff\"]=userDataTest[x][0]\n",
    "    testingDataUser.loc[x,\"favorite\"]=userDataTest[x][1]\n",
    "    testingDataUser.loc[x,\"followers\"]=userDataTest[x][2]\n",
    "    testingDataUser.loc[x,\"friends\"]=userDataTest[x][3]\n",
    "    testingDataUser.loc[x,\"statuses\"]=userDataTest[x][4]\n",
    "    testingDataUser.loc[x,\"ffratio\"]=userDataTest[x][2]/userDataTest[x][3]\n",
    "    testingDataUser.loc[x,\"statusTime\"]=userDataTest[x][4]/userDataTest[x][0]\n",
    "testingDataUser=testingDataUser.iloc[:,0:5]\n"
   ]
  },
  {
   "cell_type": "code",
   "execution_count": 915,
   "metadata": {},
   "outputs": [
    {
     "name": "stdout",
     "output_type": "stream",
     "text": "0.56\nC:\\Users\\Public\\Anaconda3\\lib\\site-packages\\sklearn\\svm\\base.py:193: FutureWarning: The default value of gamma will change from 'auto' to 'scale' in version 0.22 to account better for unscaled features. Set gamma explicitly to 'auto' or 'scale' to avoid this warning.\n  \"avoid this warning.\", FutureWarning)\n"
    }
   ],
   "source": [
    "#classifierUser = tree.DecisionTreeClassifier()\n",
    "#classifierUser = classifierUser.fit(trainingDataUser, userTrainingLabels.values.ravel())\n",
    "#output=classifierUser.predict(testingDataUser)\n",
    "#print(metrics.accuracy_score(userTestingLabels, output))\n",
    "\n",
    "from sklearn.ensemble import VotingClassifier\n",
    "ev1 = VotingClassifier(estimators=[('svm',clf),('nb',classifier),('dt',classifier4)],  voting='hard')\n",
    "ev1.fit(trainingDataUser, userTrainingLabels.values.ravel())\n",
    "output=ev1.predict(testingDataUser)\n",
    "print(metrics.accuracy_score(userTestingLabels, output))"
   ]
  },
  {
   "cell_type": "code",
   "execution_count": null,
   "metadata": {},
   "outputs": [],
   "source": []
  },
  {
   "cell_type": "code",
   "execution_count": null,
   "metadata": {},
   "outputs": [],
   "source": []
  },
  {
   "cell_type": "code",
   "execution_count": 916,
   "metadata": {},
   "outputs": [
    {
     "data": {
      "text/plain": ",\n  20006387,\n  112,\n  35627,\n  'true',\n  'Senior U.S. official: Canadian government has informed U.S. that one shooter is dead in Ottawa. Live blog:'),\n (16850.33777777778,\n  30,\n  570,\n  479,\n  1408,\n  'true',\n  '#BREAKING Rick Hughes at CBC Hamilton: \\n\\nThe soldier who was shot in Ottawa Wednesday morning is a reservist serving in Hamilton'),\n (50539.71444444444,\n  118,\n  366219,\n  264,\n  25596,\n  'false',\n  '#Ottawa police confirm to #CBCNews they are still seeking 1 or more suspects after shootings on Parliament Hill, War Memorial, nearby mall.'),\n (37149.79777777778,\n  68,\n  2050,\n  424,\n  1621,\n  'true',\n  'Hero. @affanchowdhry: Kevin Vickers, head of security in parliament, being credited for taking down shooter #Ottawa\"'),\n (45562.686944444446,\n  23,\n  789414,\n  437,\n  96932,\n  'true',\n  'BREAKING UPDATE: Canadian soldier injured at Parliament Hill shooting dies  #Ottawa'),\n (50244.11444444444,\n  247,\n  640037,\n  367,\n  83196,\n  'true',\n  'MPs credit sergeant-at-arms for saving lives in Parliament Hill shootings\\nhttp://t.co/3NfiSwTwPt'),\n (48716.71638888889,\n  56,\n  29424,\n  342,\n  41522,\n  'true',\n  \"Canada's parliament building locked down after shooting; at least one guard injured: Photo: AP\"),\n (50748.045,\n  20,\n  4313,\n  1597,\n  10574,\n  'true',\n  'Statement from Ottawa Hospital: received 3 patients. 2 in stable condition.'),\n (50540.42694444444,\n  127,\n  361288,\n  263,\n  25519,\n  'true',\n  \"#NHL cancels tonight's game between #Ottawa and #Toronto due to today's shootings. Senators were to host Maple Leafs.\"),\n (50540.76055555556,\n  65,\n  361729,\n  263,\n  25520,\n  'true',\n  '#RCMP to hold news conference on #Ottawa shootings at 2 pm ET, 11 am PT. Watch live coverage @'),\n (53470.90861111111,\n  35,\n  18002,\n  8830,\n  40107,\n  'true',\n  'Canadian authorities have given name of suspect in Ottawa attacks to U.S. feds; ask for FBI assistance: Sr U.S. law enforcement official'),\n (68416.2,\n  201,\n  20041552,\n  113,\n  35651,\n  'false',\n  'Police now say there were two shooting incidents in Ottawa: one at the war memorial, the other on Parliament Hill.'),\n (35234.62805555556,\n  70,\n  173267,\n  339,\n  50156,\n  'false',\n  'Police have clarified that there were two shootings in Ottawa today, not three: at the War Memorial and Parliament Hill.'),\n (55937.62472222222,\n  28,\n  3366613,\n  396,\n  67443,\n  'false',\n  'MORE: Police believe three gunmen were involved in shootings in Ottawa this morning and are looking for two shooters.'),\n (35234.851111111115,\n  89,\n  173097,\n  339,\n  50142,\n  'true',\n  'FBI assisting in the case of the Ottawa shooting, sources have confirmed to CTV News'),\n (43371.80638888889,\n  94,\n  12444,\n  422,\n  1829,\n  'true',\n  \"This afternoon we've lowered our flags to half mast in honour of the Canadian Reservist who lost his life in Ottawa.\"),\n (45838.307222222225,\n  187,\n  286,\n  553,\n  1033,\n  'false',\n  \"These are not timid colours; soldiers back guarding Tomb of Unknown Soldier after today's shooting #StandforCanada\"),\n (1297.3658333333333,\n  224,\n  2582,\n  394,\n  5537,\n  'true',\n  '#ISIS Media account posts picture claiming to be Michael Zehaf-Bibeau, dead #OttawaShooting suspect. #Canada'),\n (51448.58138888889,\n  58,\n  25178,\n  24027,\n  47088,\n  'true',\n  '#RIPNathanCirillo\\n\\nRT @globeandmail: Soldier killed at war memorial identified as Cpl. Nathan Cirillo #OttawaShooting'),\n (65235.322222222225,\n  36,\n  6540,\n  2454,\n  88483,\n  'true',\n  \"The soldier shot dead in Wednesday's Ottawa attacks has been named as Cpl. Nathan Cirillo of #HamOnt #ottawashooting\"),\n (50247.84055555556,\n  54,\n  638122,\n  367,\n  83111,\n  'true',\n  'BREAKING: A source confirms to CP24 that the deceased soldier in Ottawa is Cpl. Nathan Cirillo. Cirillo was a member of the Hamilton Argylls'),\n (50248.057222222225,\n  54,\n  640090,\n  367,\n  83197,\n  'true',\n  'CTV News confirms that Canadian authorities have provided US authorities with the name Michael Zehaf-Bibeau in connection to Ottawa shooting'),\n (19921.671666666665,\n  19,\n  16916,\n  836,\n  56711,\n  'true',\n  'BREAKING: Michael Zehaf-Bebeau had been designated \"high-risk traveller\" by CDN govt, which confiscated his passport'),\n (45706.94805555556,\n  97,\n  18514,\n  136,\n  19356,\n  'true',\n  'This is the soldier who died today at the #Ottawa War Memorial. His name is Cpl. Nathan Cirillo. #RIP #OttawaStrong'),\n (53415.98972222222,\n  416,\n  672990,\n  262,\n  194240,\n  'true',\n  'Soldier killed in Canada shooting was a young reservist with a six-year-old son'),\n (6258.524166666667,\n  351,\n  1361,\n  24,\n  4,\n  'true',\n  'Our thoughts and prayers go out to Nathan Cirillo who died today in Ottawa while protecting his country at age 24'),\n (68421.28916666667,\n  232,\n  20038478,\n  113,\n  35649,\n  'true',\n  \"The Canadian soldier killed in today's Ottawa shooting is Cpl. Nathan Cirillo, a family source told CNN. Live blog:\"),\n (51601.46472222222,\n  85,\n  5074,\n  1654,\n  1336,\n  'true',\n  '***EXCLUSIVE*** Michael Zahaf-Bibeau caught on a #DASHCAM model sold at #OttawaShooting'),\n (18512.663333333334,\n  7,\n  3664,\n  474,\n  3702,\n  'false',\n  \"PRINCE IN TORONTO TONIGHT:\\n@3RDEYEGIRL tweeted this morning to say OTNOROT CALLING, which is Toronto backwards, obviously.... Seems it's on!\"),\n (21985.2175,\n  7,\n  5018,\n  269,\n  2595,\n  'false',\n  'Prince fans lining up at Massey Hall. Wristbands for surprise show reportedly on sale at 6pm. #Toronto'),\n (35543.51416666667,\n  5,\n  178509,\n  340,\n  50820,\n  'false',\n  'Prince rumoured to be performing in surprise show in Toronto'),\n (40939.47305555556,\n  47,\n  31352,\n  2128,\n  14369,\n  'false',\n  'Prince is playing a secret show in Toronto tonight.  I will also be playing a secret show tonight involving pizza &amp; netflix bingeing.'),\n (47712.00472222222,\n  8,\n  44686,\n  412,\n  2947,\n  'false',\n  'Is it true? Prince rumoured to be performing surprise show in Toronto'),\n (14939.40361111111,\n  5,\n  345,\n  308,\n  9467,\n  'false',\n  'People talking about stupid shit like government corruption and harassment when Prince is in Toronto smh'),\n (14606.555555555555,\n  9,\n  32054,\n  215,\n  21500,\n  'false',\n  'OMG. #Prince rumoured to be performing in Toronto today. Exciting!'),\n (310.35083333333336,\n  4,\n  25,\n  167,\n  45,\n  'false',\n  'Clearly prince is having a show in #toronto @TorontoComms #tdot #gta #prince #concert'),\n (61605.69527777778,\n  37,\n  2064668,\n  3625,\n  62655,\n  'false',\n  'Secret Prince show rumored for Toronto tonight'),\n (50042.80861111111,\n  1,\n  59597,\n  224,\n  46606,\n  'false',\n  'Is #Prince in #Toronto? Rumours fly of surprise show... @masseyhall'),\n (50061.55,\n  49,\n  35131,\n  8780,\n  16742,\n  'false',\n  'In response to inquiries, we can confirm that Prince will not be performing at @masseyhall tonight.'),\n (65175.662777777776,\n  8,\n  665484,\n  1978,\n  92406,\n  'false',\n  'Prince not playing Massey Hall tonight, promoter says'),\n (16922.88388888889,\n  4,\n  1485,\n  972,\n  9717,\n  'true',\n  'Coup in #Russia? Good article by @Forbes. #RamzanKadyrov #Putin #putindead'),\n (36157.924166666664,\n  26,\n  136179,\n  388,\n  74770,\n  'true',\n  'Hoppla! @L0gg0l: Swiss Rumors: Putin absence due to girlfriend Alina giving birth in Ticino'),\n (32251.536666666667,\n  13,\n  46401,\n  2709,\n  16759,\n  'true',\n  'This appears to be the original source of the Putin/Kabayeva/Swiss clinic rumour'),\n (58380.396944444445,\n  20,\n  937430,\n  2351,\n  132617,\n  'true',\n  'Putin reappears on TV amid claims he is unwell and under threat of coup'),\n (55988.57611111111,\n  0,\n  14471,\n  11175,\n  184334,\n  'true',\n  'Coup? RT @jimgeraghty: Rumors all Russian military attaches at embassy in London have returned to Moscow:'),\n (13299.345277777778,\n  2,\n  5011,\n  5103,\n  19002,\n  'false',\n  'Unformed Russian Embassy staff in London have left for Russia  Rumours Putin HAS DIED! via @ShaunyNews #PutinDead?'),\n (26477.016666666666,\n  0,\n  1372,\n  1097,\n  21279,\n  'true',\n  \"Putin reappears on television amid rumours his 'girlfriend' is about 2 give birth @Scofield_Fx\"),\n (53067.166666666664,\n  36,\n  20968,\n  19605,\n  27861,\n  'true',\n  'Very good on #Putin coup by @CoalsonR: Three Scenarios For A Succession In Russia via @RFERL'),\n (16091.308611111112,\n  4,\n  11502,\n  2580,\n  171898,\n  'true',\n  \"Was Vladimir Putin netralized by an internal coup? Or maybe he's vacationing in Harper's closet:  #LookingForNarnia\"),\n (53972.5525,\n  9,\n  150994,\n  85683,\n  114484,\n  'true',\n  \"#BREAKING: Hostages are being held and a siege is taking place at Sydney's Lindt Chocolat Cafe in Martin Place.\"),\n (56685.22416666667,\n  88,\n  170463,\n  4176,\n  104317,\n  'true',\n  \"BREAKING: Live coverage of hostage situation unfolding in Sydney's Martin Place\"),\n (33259.72194444444,\n  20,\n  1672,\n  731,\n  2475,\n  'false',\n  'We understand there are two gunmen and up to a dozen hostages inside the cafe under siege at Sydney.. ISIS flags remain on display #7News'),\n (28398.776388888888,\n  20,\n  110901,\n  3,\n  18356,\n  'true',\n  \"DEVELOPING: Gunman Takes Hostages In Sydney Cafe, 'ISIS' Flags Being Held Against Window -\"),\n (42755.77027777778,\n  35,\n  1148,\n  1164,\n  3313,\n  'true',\n  'Black Islamic flag being held up in window of #lindt chocolate store in Martin Place, Sydney - hostages inside.'),\n (10232.424444444445,\n  51,\n  2115,\n  136,\n  634,\n  'false',\n  'SYDNEY SIEGE: Gunman forces hostages to hold up ISIS flag in window'),\n (68967.87833333333,\n  113,\n  8175508,\n  61,\n  187166,\n  'true',\n  'Several people being held hostage at a Sydney cafe. Australian tv showing people with  hands up against a window:'),\n (53973.107777777775,\n  48,\n  150995,\n  85683,\n  114484,\n  'true',\n  'Flag in window of Sydney Lindt cafe not an ISIS flag. Reads: ‘There is no God but Allah and Muhammad is the messenger of God’ (@liztilley84)'),\n (19080.093333333334,\n  100,\n  171398,\n  537,\n  44833,\n  'false',\n  'ISIS -holding a Cafe hostage in Sydney- forcing Hostages to press ISIS flags against the Windows #DramaAlert HOT!'),\n (28199.25888888889,\n  23,\n  282320,\n  486,\n  63140,\n  'true',\n  '#BREAKING Hostages held inside Sydney cafe, Islamic flag held up'),\n (50798.57444444444,\n  55,\n  63559,\n  1894,\n  12075,\n  'true',\n  'Geoblock lifted on #ABCNews24. Streaming coverage of the Martin Place siege in Sydney here '),\n (53212.31138888889,\n  51,\n  702080,\n  41323,\n  59595,\n  'true',\n  'Hostages in Sydney cafe made to hold up Islamic flags'),\n (31697.565555555557,\n  57,\n  202022,\n  3540,\n  21794,\n  'true',\n  'BREAKING NEWS: Gunmen take hostages at Sydney cafe, wave Islamic flag'),\n (64929.490277777775,\n  49,\n  1732248,\n  17,\n  120335,\n  'true',\n  'Live Updates: Siege in Sydney Cafe'),\n (11017.017777777777,\n  32,\n  15396,\n  753,\n  6398,\n  'true',\n  'Sydney Opera House evacuated, concourse deserted #SydneySiege (via @cberkman)'),\n (53784.521944444445,\n  24,\n  937955,\n  1766,\n  115376,\n  'false',\n  'Up to 20 held hostage in Sydney Lindt Cafe siege'),\n (46004.4,\n  45,\n  19266,\n  679,\n  12209,\n  'true',\n  'Statement from Prime Minister Tony Abbott on Sydney hostage situation.'),\n (50346.53138888889,\n  29,\n  79481,\n  2577,\n  96392,\n  'true',\n  'Full statement from PM Abbott on #Sydneysiege #MartinPlace #Lindt.'),\n (62640.654444444444,\n  32,\n  230663,\n  395,\n  55191,\n  'true',\n  \"Prime Minister Tony Abbott's statement on the #SydneySiege. Updates:\"),\n (67554.26416666666,\n  47,\n  5446500,\n  968,\n  102069,\n  'true',\n  'Central Sydney shut down by police amid ongoing hostage situation:'),\n (26692.928055555556,\n  67,\n  101550,\n  308,\n  8302,\n  'true',\n  'FIRST PHOTOS: Hostage pressed against a window. #SydneySiege'),\n (47849.97888888889,\n  20,\n  10813,\n  1661,\n  4963,\n  'true',\n  'According to Seven, this is a picture of the gunman'),\n (26692.949444444443,\n  30,\n  101553,\n  308,\n  8302,\n  'false',\n  'BREAKING ALERT: Preliminary reports indicate perpetrators appear to be members of #ISIS. #SydneySiege'),\n (26692.985277777778,\n  43,\n  101549,\n  308,\n  8302,\n  'false',\n  'UPDATE: 13 hostages inside Sydney coffee shop near Sydney Opera House; Abbott will deliver a statement shortly. #ISISAttacks #sydneyseige'),\n (46842.653333333335,\n  27,\n  824505,\n  460,\n  102590,\n  'false',\n  'DETAILS: The hostage site is Lindt Chocolat Cafe near #Sydney Harbor'),\n (67902.10333333333,\n  106,\n  4636605,\n  382,\n  188586,\n  'false',\n  'UPDATE: 13 people being held hostage in #Sydney shop, Opera House evacuated after suspicious package found: reports'),\n (31698.838888888888,\n  66,\n  202003,\n  3540,\n  21791,\n  'true',\n  'BREAKING UPDATE: Gunman says four devices are located around Sydney. Security response underway. Police calling for calm. 9News'),\n (10234.610277777778,\n  18,\n  2051,\n  136,\n  628,\n  'true',\n  'A man believed to be the gunman filmed wearing a black headband inside the cafe'),\n (28201.074166666665,\n  22,\n  282186,\n  486,\n  63127,\n  'false',\n  \"Police stand guard as hostages are held in a cafe in Sydney. Follow AFP's LIVE REPORT:\"),\n (51820.64833333333,\n  38,\n  402366,\n  264,\n  27836,\n  'false',\n  \"#pmharper tweets 'Canada's thoughts and prayers are with our Australian friends.' 13-40 hostages held in cafe in #Sydney. #SydneySiege\"),\n (58287.78361111111,\n  69,\n  34994,\n  250,\n  20351,\n  'true',\n  'US evacuated Consulate in Sydney after #sydneysiege. Emergency warning to U.S. citizens urging them to \"maintain high level of vigilance\".'),\n (46843.68138888889,\n  91,\n  824767,\n  460,\n  102611,\n  'false',\n  'Approximately 50 hostages may be held captive at #Lindt café – local reports #sydneysiege'),\n (39408.90861111111,\n  55,\n  42339,\n  397,\n  29395,\n  'false',\n  'The Sydney cafe siege may be part of a larger plot. @Y7News #MartinPlaceSiege'),\n (68040.75555555556,\n  76,\n  4814814,\n  2778,\n  124249,\n  'true',\n  'Uber intros surge pricing in downtown Sydney during hostage siege'),\n (50254.53833333333,\n  58,\n  15056,\n  389,\n  670,\n  'true',\n  'Ray Hadley says he spoke with hostage, and could hear the gunman in the background barking orders and demanding to go live on air'),\n (47932.77861111111,\n  45,\n  4449631,\n  7357,\n  96016,\n  'true',\n  'Hostage situation erupts in Sydney cafe, Australian prime minister says it may be \"politically motivated\"'),\n (68041.43166666667,\n  33,\n  4814829,\n  2778,\n  124250,\n  'true',\n  'Uber says it has hiked prices in Sydney to \"encourage more drivers to come online &amp; pick up passengers.\" #SydneySiege'),\n (46844.980833333335,\n  142,\n  824828,\n  460,\n  102619,\n  'true',\n  '#SYDNEYSIEGE: Hostage-takers ‘have suicide belts, demand radio convo with #Abbott’ – report'),\n (24483.235555555555,\n  178,\n  5051,\n  675,\n  2935,\n  'true',\n  'Uber Sydney trips from CBD will be free for riders. Higher rates are still in place to encourage drivers to get into the CBD.'),\n (20911.979722222222,\n  20,\n  253,\n  159,\n  283,\n  'true',\n  'Gunman\\'s headband reads, \"We are your soldiers O Muhammad\".\\n#MartinPlace #SydneySiege'),\n (50330.80138888889,\n  49,\n  16012,\n  1437,\n  12370,\n  'true',\n  'We can see people coming out a firedoor near the Lindt cafe to waiting police. 2-3 people. Hard to see. #sydneysiege'),\n (63097.93861111111,\n  60,\n  72203,\n  8674,\n  133120,\n  'true',\n  '#BREAKING Reports two customers and an employee have escaped the #SydneySiege'),\n (66533.65916666666,\n  70,\n  7125070,\n  505,\n  88637,\n  'true',\n  'Local media: 3 people appear to escape from Martin Place, Sydney, café, amid hostage situation - @ABCNews'),\n (67746.35222222222,\n  56,\n  2926713,\n  385,\n  74286,\n  'true',\n  'BREAKING: Three hostages appear to have escaped the Sydney cafe where a siege remains ongoing. #sydneyseige'),\n (49936.482777777775,\n  24,\n  3775576,\n  860,\n  99519,\n  'true',\n  'Police: Negotiators are now in contact with armed hostage-taker in Sydney situation; motive remains unknown -'),\n (67906.72361111111,\n  76,\n  4637065,\n  382,\n  188597,\n  'true',\n  'MORE: Police confirm 3 hostages escape Sydney cafe, unknown number remain inside #Sydneysiege'),\n (49937.53888888889,\n  112,\n  3775737,\n  860,\n  99522,\n  'true',\n  'UPDATE: Total of 5 people have been able to get out of Sydney cafe during hostage situation:'),\n (50691.50722222222,\n  267,\n  4931,\n  659,\n  8721,\n  'true',\n  'This is shot that captures the #sydneysiege: sheer terror/relief of escaped hostages, incredible work of @nswpolice'),\n (22221.305833333332,\n  20,\n  5520,\n  889,\n  9368,\n  'true',\n  'Reports on @channeltennews #sydneysiege gunman wants #ISIL flag delivered to cafe and he also wants to speak to PM or people will be killed.'),\n (17438.9925,\n  138,\n  187975,\n  4737,\n  37341,\n  'true',\n  'Five Hostages Escape Sydney Cafe Siege — Live Updates From @BuzzFeedOz'),\n (67748.51416666666,\n  34,\n  2927521,\n  385,\n  74294,\n  'true',\n  'Hostage taker in Sydney cafe demands ISIS flag and call with Australian PM, Sky News reports. #sydneysiege'),\n (67174.95611111111,\n  52,\n  2197338,\n  137,\n  133877,\n  'true',\n  'Five hostages have escaped the besieged Lindt Cafe in #Sydney | Our latest update:'),\n (67049.18722222222,\n  241,\n  12524120,\n  3,\n  22386,\n  'true',\n  'NSW Police confirm 5 hostages have emerged from #sydneysiege and they are negotiating: \"It might take a bit of time\"'),\n (54180.936944444446,\n  45,\n  306687,\n  1767,\n  84677,\n  'false',\n  \"Sydney airspace wasn't closed. A second terror suspect wasn't arrested. Myths around #sydneysiege debunked.\"),\n (64942.27444444445,\n  79,\n  1730647,\n  17,\n  120316,\n  'true',\n  \"TV channels have chosen not to show videos of hostages relaying #sydneysiege gunman's demands.\"),\n (31711.402222222223,\n  33,\n  201476,\n  3540,\n  21743,\n  'true',\n  'SYDNEY HOSTAGE-TAKER\\n- Man Monis, 49\\n- Originally from Iran\\n- Self-styled sheikh\\n- Accused of sexually assaulting 7 women\\nDEVELOPING..'),\n (50720.485555555555,\n  130,\n  442770,\n  81,\n  173889,\n  'true',\n  'Escaped #SydneySiege hostage, Elly Chen, a top student and skilled sportswoman'),\n (67056.50694444444,\n  146,\n  12523793,\n  3,\n  22389,\n  'true',\n  'Several more hostages flee from cafe under siege in Sydney, local media say'),\n (39422.17722222222,\n  41,\n  42209,\n  397,\n  29392,\n  'true',\n  'POLICE MOVE IN: Police confirm live ammunition used in Martin Place #sydneysiege'),\n (38433.52333333333,\n  53,\n  26144,\n  1644,\n  64114,\n  'true',\n  'Paramedics are currently carrying out a number of hostages in #MartinPl. #SydneySiege #9News'),\n (46857.15138888889,\n  61,\n  824634,\n  460,\n  102603,\n  'true',\n  'BREAKING: Police enter #Lindt cafe, hostages flee  #sydneysiege'),\n (53988.708333333336,\n  34,\n  150323,\n  84767,\n  114437,\n  'true',\n  'BREAKING  @SkyBusiness: freed hostage borne high from #sydneysiege w/c.4 paramedic teams on the scene ( carsonscottLI'),\n (67916.35638888889,\n  45,\n  4636556,\n  382,\n  188584,\n  'true',\n  'UPDATE: Hostages fleeing #Sydney cafe held by Iranian gunman as explosions, gunshots are heard:'),\n (68474.87444444445,\n  1,\n  1522763,\n  1319,\n  81504,\n  'true',\n  'Sydney siege: police enter cafe as hostages flee the scene, gunfire heard, reports of an injured person – live'),\n (10248.453333333333,\n  39,\n  1961,\n  136,\n  622,\n  'true',\n  'Police seem relaxed, suggesting all hostages are out and gunman no longer a threat #sydneysiege'),\n (67916.4661111111,\n  111,\n  4636479,\n  382,\n  188583,\n  'true',\n  '#SydneySiege: Latest video of hostages escaping.\\nhttps://t.co/eFfgSbt2hO'),\n (48721.71888888889,\n  33,\n  8159,\n  980,\n  13965,\n  'true',\n  'Haron Monis,Hostage-taker in #Sydney: Fled #Iran 96,suspect in ex-wife killing,46 sex assaults'),\n (38433.865,\n  275,\n  26261,\n  1644,\n  64126,\n  'true',\n  '#BREAKING: Police have confirmed that the #SydneySiege is over. #9News'),\n (24849.433333333334,\n  45,\n  4301,\n  1733,\n  31867,\n  'true',\n  '#BREAKING: At least two people have died following the #SydneySiege. 5 people are being treated by paramedics.'),\n (26165.905555555557,\n  22,\n  74034,\n  389,\n  24891,\n  'true',\n  '#sydneysiege is over. 2 confirmed dead, #PrayForSydney #PrayForSydneyHostages #Sydney #hostages'),\n (43455.877222222225,\n  133,\n  90208,\n  623,\n  34310,\n  'true',\n  'Police confirm that #sydneysiege is finally over. Two people reportedly injured after suffering gunshot wounds')]"
     },
     "execution_count": 916,
     "metadata": {},
     "output_type": "execute_result"
    }
   ],
   "source": [
    "allData = list()\n",
    "for index, row in df.iterrows():\n",
    "    text=re.sub(' http[s]?://(?:[a-zA-Z]|[0-9]|[$-_@.&+]|[!*\\(\\),]|(?:%[0-9a-fA-F][0-9a-fA-F]))+', \"\", row[\"text\"])\n",
    "    allData.append(((row[\"tweet_time\"]-row[\"created_at\"]).total_seconds()/3600,row[\"favorite_count\"],row[\"followers_count\"],row[\"friends_count\"],row[\"statuses_count\"],row[\"label\"],text))\n",
    "allData"
   ]
  },
  {
   "cell_type": "code",
   "execution_count": 917,
   "metadata": {},
   "outputs": [],
   "source": [
    "features = noStopUnigrams + [\"timeDiff\",\"friends\",\"statuses\",\"ffratio\",\"statusTime\"]\n",
    "trainingDataAll = pd.DataFrame(index=trainSet,columns=features)\n",
    "testingDataAll = pd.DataFrame(index=testSet,columns=features)"
   ]
  },
  {
   "cell_type": "code",
   "execution_count": 918,
   "metadata": {},
   "outputs": [
    {
     "data": {
      "text/plain": "272"
     },
     "execution_count": 918,
     "metadata": {},
     "output_type": "execute_result"
    }
   ],
   "source": [
    "len(allData)"
   ]
  },
  {
   "cell_type": "code",
   "execution_count": 919,
   "metadata": {},
   "outputs": [
    {
     "data": {
      "text/plain": "[(69428.01861111111,\n  684,\n  14134290,\n  3,\n  23811,\n  'true',\n  'Germanwings Airbus A320 crashes in French Alps near Digne'),\n (53162.21055555555,\n  5,\n  502598,\n  30,\n  109571,\n  'false',\n  'BREAKING: 148 passengers were on board #GermanWings Airbus A320 which has crashed in the southern French Alps'),\n (50306.946388888886,\n  10,\n  44760,\n  2245,\n  32865,\n  'true',\n  'Accident aircraft looks to be Germanwings (Airline code 4U or GWI) flight 9525, Barcelona to Dusseldorf. #4U9525'),\n (48397.7375,\n  17,\n  7846,\n  723,\n  1447,\n  'false',\n  'Now hearing 148 passengers + crew on board the #A320 that has crashed in southern French Alps. #GermanWings flight. @BBCWorld'),\n (54650.91027777778,\n  17,\n  756575,\n  361,\n  54532,\n  'false',\n  'German Wings airline tweeting now about reports of plane crashing in French Alps with 148 on board: @germanwings'),\n (67143.05333333333,\n  10,\n  2742831,\n  8137,\n  58973,\n  'true',\n  'Germanwings passenger plane crashes in France:'),\n (51529.81138888889,\n  17,\n  327148,\n  149,\n  157893,\n  'true',\n  'JUST IN: Germanwings plane crashes in southern France, up to 150 feared dead'),\n (43240.67138888889,\n  202,\n  214148,\n  369,\n  7991,\n  'true',\n  'Flight #4U9525 initially climbed to 38,000 feet before before it started to descend and lost signal at 6,800 feet.'),\n (47787.64472222222,\n  94,\n  145903,\n  86003,\n  5339,\n  'false',\n  'Heart goes out to 148 passengers and crew of Germanwings Airbus A320 that has crashed in French Alps, Southern France'),\n (68988.34416666666,\n  14,\n  7038,\n  347,\n  59569,\n  'false',\n  '1047 call: DGAC source says pilots called «urgence, urgence» (“emergency, emergency”), as opposed to a mayday call or 7700 squawk. #4U9525'),\n (25465.59388888889,\n  15,\n  21139,\n  21934,\n  6833,\n  'true',\n  \"#4U9525 From FL380 to FL110 in 8 min? That's average rate of descent 3375 fpm! Than levelled off at FL068? What the hell was going on there?\"),\n (69428.99111111111,\n  523,\n  14132292,\n  3,\n  23812,\n  'false',\n  '#Germanwings latest:\\n- #Airbus A320 crashes in French Alps\\n- Barcelona-to-Dusseldorf flight\\n- 142 passengers &amp; 6 crew'),\n (39449.908055555556,\n  1,\n  1523,\n  825,\n  18740,\n  'true',\n  'French junior minister for Transport Alain Vidalies confirms they are no survivors in the #Germanwings #A320 crash.'),\n (70426.6175,\n  33,\n  5122787,\n  2801,\n  134135,\n  'false',\n  'Latest on #Germanwings crash: Pilots signaled 911 before dropping out of midair; airline CEO calls this a \"dark day.\"'),\n (61476.78166666667,\n  42,\n  2168892,\n  2881,\n  49110,\n  'false',\n  '#Germanwings passenger plane crashes in French Alps with 148 onboard'),\n (58489.310277777775,\n  32,\n  418641,\n  1859,\n  21559,\n  'false',\n  'BREAKING: 148 feared dead in crashed #Germanwings flight'),\n (69429.93944444445,\n  497,\n  14137172,\n  3,\n  23815,\n  'true',\n  '#Germanwings \"sorry to confirm\" 144 passengers &amp; 6 crew on board flight #4U9525 when it crashed in French Alps'),\n (32736.508611111112,\n  4,\n  613,\n  732,\n  2741,\n  'false',\n  '@FRANCE24 reporter James André at French Civil Aviation Authority HQ: \"#Germanwings plane did NOT report distress signal\", no mayday.'),\n (68991.01222222223,\n  9,\n  7043,\n  347,\n  59569,\n  'true',\n  '#4U9525 took eight minutes to descend from 38,000 feet to impact, says Germanwings CEO Winkelmann.'),\n (19856.255555555555,\n  7,\n  262423,\n  4762,\n  43933,\n  'true',\n  'Report: Co-Pilot Locked Out Of Cockpit Before Fatal Plane Crash #Germanwings'),\n (59593.77222222222,\n  8,\n  36380,\n  4245,\n  21291,\n  'true',\n  'Names of pilots rumored to be Patrick Sonderheimer with co-pilot Andreas Lubitz - No formal confirmation yet. #germanwings'),\n (69036.81055555555,\n  3,\n  7419,\n  349,\n  59760,\n  'true',\n  '#4U9525: Robin names Andreas Lubitz as the copilot in the flight deck who crashed the aircraft.'),\n (34331.642222222225,\n  22,\n  27856,\n  27971,\n  35422,\n  'false',\n  'GERMAN NEWS: Co-Pilot of Germanwings Airbus Was MUSLIM CONVERT. Can any muslim be trusted near an airplane now?'),\n (58165.46944444445,\n  10,\n  1539329,\n  800,\n  114087,\n  'true',\n  \"RT @khjelmgaard: German media reporting #AndreasLubitz had a 'serious depressive episode' six years ago #Germanwings\"),\n (40512.45638888889,\n  5,\n  102889,\n  54515,\n  520062,\n  'false',\n  'GERMAN NEWS REPORT: Co-Pilot of Germanwings Airbus Was MUSLIM CONVERT …’Hero of Islamic State’? via @gatewaypundit')]"
     },
     "execution_count": 919,
     "metadata": {},
     "output_type": "execute_result"
    }
   ],
   "source": [
    "allDataTest = list()\n",
    "for index, row in dfTest.iterrows():\n",
    "    text=re.sub(' http[s]?://(?:[a-zA-Z]|[0-9]|[$-_@.&+]|[!*\\(\\),]|(?:%[0-9a-fA-F][0-9a-fA-F]))+', \"\", row[\"text\"])\n",
    "    allDataTest.append(((row[\"tweet_time\"]-row[\"created_at\"]).total_seconds()/3600,row[\"favorite_count\"],row[\"followers_count\"],row[\"friends_count\"],row[\"statuses_count\"],row[\"label\"],text))\n",
    "allDataTest"
   ]
  },
  {
   "cell_type": "code",
   "execution_count": 920,
   "metadata": {},
   "outputs": [],
   "source": [
    "features = noStopUnigrams + [\"timeDiff\",\"friends\",\"statuses\",\"ffratio\",\"statusTime\"]\n",
    "trainingDataAll = pd.DataFrame(index=trainSet,columns=features)\n",
    "testingDataAll = pd.DataFrame(index=testSet,columns=features)"
   ]
  },
  {
   "cell_type": "code",
   "execution_count": 921,
   "metadata": {},
   "outputs": [
    {
     "data": {
      "text/plain": "272"
     },
     "execution_count": 921,
     "metadata": {},
     "output_type": "execute_result"
    }
   ],
   "source": [
    "len(allData)"
   ]
  },
  {
   "cell_type": "code",
   "execution_count": 922,
   "metadata": {},
   "outputs": [],
   "source": [
    "for x in range(len(allData)):\n",
    "    trainingDataAll.loc[x,\"timeDiff\"]=allData[x][0]\n",
    "    trainingDataAll.loc[x,\"friends\"]=allData[x][3]\n",
    "    trainingDataAll.loc[x,\"statuses\"]=allData[x][4]\n",
    "    trainingDataAll.loc[x,\"ffratio\"]=allData[x][2]/allData[x][3]\n",
    "    trainingDataAll.loc[x,\"statusTime\"]=allData[x][4]/allData[x][0]\n",
    "    for item in noStopUnigrams:\n",
    "        if item in allData[x][6]:\n",
    "            trainingDataAll.loc[x,item]=1\n",
    "        else:\n",
    "            trainingDataAll.loc[x,item]=0"
   ]
  },
  {
   "cell_type": "code",
   "execution_count": 923,
   "metadata": {},
   "outputs": [],
   "source": [
    "for x in range(len(allDataTest)):\n",
    "    testingDataAll.loc[x,\"timeDiff\"]=allDataTest[x][0]\n",
    "    testingDataAll.loc[x,\"friends\"]=allDataTest[x][3]\n",
    "    testingDataAll.loc[x,\"statuses\"]=allDataTest[x][4]\n",
    "    testingDataAll.loc[x,\"ffratio\"]=allDataTest[x][2]/allDataTest[x][3]\n",
    "    testingDataAll.loc[x,\"statusTime\"]=allDataTest[x][4]/allDataTest[x][0]\n",
    "    for item in noStopUnigrams:\n",
    "        if item in allDataTest[x][6]:\n",
    "            testingDataAll.loc[x,item]=1\n",
    "        else:\n",
    "            testingDataAll.loc[x,item]=0"
   ]
  },
  {
   "cell_type": "code",
   "execution_count": 0,
   "metadata": {},
   "outputs": [],
   "source": [
    "allTrainingLabels=pd.DataFrame(index=trainSet,columns=[\"Label\"])\n",
    "allTestingLabels=pd.DataFrame(index=testSet,columns=[\"Label\"])\n",
    "\n",
    "for x in range(len(allData)):\n",
    "    allTrainingLabels.loc[x,\"Label\"]=allData[x][5]\n",
    "    \n",
    "for x in range(len(allDataTest)):\n",
    "    allTestingLabels.loc[x,\"Label\"]=allDataTest[x][5]"
   ]
  },
  {
   "cell_type": "code",
   "execution_count": 0,
   "metadata": {},
   "outputs": [],
   "source": [
    "#classifierUser = tree.DecisionTreeClassifier()\n",
    "#classifierUser = classifierUser.fit(trainingDataAll, allTrainingLabels.values.ravel())\n",
    "#output=classifierUser.predict(testingDataAll)\n",
    "#print(metrics.accuracy_score(allTestingLabels, output))\n",
    "from sklearn.ensemble import VotingClassifier\n",
    "ev1 = VotingClassifier(estimators=[('svm',clf),('nb',classifier),('dt',classifier4)],  voting='hard')\n",
    "ev1.fit(trainingDataAll, allTrainingLabels.values.ravel())\n",
    "output=ev1.predict(testingDataAll)\n",
    "print(metrics.accuracy_score(userTestingLabels, output))"
   ]
  },
  {
   "cell_type": "code",
   "execution_count": null,
   "metadata": {},
   "outputs": [],
   "source": []
  },
  {
   "cell_type": "code",
   "execution_count": 0,
   "metadata": {},
   "outputs": [],
   "source": [
    "otherContentData=list()\n",
    "otherContentDataTest=list()\n",
    "\n",
    "for index, row in df.iterrows():\n",
    "    url=0\n",
    "    hashtag=0\n",
    "    mention=0\n",
    "    if len(row['hashtags'])>0:\n",
    "        hashtag=1\n",
    "    if len(row['url'])>0:\n",
    "        url=1\n",
    "    if len(row['user_mentions'])>0:\n",
    "        mention=1\n",
    "    otherContentData.append((url,hashtag,mention,row[\"label\"]))\n",
    "for index, row in dfTest.iterrows():\n",
    "    url=0\n",
    "    hashtag=0\n",
    "    mention=0\n",
    "    if len(row['hashtags'])>0:\n",
    "        hashtag=1\n",
    "    if len(row['url'])>0:\n",
    "        url=1\n",
    "    if len(row['user_mentions'])>0:\n",
    "        mention=1\n",
    "    otherContentDataTest.append((url,hashtag,mention,row[\"label\"]))"
   ]
  },
  {
   "cell_type": "code",
   "execution_count": 0,
   "metadata": {},
   "outputs": [],
   "source": [
    "otherContentData"
   ]
  },
  {
   "cell_type": "code",
   "execution_count": 0,
   "metadata": {},
   "outputs": [],
   "source": [
    "hasURL = pd.DataFrame(index=trainSet,columns=[\"hasURL\"])\n",
    "hasMention = pd.DataFrame(index=trainSet,columns=[\"hasMention\"])\n",
    "hasHashtag = pd.DataFrame(index=trainSet,columns=[\"hasHashtag\"])\n",
    "otherContentLabels = pd.DataFrame(index=trainSet,columns=[\"Label\"])\n",
    "#hasMultimedia = pd.DataFrame(index=trainSet,columns=[\"hasMultimedia\"])\n",
    "\n",
    "hasURLTest = pd.DataFrame(index=testSet,columns=[\"hasURL\"])\n",
    "hasMentionTest = pd.DataFrame(index=testSet,columns=[\"hasMention\"])\n",
    "hasHashtagTest = pd.DataFrame(index=testSet,columns=[\"hasHashtag\"])\n",
    "otherContentLabelsTest = pd.DataFrame(index=testSet,columns=[\"Label\"])\n",
    "#hasMultimediaTest = pd.DataFrame(index=testSet,columns=[\"hasMultimedia\"])\n",
    "\n",
    "for x in range(len(otherContentData)):\n",
    "    otherContentLabels.loc[x,\"Label\"]=otherContentData[x][3]\n",
    "for x in range(len(userDataTest)):\n",
    "    otherContentLabelsTest.loc[x,\"Label\"]=otherContentDataTest[x][3]"
   ]
  },
  {
   "cell_type": "code",
   "execution_count": 0,
   "metadata": {},
   "outputs": [],
   "source": [
    "for x in range(len(otherContentData)):\n",
    "    hasURL.loc[x,\"hasURL\"]=otherContentData[x][0]\n",
    "for x in range(len(userDataTest)):\n",
    "    hasURLTest.loc[x,\"hasURL\"]=otherContentDataTest[x][0]\n",
    "\n",
    "#classifierUser = tree.DecisionTreeClassifier()\n",
    "#classifierUser = classifierUser.fit(hasURL, otherContentLabels.values.ravel())\n",
    "#output=classifierUser.predict(hasURLTest)\n",
    "#print(metrics.accuracy_score(otherContentLabelsTest, output))\n",
    "from sklearn.ensemble import VotingClassifier\n",
    "ev1 = VotingClassifier(estimators=[('svm',clf),('nb',classifier),('dt',classifier4)],  voting='hard')\n",
    "ev1.fit(hasURL, otherContentLabels.values.ravel())\n",
    "output=ev1.predict(hasURLTest)\n",
    "print(metrics.accuracy_score(otherContentLabelsTest, output))"
   ]
  },
  {
   "cell_type": "code",
   "execution_count": 0,
   "metadata": {},
   "outputs": [],
   "source": [
    "for x in range(len(otherContentData)):\n",
    "    hasMention.loc[x,\"hasMention\"]=otherContentData[x][2]\n",
    "for x in range(len(userDataTest)):\n",
    "    hasMentionTest.loc[x,\"hasMention\"]=otherContentDataTest[x][2]\n",
    "\n",
    "#classifierUser = tree.DecisionTreeClassifier()\n",
    "#classifierUser = classifierUser.fit(hasMention, otherContentLabels.values.ravel())\n",
    "#output=classifierUser.predict(hasMentionTest)\n",
    "#print(metrics.accuracy_score(otherContentLabelsTest, output))\n",
    " \n",
    "ev1 = VotingClassifier(estimators=[('svm',clf),('nb',classifier),('dt',classifier4)],  voting='hard')\n",
    "ev1.fit(hasMention, otherContentLabels.values.ravel())\n",
    "output=ev1.predict(hasMentionTest)\n",
    "print(metrics.accuracy_score(otherContentLabelsTest, output))"
   ]
  },
  {
   "cell_type": "code",
   "execution_count": 0,
   "metadata": {},
   "outputs": [],
   "source": [
    "for x in range(len(otherContentData)):\n",
    "    hasHashtag.loc[x,\"hasHashtag\"]=otherContentData[x][1]\n",
    "for x in range(len(userDataTest)):\n",
    "    hasHashtagTest.loc[x,\"hasHashtag\"]=otherContentDataTest[x][1]\n",
    "\n",
    "#classifierUser = tree.DecisionTreeClassifier()\n",
    "#classifierUser = classifierUser.fit(hasHashtag, otherContentLabels.values.ravel())\n",
    "#output=classifierUser.predict(hasHashtagTest)\n",
    "#print(metrics.accuracy_score(otherContentLabelsTest, output))\n",
    "from sklearn.ensemble import VotingClassifier\n",
    "ev1 = VotingClassifier(estimators=[('svm',clf),('nb',classifier),('dt',classifier4)],  voting='hard')\n",
    "ev1.fit(hasMention, otherContentLabels.values.ravel())\n",
    "output=ev1.predict(hasMentionTest)\n",
    "print(metrics.accuracy_score(otherContentLabelsTest, output))"
   ]
  },
  {
   "cell_type": "code",
   "execution_count": 0,
   "metadata": {},
   "outputs": [],
   "source": [
    "otherContentVector = pd.DataFrame(index=trainSet,columns=[\"hasHashtag\",\"hasMention\",\"hasURL\"])\n",
    "\n",
    "otherContentVectorTest = pd.DataFrame(index=testSet,columns=[\"hasHashtag\",\"hasMention\",\"hasURL\"])"
   ]
  },
  {
   "cell_type": "code",
   "execution_count": 0,
   "metadata": {},
   "outputs": [],
   "source": [
    "for x in range(len(otherContentData)):\n",
    "    otherContentVector.loc[x,\"hasHashtag\"]=otherContentData[x][1]\n",
    "    otherContentVector.loc[x,\"hasMention\"]=otherContentData[x][2]\n",
    "    otherContentVector.loc[x,\"hasURL\"]=otherContentData[x][0]\n",
    "for x in range(len(userDataTest)):\n",
    "    otherContentVectorTest.loc[x,\"hasHashtag\"]=otherContentData[x][1]\n",
    "    otherContentVectorTest.loc[x,\"hasMention\"]=otherContentData[x][2]\n",
    "    otherContentVectorTest.loc[x,\"hasURL\"]=otherContentData[x][0]\n",
    "\n",
    "from sklearn.ensemble import VotingClassifier\n",
    "ev1 = VotingClassifier(estimators=[('svm',clf),('nb',classifier),('dt',classifier4)],  voting='hard')\n",
    "ev1.fit(otherContentVector, otherContentLabels.values.ravel())\n",
    "output=ev1.predict(otherContentVectorTest)\n",
    "print(metrics.accuracy_score(otherContentLabelsTest, output))"
   ]
  },
  {
   "cell_type": "code",
   "execution_count": null,
   "metadata": {},
   "outputs": [],
   "source": []
  },
  {
   "cell_type": "code",
   "execution_count": null,
   "metadata": {},
   "outputs": [],
   "source": []
  },
  {
   "cell_type": "code",
   "execution_count": null,
   "metadata": {},
   "outputs": [],
   "source": []
  },
  {
   "cell_type": "code",
   "execution_count": null,
   "metadata": {},
   "outputs": [],
   "source": []
  },
  {
   "cell_type": "code",
   "execution_count": 0,
   "metadata": {},
   "outputs": [],
   "source": [
    " "
   ]
  }
 ],
 "metadata": {
  "kernelspec": {
   "display_name": "Python 3",
   "language": "python",
   "name": "python3"
  },
  "language_info": {
   "codemirror_mode": {
    "name": "ipython",
    "version": 3
   },
   "file_extension": ".py",
   "mimetype": "text/x-python",
   "name": "python",
   "nbconvert_exporter": "python",
   "pygments_lexer": "ipython3",
   "version": "3.7.4"
  }
 },
 "nbformat": 4,
 "nbformat_minor": 2
}